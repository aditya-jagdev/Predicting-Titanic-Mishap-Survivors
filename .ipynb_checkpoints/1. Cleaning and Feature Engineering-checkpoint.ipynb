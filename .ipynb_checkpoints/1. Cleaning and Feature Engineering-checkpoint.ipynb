{
 "cells": [
  {
   "cell_type": "markdown",
   "metadata": {},
   "source": [
    "## Predicting Titanic Mishap Survivors"
   ]
  },
  {
   "cell_type": "markdown",
   "metadata": {},
   "source": [
    "### Abstract"
   ]
  },
  {
   "cell_type": "markdown",
   "metadata": {},
   "source": [
    "This project aims to predict whether a particular passenger would survive the sinking of Titanic. Using the available details such as age, passenger class, location in the ship, etc. and a few derived/augmented features, the prediction is aided and the result is achieved to a certain degree.\n",
    "\n",
    "This project takes the reader through the data cleansing, feature engineering, and modelling aspects of the solution.\n",
    "Effort has been made to make decisions on the techniques to be used with the assumption that only data and facts available before it's sinking are used."
   ]
  },
  {
   "cell_type": "markdown",
   "metadata": {},
   "source": [
    "### List of Topics"
   ]
  },
  {
   "cell_type": "markdown",
   "metadata": {},
   "source": [
    "* Available Facts"
   ]
  },
  {
   "cell_type": "markdown",
   "metadata": {},
   "source": [
    "Summary"
   ]
  },
  {
   "cell_type": "code",
   "execution_count": 1,
   "metadata": {},
   "outputs": [],
   "source": [
    "import gensim\n",
    "import math\n",
    "import nltk\n",
    "import numpy as np\n",
    "import operator\n",
    "import pandas as pd\n",
    "import pickle\n",
    "import pydotplus\n",
    "import random\n",
    "import re\n",
    "import seaborn as sns\n",
    "import string\n",
    "import sys\n",
    "import time\n",
    "import warnings\n",
    "import zipfile\n",
    "\n",
    "from collections import Counter\n",
    "\n",
    "from gensim import corpora\n",
    "from gensim.models.coherencemodel import CoherenceModel\n",
    "from gensim.models.ldamodel import LdaModel\n",
    "from gensim.models.lsimodel import LsiModel\n",
    "\n",
    "from gensim.utils import simple_preprocess\n",
    "from gensim.utils import simple_preprocess\n",
    "\n",
    "from imblearn.under_sampling import RandomUnderSampler\n",
    "from imblearn.under_sampling import ClusterCentroids\n",
    "from imblearn.under_sampling import TomekLinks\n",
    "from imblearn.over_sampling import RandomOverSampler\n",
    "from imblearn.over_sampling import SMOTE\n",
    "\n",
    "from io import StringIO\n",
    "\n",
    "from IPython.display import Image\n",
    "\n",
    "from matplotlib import pyplot as plt\n",
    "from matplotlib import colors as mcolors\n",
    "from matplotlib import ticker\n",
    "\n",
    "from mlxtend.classifier import StackingClassifier\n",
    "\n",
    "from nltk.corpus import stopwords\n",
    "from nltk.tokenize import word_tokenize\n",
    "from nltk.tokenize import sent_tokenize\n",
    "from nltk.stem import WordNetLemmatizer\n",
    "from nltk.stem.porter import *\n",
    "from nltk.stem.wordnet import WordNetLemmatizer\n",
    "\n",
    "from pprint import pprint\n",
    "\n",
    "import pyLDAvis\n",
    "import pyLDAvis.gensim\n",
    "\n",
    "from scipy import stats\n",
    "from scipy.cluster import hierarchy as sch\n",
    "\n",
    "from sklearn.cluster import KMeans\n",
    "from sklearn.cluster import AgglomerativeClustering\n",
    "from sklearn.datasets import make_moons\n",
    "from sklearn.decomposition import LatentDirichletAllocation\n",
    "from sklearn.decomposition import PCA\n",
    "from sklearn.decomposition import TruncatedSVD\n",
    "from sklearn.ensemble import AdaBoostClassifier\n",
    "from sklearn.ensemble import BaggingClassifier\n",
    "from sklearn.ensemble import ExtraTreesClassifier\n",
    "from sklearn.ensemble import GradientBoostingClassifier\n",
    "from sklearn.ensemble import RandomForestClassifier\n",
    "from sklearn.ensemble import VotingClassifier\n",
    "from sklearn.feature_extraction.text import CountVectorizer\n",
    "from sklearn.feature_extraction.text import TfidfVectorizer\n",
    "from sklearn.feature_selection import chi2\n",
    "from sklearn.feature_selection import f_regression\n",
    "from sklearn.feature_selection import f_classif\n",
    "from sklearn.feature_selection import RFE\n",
    "from sklearn.feature_selection import SelectFromModel\n",
    "from sklearn.feature_selection import SelectKBest\n",
    "from sklearn.feature_selection import SelectPercentile\n",
    "from sklearn.linear_model import ElasticNet\n",
    "from sklearn.linear_model import Lasso\n",
    "from sklearn.linear_model import LogisticRegression\n",
    "from sklearn.linear_model import LinearRegression\n",
    "from sklearn.linear_model import Ridge\n",
    "from sklearn.metrics import accuracy_score\n",
    "from sklearn.metrics import auc\n",
    "from sklearn.metrics import classification_report\n",
    "from sklearn.metrics import confusion_matrix\n",
    "from sklearn.metrics import f1_score\n",
    "from sklearn.metrics import mean_squared_error\n",
    "from sklearn.metrics import mean_absolute_error\n",
    "from sklearn.metrics import precision_score\n",
    "from sklearn.metrics import precision_recall_fscore_support as error_metric\n",
    "from sklearn.metrics import r2_score\n",
    "from sklearn.metrics import recall_score\n",
    "from sklearn.metrics import roc_auc_score\n",
    "from sklearn.metrics import roc_curve\n",
    "from sklearn.model_selection import GridSearchCV\n",
    "from sklearn.model_selection import RandomizedSearchCV\n",
    "from sklearn.model_selection import train_test_split\n",
    "from sklearn.multiclass import OneVsRestClassifier\n",
    "from sklearn.naive_bayes import MultinomialNB\n",
    "from sklearn.pipeline import make_pipeline\n",
    "from sklearn.preprocessing import LabelEncoder\n",
    "from sklearn.preprocessing import MinMaxScaler\n",
    "from sklearn.preprocessing import StandardScaler\n",
    "from sklearn.svm import LinearSVC\n",
    "from sklearn.svm import LinearSVC\n",
    "from sklearn.svm import SVC\n",
    "from sklearn.tree import DecisionTreeClassifier\n",
    "from sklearn.tree import DecisionTreeRegressor\n",
    "from sklearn.tree import plot_tree\n",
    "\n",
    "from string import punctuation\n",
    "\n",
    "from textblob import TextBlob\n",
    "\n",
    "from vaderSentiment.vaderSentiment import SentimentIntensityAnalyzer\n",
    "\n",
    "from wordcloud import WordCloud\n",
    "from wordcloud import STOPWORDS\n",
    "\n",
    "from xgboost import XGBClassifier\n",
    "from xgboost import XGBRegressor\n",
    "\n",
    "warnings.filterwarnings('ignore')\n",
    "np.set_printoptions(threshold=sys.maxsize)"
   ]
  },
  {
   "cell_type": "markdown",
   "metadata": {},
   "source": [
    "### Available Facts"
   ]
  },
  {
   "cell_type": "markdown",
   "metadata": {},
   "source": [
    "There were 840 staterooms in all, 416 in First Class, 162 in Second Class, and 262 in Third Class.\n",
    "Titanic's passengers numbered 1,317 people: 324 in first class, 284 in second class, and 709 in third class\n",
    "\n",
    "49% – the percentage of passenger places that went unused (the loss of life could have been far great still).\n",
    "\n",
    "#### Total Capacity\n",
    "* Capacity: 3,547\n",
    "* Existed: 2,222\n",
    "\n",
    "#### Life belts\n",
    "* 3560\n",
    "\n",
    "#### Total Staff Capacity\n",
    "* Capacity: 945\n",
    "* Existed: 885\n",
    "\n",
    "#### Total Passenger Capacity\n",
    "* Capacity: 2566 \n",
    "* Existed: 1317\n",
    "\n",
    "#### First Class\n",
    "* Capacity: 1034\n",
    "* Existed: 325\n",
    "\n",
    "#### Second Class\n",
    "* Capacity: 510\n",
    "* Existed: 285\n",
    "\n",
    "#### Third Class\n",
    "* Capacity: 1022\n",
    "* Existed: 706\n",
    "\n",
    "* <code>Single men</code> were housed in the <code>bow</code> while <code>single women</code> and <code>families</code> were accommodated in the stern section, with families occupying the larger cabins.\n",
    "* ...all of whom were housed in private cabins of no more than 10 people\n",
    "* 84 two-berth cabins for the Third-class, and in all, 1,100 Third-class passengers could be accommodated"
   ]
  },
  {
   "cell_type": "code",
   "execution_count": 2,
   "metadata": {},
   "outputs": [],
   "source": [
    "def check_null(df, **kwargs):\n",
    "    '''Returns a dataframe which contains the number, % and bool of\n",
    "    missing values in columns'''\n",
    "    to_return = df.isnull().sum().to_frame()\n",
    "    to_return.columns = ['Number_Missing']\n",
    "    to_return['% Missing'] = (to_return['Number_Missing']/len(df))*100\n",
    "    to_return['Missing?'] = df.isnull().any()\n",
    "    \n",
    "    print(f'Total Columns: {len(df)}')\n",
    "    \n",
    "    if 'omit' in kwargs:\n",
    "        if kwargs['omit'] == False:\n",
    "            return to_return.sort_values(by='Number_Missing', ascending=False)\n",
    "    \n",
    "    to_return = to_return[ to_return['Number_Missing'] > 0 ]\n",
    "    \n",
    "    if len(to_return) == 0:\n",
    "        print('No missing values found.')\n",
    "        return\n",
    "    \n",
    "    return to_return.sort_values(by='Number_Missing', ascending=False)\n",
    "\n",
    "def attach_frequency(df, column):\n",
    "    '''Takes a dataframe and column name as input. Returns the dataframe\n",
    "    with an additional column which contains the freqeuncy of the values\n",
    "    in the column'''\n",
    "    frequency = df[column].value_counts().to_frame().reset_index()\n",
    "    frequency.columns = [column, f'{column}_frequency']\n",
    "    return pd.merge(left=df, right=frequency, on=column, how='left')\n",
    "\n",
    "def check_recurring(df):\n",
    "    \n",
    "    check_df = pd.DataFrame()\n",
    "    check_df['Column'] = df.columns\n",
    "    \n",
    "    unique = []\n",
    "    for column in check_df['Column']:\n",
    "        unique.append(df[column].nunique())\n",
    "    check_df['Unique Values'] = unique\n",
    "    \n",
    "    not_null = []\n",
    "    for column in check_df['Column']:\n",
    "        not_null.append(len(df[df[column].notnull()]))\n",
    "    check_df['Not Null Values'] = not_null\n",
    "    \n",
    "    check_df['Ratio to Total Number'] = check_df['Unique Values'] / check_df['Not Null Values']\n",
    "    \n",
    "    has_null = []\n",
    "    for column in check_df['Column']:\n",
    "        has_null.append(True if len(df[df[column].isnull()]) >= 1 else False)\n",
    "    check_df['Has Null'] = has_null\n",
    "    \n",
    "    check_df.sort_values(by=['Has Null', 'Ratio to Total Number'], ascending=(False, True), inplace=True)\n",
    "    \n",
    "    return check_df\n",
    "\n",
    "def set_x_tick_labels(multiples=10):\n",
    "    '''A code snippet used for formatting the X axis\n",
    "    ticker value occurences'''\n",
    "    ax = plt.gca()\n",
    "    ax.xaxis.set_major_formatter(ticker.FormatStrFormatter('%d'))\n",
    "    ax.xaxis.set_major_locator(ticker.MultipleLocator(base=multiples))\n",
    "    plt.show()"
   ]
  },
  {
   "cell_type": "code",
   "execution_count": 3,
   "metadata": {},
   "outputs": [],
   "source": [
    "path_train = \"data/train.csv\"\n",
    "path_test = \"data/test.csv\"\n",
    "path_submission = \"data/gender_submission.csv\""
   ]
  },
  {
   "cell_type": "code",
   "execution_count": 4,
   "metadata": {},
   "outputs": [],
   "source": [
    "df_train = pd.read_csv(path_train)\n",
    "df_test = pd.read_csv(path_test)\n",
    "df_submission = pd.read_csv(path_submission)"
   ]
  },
  {
   "cell_type": "code",
   "execution_count": 5,
   "metadata": {},
   "outputs": [],
   "source": [
    "data = pd.concat([df_train, df_test])"
   ]
  },
  {
   "cell_type": "code",
   "execution_count": 6,
   "metadata": {
    "scrolled": true
   },
   "outputs": [
    {
     "data": {
      "text/html": [
       "<div>\n",
       "<style scoped>\n",
       "    .dataframe tbody tr th:only-of-type {\n",
       "        vertical-align: middle;\n",
       "    }\n",
       "\n",
       "    .dataframe tbody tr th {\n",
       "        vertical-align: top;\n",
       "    }\n",
       "\n",
       "    .dataframe thead th {\n",
       "        text-align: right;\n",
       "    }\n",
       "</style>\n",
       "<table border=\"1\" class=\"dataframe\">\n",
       "  <thead>\n",
       "    <tr style=\"text-align: right;\">\n",
       "      <th></th>\n",
       "      <th>PassengerId</th>\n",
       "      <th>Survived</th>\n",
       "      <th>Pclass</th>\n",
       "      <th>Name</th>\n",
       "      <th>Sex</th>\n",
       "      <th>Age</th>\n",
       "      <th>SibSp</th>\n",
       "      <th>Parch</th>\n",
       "      <th>Ticket</th>\n",
       "      <th>Fare</th>\n",
       "      <th>Cabin</th>\n",
       "      <th>Embarked</th>\n",
       "    </tr>\n",
       "  </thead>\n",
       "  <tbody>\n",
       "    <tr>\n",
       "      <th>0</th>\n",
       "      <td>1</td>\n",
       "      <td>0.0</td>\n",
       "      <td>3</td>\n",
       "      <td>Braund, Mr. Owen Harris</td>\n",
       "      <td>male</td>\n",
       "      <td>22.0</td>\n",
       "      <td>1</td>\n",
       "      <td>0</td>\n",
       "      <td>A/5 21171</td>\n",
       "      <td>7.2500</td>\n",
       "      <td>NaN</td>\n",
       "      <td>S</td>\n",
       "    </tr>\n",
       "    <tr>\n",
       "      <th>1</th>\n",
       "      <td>2</td>\n",
       "      <td>1.0</td>\n",
       "      <td>1</td>\n",
       "      <td>Cumings, Mrs. John Bradley (Florence Briggs Th...</td>\n",
       "      <td>female</td>\n",
       "      <td>38.0</td>\n",
       "      <td>1</td>\n",
       "      <td>0</td>\n",
       "      <td>PC 17599</td>\n",
       "      <td>71.2833</td>\n",
       "      <td>C85</td>\n",
       "      <td>C</td>\n",
       "    </tr>\n",
       "    <tr>\n",
       "      <th>2</th>\n",
       "      <td>3</td>\n",
       "      <td>1.0</td>\n",
       "      <td>3</td>\n",
       "      <td>Heikkinen, Miss. Laina</td>\n",
       "      <td>female</td>\n",
       "      <td>26.0</td>\n",
       "      <td>0</td>\n",
       "      <td>0</td>\n",
       "      <td>STON/O2. 3101282</td>\n",
       "      <td>7.9250</td>\n",
       "      <td>NaN</td>\n",
       "      <td>S</td>\n",
       "    </tr>\n",
       "    <tr>\n",
       "      <th>3</th>\n",
       "      <td>4</td>\n",
       "      <td>1.0</td>\n",
       "      <td>1</td>\n",
       "      <td>Futrelle, Mrs. Jacques Heath (Lily May Peel)</td>\n",
       "      <td>female</td>\n",
       "      <td>35.0</td>\n",
       "      <td>1</td>\n",
       "      <td>0</td>\n",
       "      <td>113803</td>\n",
       "      <td>53.1000</td>\n",
       "      <td>C123</td>\n",
       "      <td>S</td>\n",
       "    </tr>\n",
       "    <tr>\n",
       "      <th>4</th>\n",
       "      <td>5</td>\n",
       "      <td>0.0</td>\n",
       "      <td>3</td>\n",
       "      <td>Allen, Mr. William Henry</td>\n",
       "      <td>male</td>\n",
       "      <td>35.0</td>\n",
       "      <td>0</td>\n",
       "      <td>0</td>\n",
       "      <td>373450</td>\n",
       "      <td>8.0500</td>\n",
       "      <td>NaN</td>\n",
       "      <td>S</td>\n",
       "    </tr>\n",
       "  </tbody>\n",
       "</table>\n",
       "</div>"
      ],
      "text/plain": [
       "   PassengerId  Survived  Pclass  \\\n",
       "0            1       0.0       3   \n",
       "1            2       1.0       1   \n",
       "2            3       1.0       3   \n",
       "3            4       1.0       1   \n",
       "4            5       0.0       3   \n",
       "\n",
       "                                                Name     Sex   Age  SibSp  \\\n",
       "0                            Braund, Mr. Owen Harris    male  22.0      1   \n",
       "1  Cumings, Mrs. John Bradley (Florence Briggs Th...  female  38.0      1   \n",
       "2                             Heikkinen, Miss. Laina  female  26.0      0   \n",
       "3       Futrelle, Mrs. Jacques Heath (Lily May Peel)  female  35.0      1   \n",
       "4                           Allen, Mr. William Henry    male  35.0      0   \n",
       "\n",
       "   Parch            Ticket     Fare Cabin Embarked  \n",
       "0      0         A/5 21171   7.2500   NaN        S  \n",
       "1      0          PC 17599  71.2833   C85        C  \n",
       "2      0  STON/O2. 3101282   7.9250   NaN        S  \n",
       "3      0            113803  53.1000  C123        S  \n",
       "4      0            373450   8.0500   NaN        S  "
      ]
     },
     "execution_count": 6,
     "metadata": {},
     "output_type": "execute_result"
    }
   ],
   "source": [
    "data.head()"
   ]
  },
  {
   "cell_type": "code",
   "execution_count": 7,
   "metadata": {},
   "outputs": [
    {
     "data": {
      "text/html": [
       "<div>\n",
       "<style scoped>\n",
       "    .dataframe tbody tr th:only-of-type {\n",
       "        vertical-align: middle;\n",
       "    }\n",
       "\n",
       "    .dataframe tbody tr th {\n",
       "        vertical-align: top;\n",
       "    }\n",
       "\n",
       "    .dataframe thead th {\n",
       "        text-align: right;\n",
       "    }\n",
       "</style>\n",
       "<table border=\"1\" class=\"dataframe\">\n",
       "  <thead>\n",
       "    <tr style=\"text-align: right;\">\n",
       "      <th></th>\n",
       "      <th>Pclass</th>\n",
       "      <th>Name</th>\n",
       "      <th>Sex</th>\n",
       "      <th>Age</th>\n",
       "      <th>SibSp</th>\n",
       "      <th>Parch</th>\n",
       "      <th>Ticket</th>\n",
       "      <th>Fare</th>\n",
       "      <th>Cabin</th>\n",
       "      <th>Embarked</th>\n",
       "      <th>Survived</th>\n",
       "    </tr>\n",
       "    <tr>\n",
       "      <th>PassengerId</th>\n",
       "      <th></th>\n",
       "      <th></th>\n",
       "      <th></th>\n",
       "      <th></th>\n",
       "      <th></th>\n",
       "      <th></th>\n",
       "      <th></th>\n",
       "      <th></th>\n",
       "      <th></th>\n",
       "      <th></th>\n",
       "      <th></th>\n",
       "    </tr>\n",
       "  </thead>\n",
       "  <tbody>\n",
       "    <tr>\n",
       "      <th>1</th>\n",
       "      <td>3</td>\n",
       "      <td>Braund, Mr. Owen Harris</td>\n",
       "      <td>male</td>\n",
       "      <td>22.0</td>\n",
       "      <td>1</td>\n",
       "      <td>0</td>\n",
       "      <td>A/5 21171</td>\n",
       "      <td>7.2500</td>\n",
       "      <td>NaN</td>\n",
       "      <td>S</td>\n",
       "      <td>0.0</td>\n",
       "    </tr>\n",
       "    <tr>\n",
       "      <th>2</th>\n",
       "      <td>1</td>\n",
       "      <td>Cumings, Mrs. John Bradley (Florence Briggs Th...</td>\n",
       "      <td>female</td>\n",
       "      <td>38.0</td>\n",
       "      <td>1</td>\n",
       "      <td>0</td>\n",
       "      <td>PC 17599</td>\n",
       "      <td>71.2833</td>\n",
       "      <td>C85</td>\n",
       "      <td>C</td>\n",
       "      <td>1.0</td>\n",
       "    </tr>\n",
       "    <tr>\n",
       "      <th>3</th>\n",
       "      <td>3</td>\n",
       "      <td>Heikkinen, Miss. Laina</td>\n",
       "      <td>female</td>\n",
       "      <td>26.0</td>\n",
       "      <td>0</td>\n",
       "      <td>0</td>\n",
       "      <td>STON/O2. 3101282</td>\n",
       "      <td>7.9250</td>\n",
       "      <td>NaN</td>\n",
       "      <td>S</td>\n",
       "      <td>1.0</td>\n",
       "    </tr>\n",
       "    <tr>\n",
       "      <th>4</th>\n",
       "      <td>1</td>\n",
       "      <td>Futrelle, Mrs. Jacques Heath (Lily May Peel)</td>\n",
       "      <td>female</td>\n",
       "      <td>35.0</td>\n",
       "      <td>1</td>\n",
       "      <td>0</td>\n",
       "      <td>113803</td>\n",
       "      <td>53.1000</td>\n",
       "      <td>C123</td>\n",
       "      <td>S</td>\n",
       "      <td>1.0</td>\n",
       "    </tr>\n",
       "    <tr>\n",
       "      <th>5</th>\n",
       "      <td>3</td>\n",
       "      <td>Allen, Mr. William Henry</td>\n",
       "      <td>male</td>\n",
       "      <td>35.0</td>\n",
       "      <td>0</td>\n",
       "      <td>0</td>\n",
       "      <td>373450</td>\n",
       "      <td>8.0500</td>\n",
       "      <td>NaN</td>\n",
       "      <td>S</td>\n",
       "      <td>0.0</td>\n",
       "    </tr>\n",
       "  </tbody>\n",
       "</table>\n",
       "</div>"
      ],
      "text/plain": [
       "             Pclass                                               Name  \\\n",
       "PassengerId                                                              \n",
       "1                 3                            Braund, Mr. Owen Harris   \n",
       "2                 1  Cumings, Mrs. John Bradley (Florence Briggs Th...   \n",
       "3                 3                             Heikkinen, Miss. Laina   \n",
       "4                 1       Futrelle, Mrs. Jacques Heath (Lily May Peel)   \n",
       "5                 3                           Allen, Mr. William Henry   \n",
       "\n",
       "                Sex   Age  SibSp  Parch            Ticket     Fare Cabin  \\\n",
       "PassengerId                                                                \n",
       "1              male  22.0      1      0         A/5 21171   7.2500   NaN   \n",
       "2            female  38.0      1      0          PC 17599  71.2833   C85   \n",
       "3            female  26.0      0      0  STON/O2. 3101282   7.9250   NaN   \n",
       "4            female  35.0      1      0            113803  53.1000  C123   \n",
       "5              male  35.0      0      0            373450   8.0500   NaN   \n",
       "\n",
       "            Embarked  Survived  \n",
       "PassengerId                     \n",
       "1                  S       0.0  \n",
       "2                  C       1.0  \n",
       "3                  S       1.0  \n",
       "4                  S       1.0  \n",
       "5                  S       0.0  "
      ]
     },
     "execution_count": 7,
     "metadata": {},
     "output_type": "execute_result"
    }
   ],
   "source": [
    "data = data[[ i for i in data.columns if i != 'Survived'] + ['Survived']]\n",
    "data.set_index(keys=['PassengerId'], inplace=True)\n",
    "data.head()"
   ]
  },
  {
   "cell_type": "markdown",
   "metadata": {},
   "source": [
    "### Data Cleaning and Feature Engineering"
   ]
  },
  {
   "cell_type": "code",
   "execution_count": 8,
   "metadata": {},
   "outputs": [
    {
     "name": "stdout",
     "output_type": "stream",
     "text": [
      "<class 'pandas.core.frame.DataFrame'>\n",
      "Int64Index: 1309 entries, 1 to 1309\n",
      "Data columns (total 11 columns):\n",
      " #   Column    Non-Null Count  Dtype  \n",
      "---  ------    --------------  -----  \n",
      " 0   Pclass    1309 non-null   int64  \n",
      " 1   Name      1309 non-null   object \n",
      " 2   Sex       1309 non-null   object \n",
      " 3   Age       1046 non-null   float64\n",
      " 4   SibSp     1309 non-null   int64  \n",
      " 5   Parch     1309 non-null   int64  \n",
      " 6   Ticket    1309 non-null   object \n",
      " 7   Fare      1308 non-null   float64\n",
      " 8   Cabin     295 non-null    object \n",
      " 9   Embarked  1307 non-null   object \n",
      " 10  Survived  891 non-null    float64\n",
      "dtypes: float64(3), int64(3), object(5)\n",
      "memory usage: 122.7+ KB\n"
     ]
    }
   ],
   "source": [
    "data.info()"
   ]
  },
  {
   "cell_type": "code",
   "execution_count": 9,
   "metadata": {},
   "outputs": [
    {
     "data": {
      "text/plain": [
       "{'Pclass': 'Ordinal',\n",
       " 'Name': 'Nominal',\n",
       " 'Sex': 'Nominal',\n",
       " 'Age': 'Continuous',\n",
       " 'SibSp': 'Discrete',\n",
       " 'Parch': 'Discrete',\n",
       " 'Ticket': 'Nominal',\n",
       " 'Fare': 'Continuous',\n",
       " 'Cabin': 'Nominal',\n",
       " 'Embarked': 'Nominal',\n",
       " 'Survived': 'Ordinal'}"
      ]
     },
     "execution_count": 9,
     "metadata": {},
     "output_type": "execute_result"
    }
   ],
   "source": [
    "column_type = ['Ordinal', 'Nominal', 'Nominal', 'Continuous', \n",
    "               'Discrete', 'Discrete', 'Nominal', 'Continuous',\n",
    "               'Nominal', 'Nominal', 'Ordinal']\n",
    "column_type = {key: value for key, value in zip(data.columns, column_type)}\n",
    "column_type"
   ]
  },
  {
   "cell_type": "code",
   "execution_count": 10,
   "metadata": {},
   "outputs": [
    {
     "data": {
      "text/html": [
       "<div>\n",
       "<style scoped>\n",
       "    .dataframe tbody tr th:only-of-type {\n",
       "        vertical-align: middle;\n",
       "    }\n",
       "\n",
       "    .dataframe tbody tr th {\n",
       "        vertical-align: top;\n",
       "    }\n",
       "\n",
       "    .dataframe thead th {\n",
       "        text-align: right;\n",
       "    }\n",
       "</style>\n",
       "<table border=\"1\" class=\"dataframe\">\n",
       "  <thead>\n",
       "    <tr style=\"text-align: right;\">\n",
       "      <th></th>\n",
       "      <th>count</th>\n",
       "      <th>mean</th>\n",
       "      <th>std</th>\n",
       "      <th>min</th>\n",
       "      <th>25%</th>\n",
       "      <th>50%</th>\n",
       "      <th>75%</th>\n",
       "      <th>max</th>\n",
       "    </tr>\n",
       "  </thead>\n",
       "  <tbody>\n",
       "    <tr>\n",
       "      <th>Pclass</th>\n",
       "      <td>1309.0</td>\n",
       "      <td>2.294882</td>\n",
       "      <td>0.837836</td>\n",
       "      <td>1.00</td>\n",
       "      <td>2.0000</td>\n",
       "      <td>3.0000</td>\n",
       "      <td>3.000</td>\n",
       "      <td>3.0000</td>\n",
       "    </tr>\n",
       "    <tr>\n",
       "      <th>Age</th>\n",
       "      <td>1046.0</td>\n",
       "      <td>29.881138</td>\n",
       "      <td>14.413493</td>\n",
       "      <td>0.17</td>\n",
       "      <td>21.0000</td>\n",
       "      <td>28.0000</td>\n",
       "      <td>39.000</td>\n",
       "      <td>80.0000</td>\n",
       "    </tr>\n",
       "    <tr>\n",
       "      <th>SibSp</th>\n",
       "      <td>1309.0</td>\n",
       "      <td>0.498854</td>\n",
       "      <td>1.041658</td>\n",
       "      <td>0.00</td>\n",
       "      <td>0.0000</td>\n",
       "      <td>0.0000</td>\n",
       "      <td>1.000</td>\n",
       "      <td>8.0000</td>\n",
       "    </tr>\n",
       "    <tr>\n",
       "      <th>Parch</th>\n",
       "      <td>1309.0</td>\n",
       "      <td>0.385027</td>\n",
       "      <td>0.865560</td>\n",
       "      <td>0.00</td>\n",
       "      <td>0.0000</td>\n",
       "      <td>0.0000</td>\n",
       "      <td>0.000</td>\n",
       "      <td>9.0000</td>\n",
       "    </tr>\n",
       "    <tr>\n",
       "      <th>Fare</th>\n",
       "      <td>1308.0</td>\n",
       "      <td>33.295479</td>\n",
       "      <td>51.758668</td>\n",
       "      <td>0.00</td>\n",
       "      <td>7.8958</td>\n",
       "      <td>14.4542</td>\n",
       "      <td>31.275</td>\n",
       "      <td>512.3292</td>\n",
       "    </tr>\n",
       "    <tr>\n",
       "      <th>Survived</th>\n",
       "      <td>891.0</td>\n",
       "      <td>0.383838</td>\n",
       "      <td>0.486592</td>\n",
       "      <td>0.00</td>\n",
       "      <td>0.0000</td>\n",
       "      <td>0.0000</td>\n",
       "      <td>1.000</td>\n",
       "      <td>1.0000</td>\n",
       "    </tr>\n",
       "  </tbody>\n",
       "</table>\n",
       "</div>"
      ],
      "text/plain": [
       "           count       mean        std   min      25%      50%     75%  \\\n",
       "Pclass    1309.0   2.294882   0.837836  1.00   2.0000   3.0000   3.000   \n",
       "Age       1046.0  29.881138  14.413493  0.17  21.0000  28.0000  39.000   \n",
       "SibSp     1309.0   0.498854   1.041658  0.00   0.0000   0.0000   1.000   \n",
       "Parch     1309.0   0.385027   0.865560  0.00   0.0000   0.0000   0.000   \n",
       "Fare      1308.0  33.295479  51.758668  0.00   7.8958  14.4542  31.275   \n",
       "Survived   891.0   0.383838   0.486592  0.00   0.0000   0.0000   1.000   \n",
       "\n",
       "               max  \n",
       "Pclass      3.0000  \n",
       "Age        80.0000  \n",
       "SibSp       8.0000  \n",
       "Parch       9.0000  \n",
       "Fare      512.3292  \n",
       "Survived    1.0000  "
      ]
     },
     "execution_count": 10,
     "metadata": {},
     "output_type": "execute_result"
    }
   ],
   "source": [
    "data.describe().T"
   ]
  },
  {
   "cell_type": "markdown",
   "metadata": {},
   "source": [
    "### Cleaning Age and Fare Values"
   ]
  },
  {
   "cell_type": "markdown",
   "metadata": {},
   "source": [
    "* Age contains float values as well, which would be better if kept as discrete int values.\n",
    "* Looks like values in Fare are spread out and may contain outliers."
   ]
  },
  {
   "cell_type": "code",
   "execution_count": 11,
   "metadata": {},
   "outputs": [],
   "source": [
    "data['Age'].update( data[ data['Age'].notnull() ]['Age'].apply(\n",
    "                        lambda x: int(round(float(x))) \n",
    "                                    if type(x) == float \n",
    "                                    else np.nan))"
   ]
  },
  {
   "cell_type": "code",
   "execution_count": 12,
   "metadata": {},
   "outputs": [
    {
     "data": {
      "text/plain": [
       "8.0500     60\n",
       "13.0000    59\n",
       "7.7500     55\n",
       "26.0000    50\n",
       "7.8958     49\n",
       "           ..\n",
       "33.5000     1\n",
       "7.8000      1\n",
       "26.3875     1\n",
       "15.5792     1\n",
       "7.1417      1\n",
       "Name: Fare, Length: 281, dtype: int64"
      ]
     },
     "execution_count": 12,
     "metadata": {},
     "output_type": "execute_result"
    }
   ],
   "source": [
    "data['Fare'].value_counts()"
   ]
  },
  {
   "cell_type": "markdown",
   "metadata": {},
   "source": [
    "* Fare shouldn't have more than 2 decimal places. Rounding it off to 2 decimal places."
   ]
  },
  {
   "cell_type": "code",
   "execution_count": 13,
   "metadata": {},
   "outputs": [],
   "source": [
    "data['Fare'] = data['Fare'].apply(lambda x: round(x, ndigits=2))"
   ]
  },
  {
   "cell_type": "markdown",
   "metadata": {},
   "source": [
    "* It may be possible that some people shared tickets. Checking validity of assumption."
   ]
  },
  {
   "cell_type": "markdown",
   "metadata": {},
   "source": [
    "### Feature Created: Ticket Shared With"
   ]
  },
  {
   "cell_type": "code",
   "execution_count": 14,
   "metadata": {},
   "outputs": [],
   "source": [
    "grouped_tickets = data.groupby('Ticket').groups\n",
    "\n",
    "ticket_shared_with = {}\n",
    "\n",
    "for ticket in grouped_tickets:\n",
    "    ticket_shared_with[ticket] = len(grouped_tickets[ticket])\n",
    "\n",
    "data['Ticket Shared With'] = 0\n",
    "for ticket in ticket_shared_with:\n",
    "    data['Ticket Shared With'] = np.where( data['Ticket'] == ticket, \n",
    "                                          ticket_shared_with[ticket], \n",
    "                                          data['Ticket Shared With'])"
   ]
  },
  {
   "cell_type": "code",
   "execution_count": 15,
   "metadata": {},
   "outputs": [
    {
     "data": {
      "text/plain": [
       "PassengerId\n",
       "181     11\n",
       "325     11\n",
       "864     11\n",
       "847     11\n",
       "1257    11\n",
       "        ..\n",
       "741      1\n",
       "740      1\n",
       "739      1\n",
       "735      1\n",
       "1        1\n",
       "Name: Ticket Shared With, Length: 1309, dtype: int64"
      ]
     },
     "execution_count": 15,
     "metadata": {},
     "output_type": "execute_result"
    }
   ],
   "source": [
    "data['Ticket Shared With'].sort_values(ascending=False)"
   ]
  },
  {
   "cell_type": "markdown",
   "metadata": {},
   "source": [
    "* Assumption verified to be true. Upto 11 people shared the same ticket.\n",
    "* Now because the tickets were shared, it should be checked if fare is individual to each passenger or fare is applicable for the entire group. Checking validity of assumption."
   ]
  },
  {
   "cell_type": "code",
   "execution_count": 16,
   "metadata": {
    "scrolled": true
   },
   "outputs": [
    {
     "data": {
      "text/plain": [
       "929"
      ]
     },
     "execution_count": 16,
     "metadata": {},
     "output_type": "execute_result"
    }
   ],
   "source": [
    "data['Ticket'].nunique()"
   ]
  },
  {
   "cell_type": "code",
   "execution_count": 17,
   "metadata": {},
   "outputs": [
    {
     "data": {
      "text/plain": [
       "930"
      ]
     },
     "execution_count": 17,
     "metadata": {},
     "output_type": "execute_result"
    }
   ],
   "source": [
    "len(data.groupby(by=['Ticket', 'Fare']).groups)"
   ]
  },
  {
   "cell_type": "markdown",
   "metadata": {},
   "source": [
    "* There is one ticket under which the passengers paid different amounts.\n",
    "* Other than that, all other tickets contain the same shared Fare.\n",
    "* In order to check if the fares given are shared or not, I will check the difference in means."
   ]
  },
  {
   "cell_type": "code",
   "execution_count": 18,
   "metadata": {},
   "outputs": [
    {
     "data": {
      "text/plain": [
       "11.868441011235955"
      ]
     },
     "execution_count": 18,
     "metadata": {},
     "output_type": "execute_result"
    }
   ],
   "source": [
    "data[ data['Ticket Shared With'] == 1]['Fare'].mean()"
   ]
  },
  {
   "cell_type": "code",
   "execution_count": 19,
   "metadata": {},
   "outputs": [
    {
     "data": {
      "text/plain": [
       "37.24518939393939"
      ]
     },
     "execution_count": 19,
     "metadata": {},
     "output_type": "execute_result"
    }
   ],
   "source": [
    "data[ data['Ticket Shared With'] == 2]['Fare'].mean()"
   ]
  },
  {
   "cell_type": "markdown",
   "metadata": {},
   "source": [
    "* Clearly, the difference in price 1 passenger ticket and 2 passenger ticket is significant.\n",
    "* It is confirmed that the tickets contain cumulative fare.\n",
    "* Cleaning the occurrences where different fares are given."
   ]
  },
  {
   "cell_type": "code",
   "execution_count": 20,
   "metadata": {},
   "outputs": [
    {
     "data": {
      "text/plain": [
       "7534         2\n",
       "C.A. 2673    1\n",
       "367227       1\n",
       "PC 17755     1\n",
       "14973        1\n",
       "            ..\n",
       "349248       1\n",
       "349204       1\n",
       "345770       1\n",
       "2689         1\n",
       "343095       1\n",
       "Length: 929, dtype: int64"
      ]
     },
     "execution_count": 20,
     "metadata": {},
     "output_type": "execute_result"
    }
   ],
   "source": [
    "pd.Series([i[0] for i in list(data.groupby(by=['Ticket', 'Fare'], as_index=False).groups.keys())]).value_counts()"
   ]
  },
  {
   "cell_type": "code",
   "execution_count": 21,
   "metadata": {},
   "outputs": [
    {
     "data": {
      "text/html": [
       "<div>\n",
       "<style scoped>\n",
       "    .dataframe tbody tr th:only-of-type {\n",
       "        vertical-align: middle;\n",
       "    }\n",
       "\n",
       "    .dataframe tbody tr th {\n",
       "        vertical-align: top;\n",
       "    }\n",
       "\n",
       "    .dataframe thead th {\n",
       "        text-align: right;\n",
       "    }\n",
       "</style>\n",
       "<table border=\"1\" class=\"dataframe\">\n",
       "  <thead>\n",
       "    <tr style=\"text-align: right;\">\n",
       "      <th></th>\n",
       "      <th>Pclass</th>\n",
       "      <th>Name</th>\n",
       "      <th>Sex</th>\n",
       "      <th>Age</th>\n",
       "      <th>SibSp</th>\n",
       "      <th>Parch</th>\n",
       "      <th>Ticket</th>\n",
       "      <th>Fare</th>\n",
       "      <th>Cabin</th>\n",
       "      <th>Embarked</th>\n",
       "      <th>Survived</th>\n",
       "      <th>Ticket Shared With</th>\n",
       "    </tr>\n",
       "    <tr>\n",
       "      <th>PassengerId</th>\n",
       "      <th></th>\n",
       "      <th></th>\n",
       "      <th></th>\n",
       "      <th></th>\n",
       "      <th></th>\n",
       "      <th></th>\n",
       "      <th></th>\n",
       "      <th></th>\n",
       "      <th></th>\n",
       "      <th></th>\n",
       "      <th></th>\n",
       "      <th></th>\n",
       "    </tr>\n",
       "  </thead>\n",
       "  <tbody>\n",
       "    <tr>\n",
       "      <th>139</th>\n",
       "      <td>3</td>\n",
       "      <td>Osen, Mr. Olaf Elon</td>\n",
       "      <td>male</td>\n",
       "      <td>16.0</td>\n",
       "      <td>0</td>\n",
       "      <td>0</td>\n",
       "      <td>7534</td>\n",
       "      <td>9.22</td>\n",
       "      <td>NaN</td>\n",
       "      <td>S</td>\n",
       "      <td>0.0</td>\n",
       "      <td>2</td>\n",
       "    </tr>\n",
       "    <tr>\n",
       "      <th>877</th>\n",
       "      <td>3</td>\n",
       "      <td>Gustafsson, Mr. Alfred Ossian</td>\n",
       "      <td>male</td>\n",
       "      <td>20.0</td>\n",
       "      <td>0</td>\n",
       "      <td>0</td>\n",
       "      <td>7534</td>\n",
       "      <td>9.85</td>\n",
       "      <td>NaN</td>\n",
       "      <td>S</td>\n",
       "      <td>0.0</td>\n",
       "      <td>2</td>\n",
       "    </tr>\n",
       "  </tbody>\n",
       "</table>\n",
       "</div>"
      ],
      "text/plain": [
       "             Pclass                           Name   Sex   Age  SibSp  Parch  \\\n",
       "PassengerId                                                                    \n",
       "139               3            Osen, Mr. Olaf Elon  male  16.0      0      0   \n",
       "877               3  Gustafsson, Mr. Alfred Ossian  male  20.0      0      0   \n",
       "\n",
       "            Ticket  Fare Cabin Embarked  Survived  Ticket Shared With  \n",
       "PassengerId                                                            \n",
       "139           7534  9.22   NaN        S       0.0                   2  \n",
       "877           7534  9.85   NaN        S       0.0                   2  "
      ]
     },
     "execution_count": 21,
     "metadata": {},
     "output_type": "execute_result"
    }
   ],
   "source": [
    "data[ data['Ticket'] == '7534']"
   ]
  },
  {
   "cell_type": "code",
   "execution_count": 22,
   "metadata": {},
   "outputs": [
    {
     "data": {
      "text/html": [
       "<div>\n",
       "<style scoped>\n",
       "    .dataframe tbody tr th:only-of-type {\n",
       "        vertical-align: middle;\n",
       "    }\n",
       "\n",
       "    .dataframe tbody tr th {\n",
       "        vertical-align: top;\n",
       "    }\n",
       "\n",
       "    .dataframe thead th {\n",
       "        text-align: right;\n",
       "    }\n",
       "</style>\n",
       "<table border=\"1\" class=\"dataframe\">\n",
       "  <thead>\n",
       "    <tr style=\"text-align: right;\">\n",
       "      <th></th>\n",
       "      <th>Pclass</th>\n",
       "      <th>Name</th>\n",
       "      <th>Sex</th>\n",
       "      <th>Age</th>\n",
       "      <th>SibSp</th>\n",
       "      <th>Parch</th>\n",
       "      <th>Ticket</th>\n",
       "      <th>Fare</th>\n",
       "      <th>Cabin</th>\n",
       "      <th>Embarked</th>\n",
       "      <th>Survived</th>\n",
       "      <th>Ticket Shared With</th>\n",
       "    </tr>\n",
       "    <tr>\n",
       "      <th>PassengerId</th>\n",
       "      <th></th>\n",
       "      <th></th>\n",
       "      <th></th>\n",
       "      <th></th>\n",
       "      <th></th>\n",
       "      <th></th>\n",
       "      <th></th>\n",
       "      <th></th>\n",
       "      <th></th>\n",
       "      <th></th>\n",
       "      <th></th>\n",
       "      <th></th>\n",
       "    </tr>\n",
       "  </thead>\n",
       "  <tbody>\n",
       "    <tr>\n",
       "      <th>139</th>\n",
       "      <td>3</td>\n",
       "      <td>Osen, Mr. Olaf Elon</td>\n",
       "      <td>male</td>\n",
       "      <td>16.0</td>\n",
       "      <td>0</td>\n",
       "      <td>0</td>\n",
       "      <td>7534</td>\n",
       "      <td>19.07</td>\n",
       "      <td>NaN</td>\n",
       "      <td>S</td>\n",
       "      <td>0.0</td>\n",
       "      <td>2</td>\n",
       "    </tr>\n",
       "    <tr>\n",
       "      <th>877</th>\n",
       "      <td>3</td>\n",
       "      <td>Gustafsson, Mr. Alfred Ossian</td>\n",
       "      <td>male</td>\n",
       "      <td>20.0</td>\n",
       "      <td>0</td>\n",
       "      <td>0</td>\n",
       "      <td>7534</td>\n",
       "      <td>19.07</td>\n",
       "      <td>NaN</td>\n",
       "      <td>S</td>\n",
       "      <td>0.0</td>\n",
       "      <td>2</td>\n",
       "    </tr>\n",
       "  </tbody>\n",
       "</table>\n",
       "</div>"
      ],
      "text/plain": [
       "             Pclass                           Name   Sex   Age  SibSp  Parch  \\\n",
       "PassengerId                                                                    \n",
       "139               3            Osen, Mr. Olaf Elon  male  16.0      0      0   \n",
       "877               3  Gustafsson, Mr. Alfred Ossian  male  20.0      0      0   \n",
       "\n",
       "            Ticket   Fare Cabin Embarked  Survived  Ticket Shared With  \n",
       "PassengerId                                                             \n",
       "139           7534  19.07   NaN        S       0.0                   2  \n",
       "877           7534  19.07   NaN        S       0.0                   2  "
      ]
     },
     "execution_count": 22,
     "metadata": {},
     "output_type": "execute_result"
    }
   ],
   "source": [
    "data['Fare'] = np.where(data['Ticket'] == '7534',\n",
    "                       9.22 + 9.85,\n",
    "                       data['Fare'])\n",
    "data[ data['Ticket'] == '7534']"
   ]
  },
  {
   "cell_type": "markdown",
   "metadata": {},
   "source": [
    "* Normalizing the fares now."
   ]
  },
  {
   "cell_type": "code",
   "execution_count": 23,
   "metadata": {},
   "outputs": [],
   "source": [
    "data['Fare Individual'] = data['Fare'] / data['Ticket Shared With']"
   ]
  },
  {
   "cell_type": "markdown",
   "metadata": {},
   "source": [
    "* Checking for outliers in Fare."
   ]
  },
  {
   "cell_type": "code",
   "execution_count": 24,
   "metadata": {
    "scrolled": false
   },
   "outputs": [
    {
     "data": {
      "image/png": "[encoded data removed]",
      "text/plain": [
       "<Figure size 360x360 with 1 Axes>"
      ]
     },
     "metadata": {
      "needs_background": "light"
     },
     "output_type": "display_data"
    }
   ],
   "source": [
    "figure = sns.factorplot(x='Pclass' , y='Fare Individual', data=data, kind='box')"
   ]
  },
  {
   "cell_type": "code",
   "execution_count": 25,
   "metadata": {},
   "outputs": [
    {
     "data": {
      "text/html": [
       "<div>\n",
       "<style scoped>\n",
       "    .dataframe tbody tr th:only-of-type {\n",
       "        vertical-align: middle;\n",
       "    }\n",
       "\n",
       "    .dataframe tbody tr th {\n",
       "        vertical-align: top;\n",
       "    }\n",
       "\n",
       "    .dataframe thead th {\n",
       "        text-align: right;\n",
       "    }\n",
       "</style>\n",
       "<table border=\"1\" class=\"dataframe\">\n",
       "  <thead>\n",
       "    <tr style=\"text-align: right;\">\n",
       "      <th></th>\n",
       "      <th>Pclass</th>\n",
       "      <th>Name</th>\n",
       "      <th>Sex</th>\n",
       "      <th>Age</th>\n",
       "      <th>SibSp</th>\n",
       "      <th>Parch</th>\n",
       "      <th>Ticket</th>\n",
       "      <th>Fare</th>\n",
       "      <th>Cabin</th>\n",
       "      <th>Embarked</th>\n",
       "      <th>Survived</th>\n",
       "      <th>Ticket Shared With</th>\n",
       "      <th>Fare Individual</th>\n",
       "    </tr>\n",
       "    <tr>\n",
       "      <th>PassengerId</th>\n",
       "      <th></th>\n",
       "      <th></th>\n",
       "      <th></th>\n",
       "      <th></th>\n",
       "      <th></th>\n",
       "      <th></th>\n",
       "      <th></th>\n",
       "      <th></th>\n",
       "      <th></th>\n",
       "      <th></th>\n",
       "      <th></th>\n",
       "      <th></th>\n",
       "      <th></th>\n",
       "    </tr>\n",
       "  </thead>\n",
       "  <tbody>\n",
       "    <tr>\n",
       "      <th>259</th>\n",
       "      <td>1</td>\n",
       "      <td>Ward, Miss. Anna</td>\n",
       "      <td>female</td>\n",
       "      <td>35.0</td>\n",
       "      <td>0</td>\n",
       "      <td>0</td>\n",
       "      <td>PC 17755</td>\n",
       "      <td>512.33</td>\n",
       "      <td>NaN</td>\n",
       "      <td>C</td>\n",
       "      <td>1.0</td>\n",
       "      <td>4</td>\n",
       "      <td>128.0825</td>\n",
       "    </tr>\n",
       "    <tr>\n",
       "      <th>680</th>\n",
       "      <td>1</td>\n",
       "      <td>Cardeza, Mr. Thomas Drake Martinez</td>\n",
       "      <td>male</td>\n",
       "      <td>36.0</td>\n",
       "      <td>0</td>\n",
       "      <td>1</td>\n",
       "      <td>PC 17755</td>\n",
       "      <td>512.33</td>\n",
       "      <td>B51 B53 B55</td>\n",
       "      <td>C</td>\n",
       "      <td>1.0</td>\n",
       "      <td>4</td>\n",
       "      <td>128.0825</td>\n",
       "    </tr>\n",
       "    <tr>\n",
       "      <th>738</th>\n",
       "      <td>1</td>\n",
       "      <td>Lesurer, Mr. Gustave J</td>\n",
       "      <td>male</td>\n",
       "      <td>35.0</td>\n",
       "      <td>0</td>\n",
       "      <td>0</td>\n",
       "      <td>PC 17755</td>\n",
       "      <td>512.33</td>\n",
       "      <td>B101</td>\n",
       "      <td>C</td>\n",
       "      <td>1.0</td>\n",
       "      <td>4</td>\n",
       "      <td>128.0825</td>\n",
       "    </tr>\n",
       "    <tr>\n",
       "      <th>1235</th>\n",
       "      <td>1</td>\n",
       "      <td>Cardeza, Mrs. James Warburton Martinez (Charlo...</td>\n",
       "      <td>female</td>\n",
       "      <td>58.0</td>\n",
       "      <td>0</td>\n",
       "      <td>1</td>\n",
       "      <td>PC 17755</td>\n",
       "      <td>512.33</td>\n",
       "      <td>B51 B53 B55</td>\n",
       "      <td>C</td>\n",
       "      <td>NaN</td>\n",
       "      <td>4</td>\n",
       "      <td>128.0825</td>\n",
       "    </tr>\n",
       "  </tbody>\n",
       "</table>\n",
       "</div>"
      ],
      "text/plain": [
       "             Pclass                                               Name  \\\n",
       "PassengerId                                                              \n",
       "259               1                                   Ward, Miss. Anna   \n",
       "680               1                 Cardeza, Mr. Thomas Drake Martinez   \n",
       "738               1                             Lesurer, Mr. Gustave J   \n",
       "1235              1  Cardeza, Mrs. James Warburton Martinez (Charlo...   \n",
       "\n",
       "                Sex   Age  SibSp  Parch    Ticket    Fare        Cabin  \\\n",
       "PassengerId                                                              \n",
       "259          female  35.0      0      0  PC 17755  512.33          NaN   \n",
       "680            male  36.0      0      1  PC 17755  512.33  B51 B53 B55   \n",
       "738            male  35.0      0      0  PC 17755  512.33         B101   \n",
       "1235         female  58.0      0      1  PC 17755  512.33  B51 B53 B55   \n",
       "\n",
       "            Embarked  Survived  Ticket Shared With  Fare Individual  \n",
       "PassengerId                                                          \n",
       "259                C       1.0                   4         128.0825  \n",
       "680                C       1.0                   4         128.0825  \n",
       "738                C       1.0                   4         128.0825  \n",
       "1235               C       NaN                   4         128.0825  "
      ]
     },
     "execution_count": 25,
     "metadata": {},
     "output_type": "execute_result"
    }
   ],
   "source": [
    "data[ data['Fare Individual'] > 100]"
   ]
  },
  {
   "cell_type": "markdown",
   "metadata": {},
   "source": [
    "* These outliers have absurdly high values but share the common fact that they survived.\n",
    "* Let's verify if the passengers with outlier fares had a significant difference in chance of surviving."
   ]
  },
  {
   "cell_type": "code",
   "execution_count": 26,
   "metadata": {},
   "outputs": [
    {
     "data": {
      "image/png": "[encoded data removed]",
      "text/plain": [
       "<Figure size 432x288 with 1 Axes>"
      ]
     },
     "metadata": {
      "needs_background": "light"
     },
     "output_type": "display_data"
    }
   ],
   "source": [
    "figure = sns.countplot(x='Survived', data=data[ data['Fare Individual'] > 60 ])"
   ]
  },
  {
   "cell_type": "markdown",
   "metadata": {},
   "source": [
    "* It seems like paying high amounts of money meant getting preference.\n",
    "* Verifying if the same is applicable for all classes."
   ]
  },
  {
   "cell_type": "code",
   "execution_count": 27,
   "metadata": {},
   "outputs": [
    {
     "data": {
      "image/png": "[encoded data removed]",
      "text/plain": [
       "<Figure size 432x288 with 1 Axes>"
      ]
     },
     "metadata": {
      "needs_background": "light"
     },
     "output_type": "display_data"
    }
   ],
   "source": [
    "figure = sns.countplot(x='Survived', data=data[ (data['Fare Individual'] > 15)\n",
    "                                              & (data['Pclass'] == 3)])"
   ]
  },
  {
   "cell_type": "markdown",
   "metadata": {},
   "source": [
    "* So paying significantly higher than others did not affect survivability for anyone is Pclass 3. No outliers were found in Pclass 2.\n",
    "* Since paying more did not have any effect, either the prices were unfair (each passenger persuaded to pay the most they can) or the data contains some noise.\n",
    "* Checking if the survivability had any effect of Pclass."
   ]
  },
  {
   "cell_type": "markdown",
   "metadata": {},
   "source": [
    "### 2.3 Class"
   ]
  },
  {
   "cell_type": "code",
   "execution_count": 28,
   "metadata": {},
   "outputs": [
    {
     "data": {
      "image/png": "[encoded data removed]",
      "text/plain": [
       "<Figure size 648x216 with 3 Axes>"
      ]
     },
     "metadata": {
      "needs_background": "light"
     },
     "output_type": "display_data"
    }
   ],
   "source": [
    "facet = sns.FacetGrid(data, col='Pclass')\n",
    "figure = facet.map(sns.countplot, 'Survived')"
   ]
  },
  {
   "cell_type": "markdown",
   "metadata": {},
   "source": [
    "* Evidently, Pclass had a significant effect on survivability of a passenger.\n",
    "* It should also be noted that in Pclass 1, the distribution in survivability is significantly different from that observed in the previous outlier survivability plot.\n",
    "* Checking the survivability distribution in Pclass 1 wrt Fare paid."
   ]
  },
  {
   "cell_type": "code",
   "execution_count": 29,
   "metadata": {
    "scrolled": false
   },
   "outputs": [
    {
     "data": {
      "image/png": "[encoded data removed]",
      "text/plain": [
       "<Figure size 360x720 with 1 Axes>"
      ]
     },
     "metadata": {
      "needs_background": "light"
     },
     "output_type": "display_data"
    }
   ],
   "source": [
    "figure = plt.figure(figsize=(5, 10))\n",
    "figure = sns.violinplot(x='Survived', y='Fare Individual', data=data[ data['Pclass'] == 1])"
   ]
  },
  {
   "cell_type": "markdown",
   "metadata": {},
   "source": [
    "* It is observed that fair paid is very significant in Pclass 1 while it's not as significant in others for survivability.\n",
    "* Let us also have a look at the distribution in Sex when it comes to survivability."
   ]
  },
  {
   "cell_type": "code",
   "execution_count": 30,
   "metadata": {},
   "outputs": [
    {
     "data": {
      "image/png": "[encoded data removed]",
      "text/plain": [
       "<Figure size 432x648 with 6 Axes>"
      ]
     },
     "metadata": {
      "needs_background": "light"
     },
     "output_type": "display_data"
    }
   ],
   "source": [
    "facet = sns.FacetGrid(data, row='Pclass', col='Sex')\n",
    "figure = facet.map(sns.countplot, 'Survived')"
   ]
  },
  {
   "cell_type": "markdown",
   "metadata": {},
   "source": [
    "* A significantly higher number of females survived in each class except for in Pclass 3.\n",
    "* Another significant trend is that males had a higher probablity of dying across all Pclass.\n",
    "* It is inferred that more preference was given to women.\n",
    "* Let's see how survivability varies with age."
   ]
  },
  {
   "cell_type": "code",
   "execution_count": 31,
   "metadata": {
    "scrolled": false
   },
   "outputs": [
    {
     "data": {
      "image/png": "[encoded data removed]",
      "text/plain": [
       "<Figure size 432x648 with 6 Axes>"
      ]
     },
     "metadata": {
      "needs_background": "light"
     },
     "output_type": "display_data"
    }
   ],
   "source": [
    "facet = sns.FacetGrid(data, col='Survived', row='Pclass')\n",
    "figure = facet.map(sns.distplot, 'Age')"
   ]
  },
  {
   "cell_type": "markdown",
   "metadata": {},
   "source": [
    "* It seems that more preference was given to children across all classes.\n",
    "* Even though preference was given, some of them did not survive.\n",
    "* This could be due to extreme cold or any other unrepresented factor(s)."
   ]
  },
  {
   "cell_type": "markdown",
   "metadata": {},
   "source": [
    "### 3. Imputing missing values"
   ]
  },
  {
   "cell_type": "code",
   "execution_count": 32,
   "metadata": {},
   "outputs": [
    {
     "name": "stdout",
     "output_type": "stream",
     "text": [
      "Total Columns: 1309\n"
     ]
    },
    {
     "data": {
      "text/html": [
       "<div>\n",
       "<style scoped>\n",
       "    .dataframe tbody tr th:only-of-type {\n",
       "        vertical-align: middle;\n",
       "    }\n",
       "\n",
       "    .dataframe tbody tr th {\n",
       "        vertical-align: top;\n",
       "    }\n",
       "\n",
       "    .dataframe thead th {\n",
       "        text-align: right;\n",
       "    }\n",
       "</style>\n",
       "<table border=\"1\" class=\"dataframe\">\n",
       "  <thead>\n",
       "    <tr style=\"text-align: right;\">\n",
       "      <th></th>\n",
       "      <th>Number_Missing</th>\n",
       "      <th>% Missing</th>\n",
       "      <th>Missing?</th>\n",
       "    </tr>\n",
       "  </thead>\n",
       "  <tbody>\n",
       "    <tr>\n",
       "      <th>Cabin</th>\n",
       "      <td>1014</td>\n",
       "      <td>77.463713</td>\n",
       "      <td>True</td>\n",
       "    </tr>\n",
       "    <tr>\n",
       "      <th>Survived</th>\n",
       "      <td>418</td>\n",
       "      <td>31.932773</td>\n",
       "      <td>True</td>\n",
       "    </tr>\n",
       "    <tr>\n",
       "      <th>Age</th>\n",
       "      <td>263</td>\n",
       "      <td>20.091673</td>\n",
       "      <td>True</td>\n",
       "    </tr>\n",
       "    <tr>\n",
       "      <th>Embarked</th>\n",
       "      <td>2</td>\n",
       "      <td>0.152788</td>\n",
       "      <td>True</td>\n",
       "    </tr>\n",
       "    <tr>\n",
       "      <th>Fare</th>\n",
       "      <td>1</td>\n",
       "      <td>0.076394</td>\n",
       "      <td>True</td>\n",
       "    </tr>\n",
       "    <tr>\n",
       "      <th>Fare Individual</th>\n",
       "      <td>1</td>\n",
       "      <td>0.076394</td>\n",
       "      <td>True</td>\n",
       "    </tr>\n",
       "  </tbody>\n",
       "</table>\n",
       "</div>"
      ],
      "text/plain": [
       "                 Number_Missing  % Missing  Missing?\n",
       "Cabin                      1014  77.463713      True\n",
       "Survived                    418  31.932773      True\n",
       "Age                         263  20.091673      True\n",
       "Embarked                      2   0.152788      True\n",
       "Fare                          1   0.076394      True\n",
       "Fare Individual               1   0.076394      True"
      ]
     },
     "execution_count": 32,
     "metadata": {},
     "output_type": "execute_result"
    }
   ],
   "source": [
    "check_null(data)"
   ]
  },
  {
   "cell_type": "markdown",
   "metadata": {},
   "source": [
    "### 3.1 Fare"
   ]
  },
  {
   "cell_type": "code",
   "execution_count": 33,
   "metadata": {},
   "outputs": [
    {
     "data": {
      "text/html": [
       "<div>\n",
       "<style scoped>\n",
       "    .dataframe tbody tr th:only-of-type {\n",
       "        vertical-align: middle;\n",
       "    }\n",
       "\n",
       "    .dataframe tbody tr th {\n",
       "        vertical-align: top;\n",
       "    }\n",
       "\n",
       "    .dataframe thead th {\n",
       "        text-align: right;\n",
       "    }\n",
       "</style>\n",
       "<table border=\"1\" class=\"dataframe\">\n",
       "  <thead>\n",
       "    <tr style=\"text-align: right;\">\n",
       "      <th></th>\n",
       "      <th>Pclass</th>\n",
       "      <th>Name</th>\n",
       "      <th>Sex</th>\n",
       "      <th>Age</th>\n",
       "      <th>SibSp</th>\n",
       "      <th>Parch</th>\n",
       "      <th>Ticket</th>\n",
       "      <th>Fare</th>\n",
       "      <th>Cabin</th>\n",
       "      <th>Embarked</th>\n",
       "      <th>Survived</th>\n",
       "      <th>Ticket Shared With</th>\n",
       "      <th>Fare Individual</th>\n",
       "    </tr>\n",
       "    <tr>\n",
       "      <th>PassengerId</th>\n",
       "      <th></th>\n",
       "      <th></th>\n",
       "      <th></th>\n",
       "      <th></th>\n",
       "      <th></th>\n",
       "      <th></th>\n",
       "      <th></th>\n",
       "      <th></th>\n",
       "      <th></th>\n",
       "      <th></th>\n",
       "      <th></th>\n",
       "      <th></th>\n",
       "      <th></th>\n",
       "    </tr>\n",
       "  </thead>\n",
       "  <tbody>\n",
       "    <tr>\n",
       "      <th>1044</th>\n",
       "      <td>3</td>\n",
       "      <td>Storey, Mr. Thomas</td>\n",
       "      <td>male</td>\n",
       "      <td>60.0</td>\n",
       "      <td>0</td>\n",
       "      <td>0</td>\n",
       "      <td>3701</td>\n",
       "      <td>NaN</td>\n",
       "      <td>NaN</td>\n",
       "      <td>S</td>\n",
       "      <td>NaN</td>\n",
       "      <td>1</td>\n",
       "      <td>NaN</td>\n",
       "    </tr>\n",
       "  </tbody>\n",
       "</table>\n",
       "</div>"
      ],
      "text/plain": [
       "             Pclass                Name   Sex   Age  SibSp  Parch Ticket  \\\n",
       "PassengerId                                                                \n",
       "1044              3  Storey, Mr. Thomas  male  60.0      0      0   3701   \n",
       "\n",
       "             Fare Cabin Embarked  Survived  Ticket Shared With  \\\n",
       "PassengerId                                                      \n",
       "1044          NaN   NaN        S       NaN                   1   \n",
       "\n",
       "             Fare Individual  \n",
       "PassengerId                   \n",
       "1044                     NaN  "
      ]
     },
     "execution_count": 33,
     "metadata": {},
     "output_type": "execute_result"
    }
   ],
   "source": [
    "data[data['Fare'].isnull()]"
   ]
  },
  {
   "cell_type": "code",
   "execution_count": 34,
   "metadata": {},
   "outputs": [
    {
     "data": {
      "text/html": [
       "<div>\n",
       "<style scoped>\n",
       "    .dataframe tbody tr th:only-of-type {\n",
       "        vertical-align: middle;\n",
       "    }\n",
       "\n",
       "    .dataframe tbody tr th {\n",
       "        vertical-align: top;\n",
       "    }\n",
       "\n",
       "    .dataframe thead th {\n",
       "        text-align: right;\n",
       "    }\n",
       "</style>\n",
       "<table border=\"1\" class=\"dataframe\">\n",
       "  <thead>\n",
       "    <tr style=\"text-align: right;\">\n",
       "      <th></th>\n",
       "      <th>Pclass</th>\n",
       "      <th>Name</th>\n",
       "      <th>Sex</th>\n",
       "      <th>Age</th>\n",
       "      <th>SibSp</th>\n",
       "      <th>Parch</th>\n",
       "      <th>Ticket</th>\n",
       "      <th>Fare</th>\n",
       "      <th>Cabin</th>\n",
       "      <th>Embarked</th>\n",
       "      <th>Survived</th>\n",
       "      <th>Ticket Shared With</th>\n",
       "      <th>Fare Individual</th>\n",
       "    </tr>\n",
       "    <tr>\n",
       "      <th>PassengerId</th>\n",
       "      <th></th>\n",
       "      <th></th>\n",
       "      <th></th>\n",
       "      <th></th>\n",
       "      <th></th>\n",
       "      <th></th>\n",
       "      <th></th>\n",
       "      <th></th>\n",
       "      <th></th>\n",
       "      <th></th>\n",
       "      <th></th>\n",
       "      <th></th>\n",
       "      <th></th>\n",
       "    </tr>\n",
       "  </thead>\n",
       "  <tbody>\n",
       "    <tr>\n",
       "      <th>1044</th>\n",
       "      <td>3</td>\n",
       "      <td>Storey, Mr. Thomas</td>\n",
       "      <td>male</td>\n",
       "      <td>60.0</td>\n",
       "      <td>0</td>\n",
       "      <td>0</td>\n",
       "      <td>3701</td>\n",
       "      <td>7.48</td>\n",
       "      <td>NaN</td>\n",
       "      <td>S</td>\n",
       "      <td>NaN</td>\n",
       "      <td>1</td>\n",
       "      <td>7.48</td>\n",
       "    </tr>\n",
       "  </tbody>\n",
       "</table>\n",
       "</div>"
      ],
      "text/plain": [
       "             Pclass                Name   Sex   Age  SibSp  Parch Ticket  \\\n",
       "PassengerId                                                                \n",
       "1044              3  Storey, Mr. Thomas  male  60.0      0      0   3701   \n",
       "\n",
       "             Fare Cabin Embarked  Survived  Ticket Shared With  \\\n",
       "PassengerId                                                      \n",
       "1044         7.48   NaN        S       NaN                   1   \n",
       "\n",
       "             Fare Individual  \n",
       "PassengerId                   \n",
       "1044                    7.48  "
      ]
     },
     "execution_count": 34,
     "metadata": {},
     "output_type": "execute_result"
    }
   ],
   "source": [
    "required = data[  (data['Pclass'] == 3) \n",
    "     & (data['Age'] > 40 )\n",
    "     & (data['Embarked'] == 'S' )\n",
    "     & (data['SibSp'] == 0 )\n",
    "     & (data['Parch'] == 0 ) \n",
    "     & (data['Fare'].notnull()) \n",
    "    ].sort_values(by='Fare')['Fare'].mean()\n",
    "\n",
    "data.at[1044, 'Fare'] = round(required, ndigits=2)\n",
    "data.at[1044, 'Fare Individual'] = round(required, ndigits=2)\n",
    "data[ data.index == 1044]"
   ]
  },
  {
   "cell_type": "markdown",
   "metadata": {},
   "source": [
    "### 3.2 Embarked"
   ]
  },
  {
   "cell_type": "code",
   "execution_count": 35,
   "metadata": {},
   "outputs": [
    {
     "data": {
      "text/html": [
       "<div>\n",
       "<style scoped>\n",
       "    .dataframe tbody tr th:only-of-type {\n",
       "        vertical-align: middle;\n",
       "    }\n",
       "\n",
       "    .dataframe tbody tr th {\n",
       "        vertical-align: top;\n",
       "    }\n",
       "\n",
       "    .dataframe thead th {\n",
       "        text-align: right;\n",
       "    }\n",
       "</style>\n",
       "<table border=\"1\" class=\"dataframe\">\n",
       "  <thead>\n",
       "    <tr style=\"text-align: right;\">\n",
       "      <th></th>\n",
       "      <th>Pclass</th>\n",
       "      <th>Name</th>\n",
       "      <th>Sex</th>\n",
       "      <th>Age</th>\n",
       "      <th>SibSp</th>\n",
       "      <th>Parch</th>\n",
       "      <th>Ticket</th>\n",
       "      <th>Fare</th>\n",
       "      <th>Cabin</th>\n",
       "      <th>Embarked</th>\n",
       "      <th>Survived</th>\n",
       "      <th>Ticket Shared With</th>\n",
       "      <th>Fare Individual</th>\n",
       "    </tr>\n",
       "    <tr>\n",
       "      <th>PassengerId</th>\n",
       "      <th></th>\n",
       "      <th></th>\n",
       "      <th></th>\n",
       "      <th></th>\n",
       "      <th></th>\n",
       "      <th></th>\n",
       "      <th></th>\n",
       "      <th></th>\n",
       "      <th></th>\n",
       "      <th></th>\n",
       "      <th></th>\n",
       "      <th></th>\n",
       "      <th></th>\n",
       "    </tr>\n",
       "  </thead>\n",
       "  <tbody>\n",
       "    <tr>\n",
       "      <th>62</th>\n",
       "      <td>1</td>\n",
       "      <td>Icard, Miss. Amelie</td>\n",
       "      <td>female</td>\n",
       "      <td>38.0</td>\n",
       "      <td>0</td>\n",
       "      <td>0</td>\n",
       "      <td>113572</td>\n",
       "      <td>80.0</td>\n",
       "      <td>B28</td>\n",
       "      <td>NaN</td>\n",
       "      <td>1.0</td>\n",
       "      <td>2</td>\n",
       "      <td>40.0</td>\n",
       "    </tr>\n",
       "    <tr>\n",
       "      <th>830</th>\n",
       "      <td>1</td>\n",
       "      <td>Stone, Mrs. George Nelson (Martha Evelyn)</td>\n",
       "      <td>female</td>\n",
       "      <td>62.0</td>\n",
       "      <td>0</td>\n",
       "      <td>0</td>\n",
       "      <td>113572</td>\n",
       "      <td>80.0</td>\n",
       "      <td>B28</td>\n",
       "      <td>NaN</td>\n",
       "      <td>1.0</td>\n",
       "      <td>2</td>\n",
       "      <td>40.0</td>\n",
       "    </tr>\n",
       "  </tbody>\n",
       "</table>\n",
       "</div>"
      ],
      "text/plain": [
       "             Pclass                                       Name     Sex   Age  \\\n",
       "PassengerId                                                                    \n",
       "62                1                        Icard, Miss. Amelie  female  38.0   \n",
       "830               1  Stone, Mrs. George Nelson (Martha Evelyn)  female  62.0   \n",
       "\n",
       "             SibSp  Parch  Ticket  Fare Cabin Embarked  Survived  \\\n",
       "PassengerId                                                        \n",
       "62               0      0  113572  80.0   B28      NaN       1.0   \n",
       "830              0      0  113572  80.0   B28      NaN       1.0   \n",
       "\n",
       "             Ticket Shared With  Fare Individual  \n",
       "PassengerId                                       \n",
       "62                            2             40.0  \n",
       "830                           2             40.0  "
      ]
     },
     "execution_count": 35,
     "metadata": {},
     "output_type": "execute_result"
    }
   ],
   "source": [
    "data[ data['Embarked'].isnull() ]"
   ]
  },
  {
   "cell_type": "markdown",
   "metadata": {},
   "source": [
    "* In order to impute 'Embark', I will use the Pclass and Fare distributions."
   ]
  },
  {
   "cell_type": "code",
   "execution_count": 36,
   "metadata": {
    "scrolled": true
   },
   "outputs": [
    {
     "data": {
      "image/png": "[encoded data removed]",
      "text/plain": [
       "<Figure size 2160x720 with 3 Axes>"
      ]
     },
     "metadata": {
      "needs_background": "light"
     },
     "output_type": "display_data"
    }
   ],
   "source": [
    "facet = sns.FacetGrid(data[ data['Pclass'] == 1], col='Embarked', height=10)\n",
    "figure = facet.map(sns.distplot, 'Fare Individual', )"
   ]
  },
  {
   "cell_type": "markdown",
   "metadata": {},
   "source": [
    "* More people belonging to Pclass 1 have a Fare Individual about 40 in Embarked C."
   ]
  },
  {
   "cell_type": "code",
   "execution_count": 37,
   "metadata": {},
   "outputs": [
    {
     "data": {
      "text/html": [
       "<div>\n",
       "<style scoped>\n",
       "    .dataframe tbody tr th:only-of-type {\n",
       "        vertical-align: middle;\n",
       "    }\n",
       "\n",
       "    .dataframe tbody tr th {\n",
       "        vertical-align: top;\n",
       "    }\n",
       "\n",
       "    .dataframe thead th {\n",
       "        text-align: right;\n",
       "    }\n",
       "</style>\n",
       "<table border=\"1\" class=\"dataframe\">\n",
       "  <thead>\n",
       "    <tr style=\"text-align: right;\">\n",
       "      <th></th>\n",
       "      <th>Pclass</th>\n",
       "      <th>Name</th>\n",
       "      <th>Sex</th>\n",
       "      <th>Age</th>\n",
       "      <th>SibSp</th>\n",
       "      <th>Parch</th>\n",
       "      <th>Ticket</th>\n",
       "      <th>Fare</th>\n",
       "      <th>Cabin</th>\n",
       "      <th>Embarked</th>\n",
       "      <th>Survived</th>\n",
       "      <th>Ticket Shared With</th>\n",
       "      <th>Fare Individual</th>\n",
       "    </tr>\n",
       "    <tr>\n",
       "      <th>PassengerId</th>\n",
       "      <th></th>\n",
       "      <th></th>\n",
       "      <th></th>\n",
       "      <th></th>\n",
       "      <th></th>\n",
       "      <th></th>\n",
       "      <th></th>\n",
       "      <th></th>\n",
       "      <th></th>\n",
       "      <th></th>\n",
       "      <th></th>\n",
       "      <th></th>\n",
       "      <th></th>\n",
       "    </tr>\n",
       "  </thead>\n",
       "  <tbody>\n",
       "    <tr>\n",
       "      <th>62</th>\n",
       "      <td>1</td>\n",
       "      <td>Icard, Miss. Amelie</td>\n",
       "      <td>female</td>\n",
       "      <td>38.0</td>\n",
       "      <td>0</td>\n",
       "      <td>0</td>\n",
       "      <td>113572</td>\n",
       "      <td>80.0</td>\n",
       "      <td>B28</td>\n",
       "      <td>C</td>\n",
       "      <td>1.0</td>\n",
       "      <td>2</td>\n",
       "      <td>40.0</td>\n",
       "    </tr>\n",
       "    <tr>\n",
       "      <th>830</th>\n",
       "      <td>1</td>\n",
       "      <td>Stone, Mrs. George Nelson (Martha Evelyn)</td>\n",
       "      <td>female</td>\n",
       "      <td>62.0</td>\n",
       "      <td>0</td>\n",
       "      <td>0</td>\n",
       "      <td>113572</td>\n",
       "      <td>80.0</td>\n",
       "      <td>B28</td>\n",
       "      <td>C</td>\n",
       "      <td>1.0</td>\n",
       "      <td>2</td>\n",
       "      <td>40.0</td>\n",
       "    </tr>\n",
       "  </tbody>\n",
       "</table>\n",
       "</div>"
      ],
      "text/plain": [
       "             Pclass                                       Name     Sex   Age  \\\n",
       "PassengerId                                                                    \n",
       "62                1                        Icard, Miss. Amelie  female  38.0   \n",
       "830               1  Stone, Mrs. George Nelson (Martha Evelyn)  female  62.0   \n",
       "\n",
       "             SibSp  Parch  Ticket  Fare Cabin Embarked  Survived  \\\n",
       "PassengerId                                                        \n",
       "62               0      0  113572  80.0   B28        C       1.0   \n",
       "830              0      0  113572  80.0   B28        C       1.0   \n",
       "\n",
       "             Ticket Shared With  Fare Individual  \n",
       "PassengerId                                       \n",
       "62                            2             40.0  \n",
       "830                           2             40.0  "
      ]
     },
     "execution_count": 37,
     "metadata": {},
     "output_type": "execute_result"
    }
   ],
   "source": [
    "data['Embarked'].update( data[ data['Embarked'].isnull() ]['Embarked'].fillna('C'))\n",
    "data[ data['Ticket'] == '113572']"
   ]
  },
  {
   "cell_type": "markdown",
   "metadata": {},
   "source": [
    "### 3.3 Age"
   ]
  },
  {
   "cell_type": "markdown",
   "metadata": {},
   "source": [
    "* Tried training a model for Age imputation but the errors were too high.\n",
    "* Using titles of people to group them.\n",
    "* Imputing using a random variable using the title group's statistics."
   ]
  },
  {
   "cell_type": "code",
   "execution_count": 38,
   "metadata": {},
   "outputs": [],
   "source": [
    "data['Title'] = data['Name'].apply(lambda x: x.split(',')[1].split('.')[0].strip())"
   ]
  },
  {
   "cell_type": "code",
   "execution_count": 39,
   "metadata": {},
   "outputs": [
    {
     "data": {
      "text/plain": [
       "Mr              757\n",
       "Miss            260\n",
       "Mrs             197\n",
       "Master           61\n",
       "Dr                8\n",
       "Rev               8\n",
       "Col               4\n",
       "Mlle              2\n",
       "Major             2\n",
       "Ms                2\n",
       "Jonkheer          1\n",
       "the Countess      1\n",
       "Don               1\n",
       "Dona              1\n",
       "Sir               1\n",
       "Capt              1\n",
       "Mme               1\n",
       "Lady              1\n",
       "Name: Title, dtype: int64"
      ]
     },
     "execution_count": 39,
     "metadata": {},
     "output_type": "execute_result"
    }
   ],
   "source": [
    "data['Title'].value_counts()"
   ]
  },
  {
   "cell_type": "markdown",
   "metadata": {},
   "source": [
    "* Titles will allow us to impute values using a general range."
   ]
  },
  {
   "cell_type": "code",
   "execution_count": 40,
   "metadata": {},
   "outputs": [],
   "source": [
    "data['Title for Age'] = data['Title']"
   ]
  },
  {
   "cell_type": "code",
   "execution_count": 41,
   "metadata": {},
   "outputs": [],
   "source": [
    "data['Title for Age'] = np.where( data['Title'].isin(['Jonkheer', 'Don', 'Dr']), 'Mr', data['Title for Age'])\n",
    "data['Title for Age'] = np.where( data['Title'].isin(['Mlle', 'Ms', 'Mme']), 'Miss', data['Title for Age'] )\n",
    "data['Title for Age'] = np.where( data['Title'].isin(['Lady', 'the Countess', 'Dona', 'Lady']), 'Mrs', data['Title for Age'])\n",
    "data['Title for Age'] = np.where( data['Title'].isin(['Capt', 'Col', 'Rev', 'Major']), 'Sir', data['Title for Age'])"
   ]
  },
  {
   "cell_type": "code",
   "execution_count": 42,
   "metadata": {},
   "outputs": [
    {
     "data": {
      "text/plain": [
       "Mr        767\n",
       "Miss      265\n",
       "Mrs       200\n",
       "Master     61\n",
       "Sir        16\n",
       "Name: Title for Age, dtype: int64"
      ]
     },
     "execution_count": 42,
     "metadata": {},
     "output_type": "execute_result"
    }
   ],
   "source": [
    "data['Title for Age'].value_counts()"
   ]
  },
  {
   "cell_type": "code",
   "execution_count": 43,
   "metadata": {},
   "outputs": [],
   "source": [
    "def n_random(num_array, n, **kwargs):\n",
    "    '''Returns an array with n random values based on\n",
    "    passed data. Accepts \"min_val\" and \"max_val\" arguments\n",
    "    to force random values in range'''\n",
    "    import scipy\n",
    "    \n",
    "    min_val = kwargs['min_val'] if 'min_val' in kwargs else min(num_array)\n",
    "    max_val = kwargs['max_val'] if 'max_val' in kwargs else max(num_array)\n",
    "    mean = scipy.mean(num_array.values) if type(num_array) == pd.Series else scipy.mean(num_array)\n",
    "    std_dev = scipy.stats.tstd(num_array.values) if type(num_array) == pd.Series else scipy.stats.tstd(num_array)\n",
    "        \n",
    "    dist = stats.truncnorm((min_val - mean)/std_dev,\n",
    "                           (max_val - mean)/std_dev,\n",
    "                           loc=mean, scale=std_dev)\n",
    "\n",
    "    return dist.rvs(n)"
   ]
  },
  {
   "cell_type": "code",
   "execution_count": 44,
   "metadata": {},
   "outputs": [],
   "source": [
    "previously_missing = data[ data['Age'].isnull()].index"
   ]
  },
  {
   "cell_type": "code",
   "execution_count": 45,
   "metadata": {},
   "outputs": [],
   "source": [
    "for title in data['Title for Age'].unique():\n",
    "    missing_data = data[ (data['Title for Age']==title) & (data['Age'].isnull()) ]\n",
    "    \n",
    "    # Imputing missing Age values using available age values\n",
    "    for p_index in missing_data.index:\n",
    "        \n",
    "        available_data = data[ (data['Age'].notnull()) & (data['Title for Age'] == title)]\n",
    "        \n",
    "        data.at[ p_index, 'Age'] = round( n_random( available_data['Age'], 1)[0] )"
   ]
  },
  {
   "cell_type": "code",
   "execution_count": 46,
   "metadata": {},
   "outputs": [
    {
     "data": {
      "text/html": [
       "<div>\n",
       "<style scoped>\n",
       "    .dataframe tbody tr th:only-of-type {\n",
       "        vertical-align: middle;\n",
       "    }\n",
       "\n",
       "    .dataframe tbody tr th {\n",
       "        vertical-align: top;\n",
       "    }\n",
       "\n",
       "    .dataframe thead th {\n",
       "        text-align: right;\n",
       "    }\n",
       "</style>\n",
       "<table border=\"1\" class=\"dataframe\">\n",
       "  <thead>\n",
       "    <tr style=\"text-align: right;\">\n",
       "      <th></th>\n",
       "      <th>Title for Age</th>\n",
       "      <th>Age</th>\n",
       "    </tr>\n",
       "    <tr>\n",
       "      <th>PassengerId</th>\n",
       "      <th></th>\n",
       "      <th></th>\n",
       "    </tr>\n",
       "  </thead>\n",
       "  <tbody>\n",
       "    <tr>\n",
       "      <th>1309</th>\n",
       "      <td>Master</td>\n",
       "      <td>13.0</td>\n",
       "    </tr>\n",
       "    <tr>\n",
       "      <th>177</th>\n",
       "      <td>Master</td>\n",
       "      <td>13.0</td>\n",
       "    </tr>\n",
       "    <tr>\n",
       "      <th>160</th>\n",
       "      <td>Master</td>\n",
       "      <td>7.0</td>\n",
       "    </tr>\n",
       "    <tr>\n",
       "      <th>66</th>\n",
       "      <td>Master</td>\n",
       "      <td>9.0</td>\n",
       "    </tr>\n",
       "    <tr>\n",
       "      <th>1231</th>\n",
       "      <td>Master</td>\n",
       "      <td>9.0</td>\n",
       "    </tr>\n",
       "    <tr>\n",
       "      <th>...</th>\n",
       "      <td>...</td>\n",
       "      <td>...</td>\n",
       "    </tr>\n",
       "    <tr>\n",
       "      <th>1141</th>\n",
       "      <td>Mrs</td>\n",
       "      <td>53.0</td>\n",
       "    </tr>\n",
       "    <tr>\n",
       "      <th>850</th>\n",
       "      <td>Mrs</td>\n",
       "      <td>49.0</td>\n",
       "    </tr>\n",
       "    <tr>\n",
       "      <th>257</th>\n",
       "      <td>Mrs</td>\n",
       "      <td>41.0</td>\n",
       "    </tr>\n",
       "    <tr>\n",
       "      <th>368</th>\n",
       "      <td>Mrs</td>\n",
       "      <td>35.0</td>\n",
       "    </tr>\n",
       "    <tr>\n",
       "      <th>670</th>\n",
       "      <td>Mrs</td>\n",
       "      <td>32.0</td>\n",
       "    </tr>\n",
       "  </tbody>\n",
       "</table>\n",
       "<p>263 rows × 2 columns</p>\n",
       "</div>"
      ],
      "text/plain": [
       "            Title for Age   Age\n",
       "PassengerId                    \n",
       "1309               Master  13.0\n",
       "177                Master  13.0\n",
       "160                Master   7.0\n",
       "66                 Master   9.0\n",
       "1231               Master   9.0\n",
       "...                   ...   ...\n",
       "1141                  Mrs  53.0\n",
       "850                   Mrs  49.0\n",
       "257                   Mrs  41.0\n",
       "368                   Mrs  35.0\n",
       "670                   Mrs  32.0\n",
       "\n",
       "[263 rows x 2 columns]"
      ]
     },
     "execution_count": 46,
     "metadata": {},
     "output_type": "execute_result"
    }
   ],
   "source": [
    "data[ data.index.isin(previously_missing) ][['Title for Age', 'Age']].sort_values(by='Title for Age')"
   ]
  },
  {
   "cell_type": "code",
   "execution_count": 47,
   "metadata": {},
   "outputs": [
    {
     "data": {
      "image/png": "[encoded data removed]",
      "text/plain": [
       "<Figure size 432x288 with 1 Axes>"
      ]
     },
     "metadata": {
      "needs_background": "light"
     },
     "output_type": "display_data"
    }
   ],
   "source": [
    "figure = sns.distplot(data['Age'])"
   ]
  },
  {
   "cell_type": "markdown",
   "metadata": {},
   "source": [
    "### 3.4 Cabin"
   ]
  },
  {
   "cell_type": "code",
   "execution_count": 48,
   "metadata": {},
   "outputs": [
    {
     "data": {
      "text/plain": [
       "PassengerId\n",
       "2        C85\n",
       "4       C123\n",
       "7        E46\n",
       "11        G6\n",
       "12      C103\n",
       "        ... \n",
       "1296     D40\n",
       "1297     D38\n",
       "1299     C80\n",
       "1303     C78\n",
       "1306    C105\n",
       "Name: Cabin, Length: 295, dtype: object"
      ]
     },
     "execution_count": 48,
     "metadata": {},
     "output_type": "execute_result"
    }
   ],
   "source": [
    "data[ data['Cabin'].notnull() ]['Cabin']"
   ]
  },
  {
   "cell_type": "markdown",
   "metadata": {},
   "source": [
    "* Although it would not be possible to impute values in Cabin, some information could be used from it such as the deck and any relation with ticket.\n",
    "* Checking to verify if the previously made feature Ticket Shared With implies sharing of cabins."
   ]
  },
  {
   "cell_type": "code",
   "execution_count": 49,
   "metadata": {},
   "outputs": [
    {
     "data": {
      "text/plain": [
       "186"
      ]
     },
     "execution_count": 49,
     "metadata": {},
     "output_type": "execute_result"
    }
   ],
   "source": [
    "# Total number of cabins available\n",
    "data[ data['Cabin'].notnull() ]['Cabin'].nunique()"
   ]
  },
  {
   "cell_type": "code",
   "execution_count": 50,
   "metadata": {},
   "outputs": [],
   "source": [
    "grouped_cabins = data[ data['Cabin'].notnull() ].groupby('Cabin').groups\n",
    "\n",
    "cabin_shared_with = {}\n",
    "\n",
    "for cabin in grouped_cabins:\n",
    "    cabin_shared_with[cabin] = len(grouped_cabins[cabin])\n",
    "\n",
    "data['Cabin Shared With'] = 0\n",
    "for cabin in cabin_shared_with:\n",
    "    data['Cabin Shared With'] = np.where( data['Cabin'] == cabin,\n",
    "                                         cabin_shared_with[cabin], \n",
    "                                         data['Cabin Shared With'])"
   ]
  },
  {
   "cell_type": "code",
   "execution_count": 51,
   "metadata": {},
   "outputs": [],
   "source": [
    "# DF containing unprocessed Cabin, Cabin Shared With, Ticket and Ticket Shared With data\n",
    "df_check_share = data[ data['Cabin'].notnull() ][['Cabin', 'Cabin Shared With', 'Ticket', 'Ticket Shared With']].sort_values(by='Cabin')"
   ]
  },
  {
   "cell_type": "code",
   "execution_count": 52,
   "metadata": {},
   "outputs": [],
   "source": [
    "cabin_vc = df_check_share['Cabin'].value_counts()"
   ]
  },
  {
   "cell_type": "code",
   "execution_count": 53,
   "metadata": {},
   "outputs": [],
   "source": [
    "mask_passengers_split = (df_check_share['Cabin Shared With'] < df_check_share['Ticket Shared With'])\n",
    "mask_passengers_together = (df_check_share['Cabin Shared With'] == df_check_share['Ticket Shared With'])\n",
    "mask_passengers_strangers = (df_check_share['Cabin Shared With'] > df_check_share['Ticket Shared With'])"
   ]
  },
  {
   "cell_type": "code",
   "execution_count": 54,
   "metadata": {},
   "outputs": [
    {
     "data": {
      "text/html": [
       "<div>\n",
       "<style scoped>\n",
       "    .dataframe tbody tr th:only-of-type {\n",
       "        vertical-align: middle;\n",
       "    }\n",
       "\n",
       "    .dataframe tbody tr th {\n",
       "        vertical-align: top;\n",
       "    }\n",
       "\n",
       "    .dataframe thead th {\n",
       "        text-align: right;\n",
       "    }\n",
       "</style>\n",
       "<table border=\"1\" class=\"dataframe\">\n",
       "  <thead>\n",
       "    <tr style=\"text-align: right;\">\n",
       "      <th></th>\n",
       "      <th>Cabin</th>\n",
       "      <th>Cabin Shared With</th>\n",
       "      <th>Ticket</th>\n",
       "      <th>Ticket Shared With</th>\n",
       "    </tr>\n",
       "    <tr>\n",
       "      <th>PassengerId</th>\n",
       "      <th></th>\n",
       "      <th></th>\n",
       "      <th></th>\n",
       "      <th></th>\n",
       "    </tr>\n",
       "  </thead>\n",
       "  <tbody>\n",
       "    <tr>\n",
       "      <th>1185</th>\n",
       "      <td>A34</td>\n",
       "      <td>3</td>\n",
       "      <td>33638</td>\n",
       "      <td>3</td>\n",
       "    </tr>\n",
       "    <tr>\n",
       "      <th>1266</th>\n",
       "      <td>A34</td>\n",
       "      <td>3</td>\n",
       "      <td>33638</td>\n",
       "      <td>3</td>\n",
       "    </tr>\n",
       "    <tr>\n",
       "      <th>446</th>\n",
       "      <td>A34</td>\n",
       "      <td>3</td>\n",
       "      <td>33638</td>\n",
       "      <td>3</td>\n",
       "    </tr>\n",
       "    <tr>\n",
       "      <th>524</th>\n",
       "      <td>B18</td>\n",
       "      <td>2</td>\n",
       "      <td>111361</td>\n",
       "      <td>2</td>\n",
       "    </tr>\n",
       "    <tr>\n",
       "      <th>330</th>\n",
       "      <td>B18</td>\n",
       "      <td>2</td>\n",
       "      <td>111361</td>\n",
       "      <td>2</td>\n",
       "    </tr>\n",
       "    <tr>\n",
       "      <th>...</th>\n",
       "      <td>...</td>\n",
       "      <td>...</td>\n",
       "      <td>...</td>\n",
       "      <td>...</td>\n",
       "    </tr>\n",
       "    <tr>\n",
       "      <th>810</th>\n",
       "      <td>E8</td>\n",
       "      <td>2</td>\n",
       "      <td>113806</td>\n",
       "      <td>2</td>\n",
       "    </tr>\n",
       "    <tr>\n",
       "      <th>619</th>\n",
       "      <td>F4</td>\n",
       "      <td>4</td>\n",
       "      <td>230136</td>\n",
       "      <td>4</td>\n",
       "    </tr>\n",
       "    <tr>\n",
       "      <th>1218</th>\n",
       "      <td>F4</td>\n",
       "      <td>4</td>\n",
       "      <td>230136</td>\n",
       "      <td>4</td>\n",
       "    </tr>\n",
       "    <tr>\n",
       "      <th>1070</th>\n",
       "      <td>F4</td>\n",
       "      <td>4</td>\n",
       "      <td>230136</td>\n",
       "      <td>4</td>\n",
       "    </tr>\n",
       "    <tr>\n",
       "      <th>184</th>\n",
       "      <td>F4</td>\n",
       "      <td>4</td>\n",
       "      <td>230136</td>\n",
       "      <td>4</td>\n",
       "    </tr>\n",
       "  </tbody>\n",
       "</table>\n",
       "<p>94 rows × 4 columns</p>\n",
       "</div>"
      ],
      "text/plain": [
       "            Cabin  Cabin Shared With  Ticket  Ticket Shared With\n",
       "PassengerId                                                     \n",
       "1185          A34                  3   33638                   3\n",
       "1266          A34                  3   33638                   3\n",
       "446           A34                  3   33638                   3\n",
       "524           B18                  2  111361                   2\n",
       "330           B18                  2  111361                   2\n",
       "...           ...                ...     ...                 ...\n",
       "810            E8                  2  113806                   2\n",
       "619            F4                  4  230136                   4\n",
       "1218           F4                  4  230136                   4\n",
       "1070           F4                  4  230136                   4\n",
       "184            F4                  4  230136                   4\n",
       "\n",
       "[94 rows x 4 columns]"
      ]
     },
     "execution_count": 54,
     "metadata": {},
     "output_type": "execute_result"
    }
   ],
   "source": [
    "mask_applied = df_check_share[ (df_check_share['Cabin'].isin(cabin_vc[cabin_vc > 1].index))\n",
    "                              & (mask_passengers_together)\n",
    "                             ].sort_values(by='Cabin')\n",
    "mask_applied"
   ]
  },
  {
   "cell_type": "markdown",
   "metadata": {},
   "source": [
    "* From the above masks, it is clear that multiple combinations of passenger cabin partners exist.\n",
    "* Some passengers are separated from their family/friends/colleagues.\n",
    "* Some passengers are together with  their family/friends/colleagues in a single cabin.\n",
    "* Some passengers are together with their family/friends/colleagues along with other strangers in a single cabin.\n",
    "* Some passengers are alone.\n",
    "* Although this data can be used as a feature, the amount of missing Cabin values makes it impossible to do so effectively."
   ]
  },
  {
   "cell_type": "code",
   "execution_count": 55,
   "metadata": {},
   "outputs": [
    {
     "data": {
      "text/html": [
       "<div>\n",
       "<style scoped>\n",
       "    .dataframe tbody tr th:only-of-type {\n",
       "        vertical-align: middle;\n",
       "    }\n",
       "\n",
       "    .dataframe tbody tr th {\n",
       "        vertical-align: top;\n",
       "    }\n",
       "\n",
       "    .dataframe thead th {\n",
       "        text-align: right;\n",
       "    }\n",
       "</style>\n",
       "<table border=\"1\" class=\"dataframe\">\n",
       "  <thead>\n",
       "    <tr style=\"text-align: right;\">\n",
       "      <th></th>\n",
       "      <th>index</th>\n",
       "      <th>Cabin</th>\n",
       "    </tr>\n",
       "  </thead>\n",
       "  <tbody>\n",
       "    <tr>\n",
       "      <th>0</th>\n",
       "      <td>C23 C25 C27</td>\n",
       "      <td>6</td>\n",
       "    </tr>\n",
       "    <tr>\n",
       "      <th>5</th>\n",
       "      <td>C89</td>\n",
       "      <td>2</td>\n",
       "    </tr>\n",
       "    <tr>\n",
       "      <th>6</th>\n",
       "      <td>C123</td>\n",
       "      <td>2</td>\n",
       "    </tr>\n",
       "    <tr>\n",
       "      <th>7</th>\n",
       "      <td>D35</td>\n",
       "      <td>2</td>\n",
       "    </tr>\n",
       "    <tr>\n",
       "      <th>8</th>\n",
       "      <td>D10 D12</td>\n",
       "      <td>2</td>\n",
       "    </tr>\n",
       "    <tr>\n",
       "      <th>9</th>\n",
       "      <td>D26</td>\n",
       "      <td>2</td>\n",
       "    </tr>\n",
       "    <tr>\n",
       "      <th>10</th>\n",
       "      <td>E8</td>\n",
       "      <td>2</td>\n",
       "    </tr>\n",
       "    <tr>\n",
       "      <th>11</th>\n",
       "      <td>C126</td>\n",
       "      <td>2</td>\n",
       "    </tr>\n",
       "    <tr>\n",
       "      <th>13</th>\n",
       "      <td>E46</td>\n",
       "      <td>2</td>\n",
       "    </tr>\n",
       "    <tr>\n",
       "      <th>15</th>\n",
       "      <td>E50</td>\n",
       "      <td>2</td>\n",
       "    </tr>\n",
       "    <tr>\n",
       "      <th>16</th>\n",
       "      <td>C92</td>\n",
       "      <td>2</td>\n",
       "    </tr>\n",
       "    <tr>\n",
       "      <th>17</th>\n",
       "      <td>E33</td>\n",
       "      <td>2</td>\n",
       "    </tr>\n",
       "    <tr>\n",
       "      <th>18</th>\n",
       "      <td>D37</td>\n",
       "      <td>2</td>\n",
       "    </tr>\n",
       "    <tr>\n",
       "      <th>20</th>\n",
       "      <td>E44</td>\n",
       "      <td>2</td>\n",
       "    </tr>\n",
       "    <tr>\n",
       "      <th>21</th>\n",
       "      <td>C93</td>\n",
       "      <td>2</td>\n",
       "    </tr>\n",
       "    <tr>\n",
       "      <th>22</th>\n",
       "      <td>D30</td>\n",
       "      <td>2</td>\n",
       "    </tr>\n",
       "    <tr>\n",
       "      <th>23</th>\n",
       "      <td>C6</td>\n",
       "      <td>2</td>\n",
       "    </tr>\n",
       "    <tr>\n",
       "      <th>24</th>\n",
       "      <td>D21</td>\n",
       "      <td>2</td>\n",
       "    </tr>\n",
       "    <tr>\n",
       "      <th>28</th>\n",
       "      <td>E31</td>\n",
       "      <td>2</td>\n",
       "    </tr>\n",
       "    <tr>\n",
       "      <th>29</th>\n",
       "      <td>D19</td>\n",
       "      <td>2</td>\n",
       "    </tr>\n",
       "    <tr>\n",
       "      <th>30</th>\n",
       "      <td>C2</td>\n",
       "      <td>2</td>\n",
       "    </tr>\n",
       "    <tr>\n",
       "      <th>31</th>\n",
       "      <td>E121</td>\n",
       "      <td>2</td>\n",
       "    </tr>\n",
       "    <tr>\n",
       "      <th>32</th>\n",
       "      <td>C116</td>\n",
       "      <td>2</td>\n",
       "    </tr>\n",
       "    <tr>\n",
       "      <th>33</th>\n",
       "      <td>C85</td>\n",
       "      <td>2</td>\n",
       "    </tr>\n",
       "    <tr>\n",
       "      <th>34</th>\n",
       "      <td>C83</td>\n",
       "      <td>2</td>\n",
       "    </tr>\n",
       "    <tr>\n",
       "      <th>35</th>\n",
       "      <td>D20</td>\n",
       "      <td>2</td>\n",
       "    </tr>\n",
       "    <tr>\n",
       "      <th>37</th>\n",
       "      <td>D28</td>\n",
       "      <td>2</td>\n",
       "    </tr>\n",
       "    <tr>\n",
       "      <th>38</th>\n",
       "      <td>C31</td>\n",
       "      <td>2</td>\n",
       "    </tr>\n",
       "    <tr>\n",
       "      <th>40</th>\n",
       "      <td>D15</td>\n",
       "      <td>2</td>\n",
       "    </tr>\n",
       "  </tbody>\n",
       "</table>\n",
       "</div>"
      ],
      "text/plain": [
       "          index  Cabin\n",
       "0   C23 C25 C27      6\n",
       "5           C89      2\n",
       "6          C123      2\n",
       "7           D35      2\n",
       "8       D10 D12      2\n",
       "9           D26      2\n",
       "10           E8      2\n",
       "11         C126      2\n",
       "13          E46      2\n",
       "15          E50      2\n",
       "16          C92      2\n",
       "17          E33      2\n",
       "18          D37      2\n",
       "20          E44      2\n",
       "21          C93      2\n",
       "22          D30      2\n",
       "23           C6      2\n",
       "24          D21      2\n",
       "28          E31      2\n",
       "29          D19      2\n",
       "30           C2      2\n",
       "31         E121      2\n",
       "32         C116      2\n",
       "33          C85      2\n",
       "34          C83      2\n",
       "35          D20      2\n",
       "37          D28      2\n",
       "38          C31      2\n",
       "40          D15      2"
      ]
     },
     "execution_count": 55,
     "metadata": {},
     "output_type": "execute_result"
    }
   ],
   "source": [
    "k = mask_applied['Cabin'].value_counts()\n",
    "k_df = k.reset_index()\n",
    "k_df[ (k_df['index'].str[0]).isin(['D', 'E', 'C']) ]"
   ]
  },
  {
   "cell_type": "markdown",
   "metadata": {},
   "source": [
    "* It may be concluded from the above table that First Class cabins housed only 2 passengers."
   ]
  },
  {
   "cell_type": "code",
   "execution_count": 56,
   "metadata": {},
   "outputs": [
    {
     "data": {
      "text/html": [
       "<div>\n",
       "<style scoped>\n",
       "    .dataframe tbody tr th:only-of-type {\n",
       "        vertical-align: middle;\n",
       "    }\n",
       "\n",
       "    .dataframe tbody tr th {\n",
       "        vertical-align: top;\n",
       "    }\n",
       "\n",
       "    .dataframe thead th {\n",
       "        text-align: right;\n",
       "    }\n",
       "</style>\n",
       "<table border=\"1\" class=\"dataframe\">\n",
       "  <thead>\n",
       "    <tr style=\"text-align: right;\">\n",
       "      <th></th>\n",
       "      <th>index</th>\n",
       "      <th>Cabin</th>\n",
       "    </tr>\n",
       "  </thead>\n",
       "  <tbody>\n",
       "    <tr>\n",
       "      <th>1</th>\n",
       "      <td>F4</td>\n",
       "      <td>4</td>\n",
       "    </tr>\n",
       "  </tbody>\n",
       "</table>\n",
       "</div>"
      ],
      "text/plain": [
       "  index  Cabin\n",
       "1    F4      4"
      ]
     },
     "execution_count": 56,
     "metadata": {},
     "output_type": "execute_result"
    }
   ],
   "source": [
    "k = mask_applied['Cabin'].value_counts()\n",
    "k_df = k.reset_index()\n",
    "k_df[ (k_df['index'].str[0]).isin(['F', 'G']) ]"
   ]
  },
  {
   "cell_type": "code",
   "execution_count": 57,
   "metadata": {},
   "outputs": [
    {
     "data": {
      "text/html": [
       "<div>\n",
       "<style scoped>\n",
       "    .dataframe tbody tr th:only-of-type {\n",
       "        vertical-align: middle;\n",
       "    }\n",
       "\n",
       "    .dataframe tbody tr th {\n",
       "        vertical-align: top;\n",
       "    }\n",
       "\n",
       "    .dataframe thead th {\n",
       "        text-align: right;\n",
       "    }\n",
       "</style>\n",
       "<table border=\"1\" class=\"dataframe\">\n",
       "  <thead>\n",
       "    <tr style=\"text-align: right;\">\n",
       "      <th></th>\n",
       "      <th>Cabin</th>\n",
       "      <th>Cabin Shared With</th>\n",
       "      <th>Ticket</th>\n",
       "      <th>Ticket Shared With</th>\n",
       "    </tr>\n",
       "    <tr>\n",
       "      <th>PassengerId</th>\n",
       "      <th></th>\n",
       "      <th></th>\n",
       "      <th></th>\n",
       "      <th></th>\n",
       "    </tr>\n",
       "  </thead>\n",
       "  <tbody>\n",
       "    <tr>\n",
       "      <th>619</th>\n",
       "      <td>F4</td>\n",
       "      <td>4</td>\n",
       "      <td>230136</td>\n",
       "      <td>4</td>\n",
       "    </tr>\n",
       "    <tr>\n",
       "      <th>1218</th>\n",
       "      <td>F4</td>\n",
       "      <td>4</td>\n",
       "      <td>230136</td>\n",
       "      <td>4</td>\n",
       "    </tr>\n",
       "    <tr>\n",
       "      <th>1070</th>\n",
       "      <td>F4</td>\n",
       "      <td>4</td>\n",
       "      <td>230136</td>\n",
       "      <td>4</td>\n",
       "    </tr>\n",
       "    <tr>\n",
       "      <th>184</th>\n",
       "      <td>F4</td>\n",
       "      <td>4</td>\n",
       "      <td>230136</td>\n",
       "      <td>4</td>\n",
       "    </tr>\n",
       "  </tbody>\n",
       "</table>\n",
       "</div>"
      ],
      "text/plain": [
       "            Cabin  Cabin Shared With  Ticket  Ticket Shared With\n",
       "PassengerId                                                     \n",
       "619            F4                  4  230136                   4\n",
       "1218           F4                  4  230136                   4\n",
       "1070           F4                  4  230136                   4\n",
       "184            F4                  4  230136                   4"
      ]
     },
     "execution_count": 57,
     "metadata": {},
     "output_type": "execute_result"
    }
   ],
   "source": [
    "mask_applied[ mask_applied['Cabin'] == 'F4']"
   ]
  },
  {
   "cell_type": "markdown",
   "metadata": {},
   "source": [
    "* From the given data, it may be concluded that Third Class cabins housed 4 passengers.\n",
    "* Although according to public data, upto 10 passengers could have housed 1 Third Class cabin."
   ]
  },
  {
   "cell_type": "markdown",
   "metadata": {},
   "source": [
    "#### Looking for a relation between Tickets and Pclass / Cabin"
   ]
  },
  {
   "cell_type": "code",
   "execution_count": 58,
   "metadata": {},
   "outputs": [],
   "source": [
    "data['Ticket Prefix'] = data['Ticket'].apply(lambda x: ' '.join(x.split(' ')[:-1]))"
   ]
  },
  {
   "cell_type": "code",
   "execution_count": 59,
   "metadata": {},
   "outputs": [
    {
     "data": {
      "text/plain": [
       "               961\n",
       "PC              92\n",
       "C.A.            46\n",
       "SOTON/O.Q.      16\n",
       "W./C.           14\n",
       "STON/O 2.       14\n",
       "A/5             12\n",
       "CA.             12\n",
       "SC/PARIS        11\n",
       "A/5.            10\n",
       "CA              10\n",
       "F.C.C.           9\n",
       "SOTON/OQ         8\n",
       "C                8\n",
       "STON/O2.         7\n",
       "S.O./P.P.        7\n",
       "S.O.C.           7\n",
       "A/4              6\n",
       "SC/Paris         5\n",
       "SC/AH            4\n",
       "PP               4\n",
       "S.C./PARIS       3\n",
       "A/4.             3\n",
       "SOTON/O2         3\n",
       "F.C.             3\n",
       "A.5.             3\n",
       "A./5.            3\n",
       "SC               2\n",
       "P/PP             2\n",
       "WE/P             2\n",
       "W.E.P.           2\n",
       "SCO/W            1\n",
       "SC/A.3           1\n",
       "STON/OQ.         1\n",
       "W/C              1\n",
       "S.W./PP          1\n",
       "SC/AH Basle      1\n",
       "S.P.             1\n",
       "A4.              1\n",
       "C.A./SOTON       1\n",
       "SC/A4            1\n",
       "AQ/4             1\n",
       "LP               1\n",
       "Fa               1\n",
       "SW/PP            1\n",
       "AQ/3.            1\n",
       "S.C./A.4.        1\n",
       "S.O.P.           1\n",
       "SO/C             1\n",
       "A. 2.            1\n",
       "A/S              1\n",
       "Name: Ticket Prefix, dtype: int64"
      ]
     },
     "execution_count": 59,
     "metadata": {},
     "output_type": "execute_result"
    }
   ],
   "source": [
    "k_vc = data['Ticket Prefix'].value_counts().sort_values(ascending=False)\n",
    "k_vc"
   ]
  },
  {
   "cell_type": "code",
   "execution_count": 60,
   "metadata": {},
   "outputs": [
    {
     "data": {
      "image/png": "[encoded data removed]",
      "text/plain": [
       "<Figure size 648x648 with 9 Axes>"
      ]
     },
     "metadata": {
      "needs_background": "light"
     },
     "output_type": "display_data"
    }
   ],
   "source": [
    "required = data[ data['Ticket Prefix'].isin(['']) ]\n",
    "facet = sns.FacetGrid(required, col='Pclass', row='Embarked')\n",
    "figure = facet.map(sns.countplot, 'Survived')"
   ]
  },
  {
   "cell_type": "code",
   "execution_count": 61,
   "metadata": {},
   "outputs": [
    {
     "data": {
      "image/png": "[encoded data removed]",
      "text/plain": [
       "<Figure size 216x432 with 2 Axes>"
      ]
     },
     "metadata": {
      "needs_background": "light"
     },
     "output_type": "display_data"
    }
   ],
   "source": [
    "required = data[ data['Ticket Prefix'].isin(['PC']) ]\n",
    "facet = sns.FacetGrid(required, col='Pclass', row='Embarked')\n",
    "figure = facet.map(sns.countplot, 'Survived')"
   ]
  },
  {
   "cell_type": "markdown",
   "metadata": {},
   "source": [
    "* There doesn't seem to be any strong relation between Ticket Prefix and Passenger Class"
   ]
  },
  {
   "cell_type": "code",
   "execution_count": 62,
   "metadata": {},
   "outputs": [],
   "source": [
    "data['Deck'] = data['Cabin'].str[0]\n",
    "data['Deck'] = data['Deck'].fillna('Z')"
   ]
  },
  {
   "cell_type": "code",
   "execution_count": 63,
   "metadata": {},
   "outputs": [
    {
     "data": {
      "text/plain": [
       "A      22\n",
       "B      65\n",
       "C      94\n",
       "D      46\n",
       "E      41\n",
       "F      21\n",
       "G       5\n",
       "T       1\n",
       "Z    1014\n",
       "Name: Deck, dtype: int64"
      ]
     },
     "execution_count": 63,
     "metadata": {},
     "output_type": "execute_result"
    }
   ],
   "source": [
    "data['Deck'].value_counts().sort_index()"
   ]
  },
  {
   "cell_type": "code",
   "execution_count": 64,
   "metadata": {},
   "outputs": [
    {
     "data": {
      "text/plain": [
       "1    256\n",
       "2     23\n",
       "3     16\n",
       "Name: Pclass, dtype: int64"
      ]
     },
     "execution_count": 64,
     "metadata": {},
     "output_type": "execute_result"
    }
   ],
   "source": [
    "data[ data['Cabin'].notnull() ]['Pclass'].value_counts()"
   ]
  },
  {
   "cell_type": "code",
   "execution_count": 65,
   "metadata": {},
   "outputs": [
    {
     "data": {
      "text/plain": [
       "C    94\n",
       "B    65\n",
       "D    46\n",
       "E    41\n",
       "A    22\n",
       "F    21\n",
       "G     5\n",
       "T     1\n",
       "Name: Deck, dtype: int64"
      ]
     },
     "execution_count": 65,
     "metadata": {},
     "output_type": "execute_result"
    }
   ],
   "source": [
    "data[ data['Cabin'].notnull() ]['Deck'].value_counts()"
   ]
  },
  {
   "cell_type": "markdown",
   "metadata": {},
   "source": [
    "* The available cabin data may help in predicting the distance from the nearest lifeboats.\n",
    "* This distance would in turn determine their likelihood to get into a lifeboat first, which directly increases their chances of survival.\n",
    "* As for Pclass 2 and 3, only a few data points are available.\n",
    "* Data augmentation would need to be carried out in order to calculate the weighted distance from lifeboats for passengers."
   ]
  },
  {
   "cell_type": "markdown",
   "metadata": {},
   "source": [
    "* After investigating the deck plans, it was realized that in multiple occurrences, an arbitrary order was followed to label the cabins.\n",
    "* Some cabin titles are in accordance to a certain scheme (distance from bow/stern, located near portside or starboard).\n",
    "* Because many cabins did not follow a set scheme, finding the distance would be too tedious and lengthy a task.\n",
    "* Instead, distances from lifeboats for a class as a whole will be used.\n",
    "* Weighted distance will be used to simulate the unknown cabin locations and unknown whereabouts of passengers.\n",
    "* Weights will be assigned using the perceived amount of people residing near the staircases.\n",
    "* Distance from the nearest staircase, time taken to climb a staircase and then distance from the staircase emergence to the nearest lifeboats will be taken into account.\n",
    "* Some distances can be assigned to specific passengers using the available facts that single men in 3rd class were be housed in the bow while families and single women would be housed in the stern (Titanic rules)."
   ]
  },
  {
   "cell_type": "markdown",
   "metadata": {},
   "source": [
    "### Augmenting Location Data"
   ]
  },
  {
   "cell_type": "code",
   "execution_count": 66,
   "metadata": {},
   "outputs": [],
   "source": [
    "augmented_data = [(1, 12/16, 'A', 4, 0),\n",
    "                    (1, 16/16, 'B', -1, 13/16),\n",
    "                    (1, 7/16, 'B', -1, 24/16),\n",
    "                    (1, 6/16, 'B', -1, 26/16),\n",
    "                    (1, 16/16, 'C', 4, 0),\n",
    "                    (1, 3/16, 'C', 4, 0.5),\n",
    "                    (1, 7/16, 'C', 4, 0.5),\n",
    "                    (1, 13/16, 'C', 3, 0),\n",
    "                    (1, 7/16, 'D', 4, 0),\n",
    "                    (1, 1/16, 'D', 4, 0.5),\n",
    "                    (1, 1/16, 'D', 5, 0.5),\n",
    "                    (1, 2/16, 'D', 5, 0),\n",
    "                    (1, 16/16, 'E', 4, 0),\n",
    "                    (1, 10/16, 'E', 5, 0),\n",
    "                    (1, 9/16, 'E', 4, 0.5),\n",
    "                    (1, 6/16, 'E', 3, 0.5),\n",
    "\n",
    "                    (2, 6/16, 'D', 2, 0),\n",
    "                    (2, 13/16, 'E', 2, 0),\n",
    "                    (2, 4/16, 'E', 1, 0),\n",
    "                    (2, 11/16, 'F', 2, 0),\n",
    "\n",
    "                    (3, 9/16, 'D', 1, 0),\n",
    "                    (3, 2/16, 'D', 2, 0),\n",
    "                    (3, 6/16, 'E', 1, 0),\n",
    "                    (3, 9/16, 'F', 1, 0),\n",
    "                    (3, 2/16, 'F', 2, 0),\n",
    "                    (3, 10/16, 'G', 1, 0),\n",
    "                    (3, 1/16, 'G', 1, 0.5),\n",
    "\n",
    "                    (4, 10/16, 'D', 6, 0),\n",
    "                    (4, 5/16, 'E', 5, 0),\n",
    "                    (4, 1/16, 'E', 5, 0.5),\n",
    "                    (4, 15/16, 'F', 5, 0),\n",
    "                    (4, 5/16, 'F', 5, 0.5),\n",
    "                    (4, 10/16, 'G', 5, 0)]"
   ]
  },
  {
   "cell_type": "code",
   "execution_count": 67,
   "metadata": {},
   "outputs": [],
   "source": [
    "pclass = []\n",
    "chunk_size = []\n",
    "deck = []\n",
    "stairwell_used = []\n",
    "obstruction_factor = []\n",
    "\n",
    "for i in augmented_data:\n",
    "    for j, k in zip(i, [pclass, chunk_size, deck, stairwell_used, obstruction_factor]):\n",
    "        k.append(j)"
   ]
  },
  {
   "cell_type": "code",
   "execution_count": 68,
   "metadata": {},
   "outputs": [],
   "source": [
    "data_aug = pd.DataFrame({'Class': pclass,\n",
    "                         'Chunk': chunk_size,\n",
    "                         'Deck': deck,\n",
    "                         'Stairwell': stairwell_used,\n",
    "                         'Obstruction': obstruction_factor})"
   ]
  },
  {
   "cell_type": "markdown",
   "metadata": {},
   "source": [
    "* In order to assign proper weights, the densities for Pclass cabins will be required."
   ]
  },
  {
   "cell_type": "markdown",
   "metadata": {},
   "source": [
    "#### First Class\n",
    "* Capacity: 1034\n",
    "* Existed: 325\n",
    "\n",
    "#### Second Class\n",
    "* Capacity: 510\n",
    "* Existed: 285\n",
    "\n",
    "#### Third Class\n",
    "* Capacity: 1022\n",
    "* Existed: 706"
   ]
  },
  {
   "cell_type": "markdown",
   "metadata": {},
   "source": [
    "There were 840 staterooms in all, 416 in First Class, 162 in Second Class, and 262 in Third Class."
   ]
  },
  {
   "cell_type": "markdown",
   "metadata": {},
   "source": [
    "Titanic Length : Reference Length <br>\n",
    "269m : 49.8173m <br>\n",
    "294.182 yards : 54.5 yards <br>\n",
    "n*16 blocks : 16 blocks"
   ]
  },
  {
   "cell_type": "markdown",
   "metadata": {},
   "source": [
    "1 block = 3.1135 metres"
   ]
  },
  {
   "cell_type": "markdown",
   "metadata": {},
   "source": [
    "Average Deck Height = 9 feet 2 inches = 2.8 m"
   ]
  },
  {
   "cell_type": "markdown",
   "metadata": {},
   "source": [
    "Assumed staircase pitch = 40 degrees"
   ]
  },
  {
   "cell_type": "markdown",
   "metadata": {},
   "source": [
    "Resultant horizontal distance for stairs = 3.337 meters <br>\n",
    "Using 4 block values for stairs (decreased efficiency while climbing a staircase, tilted ship)"
   ]
  },
  {
   "cell_type": "markdown",
   "metadata": {},
   "source": [
    "* Maximum supported passengers"
   ]
  },
  {
   "cell_type": "code",
   "execution_count": 69,
   "metadata": {},
   "outputs": [
    {
     "data": {
      "text/plain": [
       "{'First': 1034, 'Second': 510, 'Third': 1022}"
      ]
     },
     "execution_count": 69,
     "metadata": {},
     "output_type": "execute_result"
    }
   ],
   "source": [
    "max_pass = {}\n",
    "\n",
    "max_pass['First'] = 1034\n",
    "max_pass['Second'] = 510\n",
    "max_pass['Third'] = 1022\n",
    "\n",
    "max_pass"
   ]
  },
  {
   "cell_type": "markdown",
   "metadata": {},
   "source": [
    "* Number of passengers according to dataset"
   ]
  },
  {
   "cell_type": "code",
   "execution_count": 70,
   "metadata": {},
   "outputs": [
    {
     "data": {
      "text/plain": [
       "{'First': 323,\n",
       " 'Second': 277,\n",
       " 'Third': 709,\n",
       " 'Third Male Solo': 372,\n",
       " 'Third Others': 337}"
      ]
     },
     "execution_count": 70,
     "metadata": {},
     "output_type": "execute_result"
    }
   ],
   "source": [
    "no_of_pass = {}\n",
    "\n",
    "no_of_pass['First'] = data[ data['Pclass'] == 1 ]['Name'].notnull().sum()\n",
    "no_of_pass['Second'] = data[ data['Pclass'] == 2 ]['Name'].notnull().sum()\n",
    "no_of_pass['Third'] = data[ data['Pclass'] == 3 ]['Name'].notnull().sum()\n",
    "\n",
    "no_of_pass['Third Male Solo'] = data[ (data['Pclass'] == 3)\n",
    "                                    & (data['Sex'] == 'male')\n",
    "                                    & (data['SibSp'] == 0)\n",
    "                                    & (data['Parch'] == 0)]['Name'].notnull().sum()\n",
    "\n",
    "no_of_pass['Third Others'] = no_of_pass['Third'] - no_of_pass['Third Male Solo']\n",
    "\n",
    "no_of_pass"
   ]
  },
  {
   "cell_type": "markdown",
   "metadata": {},
   "source": [
    "* Number of Cabins for classes"
   ]
  },
  {
   "cell_type": "code",
   "execution_count": 71,
   "metadata": {},
   "outputs": [],
   "source": [
    "# data_aug[ data_aug ['Class'] == 3]['Chunk'].sum()\n",
    "\n",
    "# data_aug[ data_aug ['Class'] == 4]['Chunk'].sum()\n",
    "\n",
    "# data_aug[ data_aug ['Class'].isin([3, 4])]['Chunk'].sum()\n",
    "\n",
    "# no_of_cabins['Third'] * (2.4375 / 5.3125)\n",
    "\n",
    "# no_of_cabins['Third'] * (2.875 / 5.3125)"
   ]
  },
  {
   "cell_type": "code",
   "execution_count": 72,
   "metadata": {},
   "outputs": [
    {
     "data": {
      "text/plain": [
       "{'First': 416,\n",
       " 'Second': 162,\n",
       " 'Third': 262,\n",
       " 'Third Male Solo': 120,\n",
       " 'Third Others': 142}"
      ]
     },
     "execution_count": 72,
     "metadata": {},
     "output_type": "execute_result"
    }
   ],
   "source": [
    "no_of_cabins = {}\n",
    "\n",
    "no_of_cabins['First'] = 416\n",
    "no_of_cabins['Second'] = 162\n",
    "no_of_cabins['Third'] = 262\n",
    "no_of_cabins['Third Male Solo'] = 120\n",
    "no_of_cabins['Third Others'] = 142\n",
    "\n",
    "no_of_cabins"
   ]
  },
  {
   "cell_type": "markdown",
   "metadata": {},
   "source": [
    "* Rough measured volume assigned to class cabins\n",
    "* 1 unit ~= 3.11*16 metres ~=49.8 m"
   ]
  },
  {
   "cell_type": "code",
   "execution_count": 73,
   "metadata": {},
   "outputs": [
    {
     "data": {
      "text/plain": [
       "{'First': 8.25,\n",
       " 'Second': 2.125,\n",
       " 'Third Male Solo': 2.4375,\n",
       " 'Third Others': 2.875,\n",
       " 'Third': 5.3125}"
      ]
     },
     "execution_count": 73,
     "metadata": {},
     "output_type": "execute_result"
    }
   ],
   "source": [
    "pass_alloted_vol = {}\n",
    "\n",
    "pass_alloted_vol['First'] = data_aug[ data_aug['Class'] == 1 ]['Chunk'].sum()\n",
    "pass_alloted_vol['Second'] = data_aug[ data_aug['Class'] == 2 ]['Chunk'].sum()\n",
    "pass_alloted_vol['Third Male Solo'] = data_aug[ data_aug['Class'] == 3 ]['Chunk'].sum()\n",
    "pass_alloted_vol['Third Others'] = data_aug[ data_aug['Class'] == 4 ]['Chunk'].sum()\n",
    "pass_alloted_vol['Third'] = pass_alloted_vol['Third Others'] + pass_alloted_vol['Third Male Solo']\n",
    "\n",
    "pass_alloted_vol"
   ]
  },
  {
   "cell_type": "markdown",
   "metadata": {},
   "source": [
    "* Densities of Pclass cabins wrt expected densities"
   ]
  },
  {
   "cell_type": "code",
   "execution_count": 74,
   "metadata": {},
   "outputs": [
    {
     "data": {
      "text/plain": [
       "{'First': 0.7764423076923077,\n",
       " 'Second': 1.7098765432098766,\n",
       " 'Third': 2.7061068702290076,\n",
       " 'Third Male Solo': 3.1,\n",
       " 'Third Others': 2.3732394366197185}"
      ]
     },
     "execution_count": 74,
     "metadata": {},
     "output_type": "execute_result"
    }
   ],
   "source": [
    "# (no_of_pass['First'] / max_pass['First']) * (max_pass['First'] / no_of_cabins['First'])\n",
    "class_density = {}\n",
    "class_density['First'] = no_of_pass['First'] / no_of_cabins['First']\n",
    "class_density['Second'] = no_of_pass['Second'] / no_of_cabins['Second']\n",
    "class_density['Third'] = no_of_pass['Third'] / no_of_cabins['Third']\n",
    "\n",
    "class_density['Third Male Solo'] = no_of_pass['Third Male Solo'] / no_of_cabins['Third Male Solo']\n",
    "class_density['Third Others'] = no_of_pass['Third Others'] / no_of_cabins['Third Others']\n",
    "\n",
    "class_density"
   ]
  },
  {
   "cell_type": "code",
   "execution_count": 75,
   "metadata": {},
   "outputs": [],
   "source": [
    "def w_dist(p_class, chunk, deck_val, stairwell, obstr, densities):\n",
    "    '''Returns weighted distance.\n",
    "    p_class: Passenger Class\n",
    "    chunk: Size of population (0, 1]\n",
    "    obstr: Obstructive distance from nearest staircase or distance to lifeboats if no stairwell was used\n",
    "    deck_val: Deck where the passengers are\n",
    "    stairwell: Stairwell used'''\n",
    "    density = {1: densities['First'],\n",
    "              2: densities['Second'],\n",
    "              3: densities['Third Male Solo'],\n",
    "              4: densities['Third Others']}\n",
    "    \n",
    "    deck = {'A': 1, 'B': 0, 'C': 1, 'D': 2, 'E': 3, 'F': 4, 'G': 5}\n",
    "    \n",
    "    stairwell_used = {-1: 0, 1: 0, 2: 9/16, 3: 21/16, 4: 13/16, 5: 2/16, 6: 0}\n",
    "    \n",
    "    floor_distance = 4/16\n",
    "    unit_travel_distance = 1\n",
    "    \n",
    "    return density[p_class] * chunk * ( ( (obstr + stairwell_used[stairwell]) * unit_travel_distance) + (deck[deck_val] * floor_distance) )"
   ]
  },
  {
   "cell_type": "code",
   "execution_count": 76,
   "metadata": {},
   "outputs": [
    {
     "data": {
      "text/plain": [
       "{'First': 8.734975961538462,\n",
       " 'Second': 4.662085262345679,\n",
       " 'Third Male Solo': 7.265625,\n",
       " 'Third Others': 7.342209507042254}"
      ]
     },
     "execution_count": 76,
     "metadata": {},
     "output_type": "execute_result"
    }
   ],
   "source": [
    "sum_wt_mean_dist = {}\n",
    "\n",
    "for mask, target_class in zip([data_aug['Class'] == req_class for req_class in range(1, 5)],\n",
    "                             ['First', 'Second', 'Third Male Solo', 'Third Others']):\n",
    "    \n",
    "    iterate_over = zip(data_aug[mask]['Class'], data_aug[mask]['Chunk'], \n",
    "                       data_aug[mask]['Deck'], data_aug[mask]['Stairwell'], \n",
    "                       data_aug[mask]['Obstruction'])\n",
    "    \n",
    "    \n",
    "    weighted_dist_for_chunks = [w_dist(p_class, chunk_size, deck_val, stairwell, dist, class_density)\n",
    "                                for p_class, chunk_size, deck_val, stairwell, dist in iterate_over]\n",
    "    \n",
    "    sum_wt_mean_dist[target_class] = sum(weighted_dist_for_chunks)\n",
    "    \n",
    "sum_wt_mean_dist"
   ]
  },
  {
   "cell_type": "markdown",
   "metadata": {},
   "source": [
    "* <code>Mean weighted distance</code> for a passenger belonging to a class <code>wrt distribution of their cabins</code>"
   ]
  },
  {
   "cell_type": "code",
   "execution_count": 77,
   "metadata": {},
   "outputs": [
    {
     "data": {
      "text/plain": [
       "{'First': 2.7043269230769234,\n",
       " 'Second': 1.683063271604938,\n",
       " 'Third Male Solo': 1.953125,\n",
       " 'Third Others': 2.178697183098592}"
      ]
     },
     "execution_count": 77,
     "metadata": {},
     "output_type": "execute_result"
    }
   ],
   "source": [
    "wt_mean_dist_distri = {}\n",
    "\n",
    "wt_mean_dist_distri['First'] = sum_wt_mean_dist['First'] / no_of_pass['First'] * 100\n",
    "wt_mean_dist_distri['Second'] = sum_wt_mean_dist['Second'] / no_of_pass['Second'] * 100\n",
    "\n",
    "wt_mean_dist_distri['Third Male Solo'] = sum_wt_mean_dist['Third Male Solo'] / no_of_pass['Third Male Solo'] * 100\n",
    "wt_mean_dist_distri['Third Others'] = sum_wt_mean_dist['Third Others'] / no_of_pass['Third Others'] * 100\n",
    "\n",
    "wt_mean_dist_distri"
   ]
  },
  {
   "cell_type": "markdown",
   "metadata": {},
   "source": [
    "* <code>Mean weighted distance</code> for a passenger belonging to a class <code>wrt no of passengers in their class</code>"
   ]
  },
  {
   "cell_type": "code",
   "execution_count": 78,
   "metadata": {},
   "outputs": [
    {
     "data": {
      "text/plain": [
       "{'First': 1.058784965034965,\n",
       " 'Second': 2.1939224763979666,\n",
       " 'Third Male Solo': 2.980769230769231,\n",
       " 'Third Others': 2.5538120024494795}"
      ]
     },
     "execution_count": 78,
     "metadata": {},
     "output_type": "execute_result"
    }
   ],
   "source": [
    "wt_mean_dist_pop = {}\n",
    "\n",
    "wt_mean_dist_pop['First'] = sum_wt_mean_dist['First'] / pass_alloted_vol['First']\n",
    "wt_mean_dist_pop['Second'] = sum_wt_mean_dist['Second'] / pass_alloted_vol['Second']\n",
    "\n",
    "wt_mean_dist_pop['Third Male Solo'] = sum_wt_mean_dist['Third Male Solo'] / pass_alloted_vol['Third Male Solo']\n",
    "wt_mean_dist_pop['Third Others'] = sum_wt_mean_dist['Third Others'] / pass_alloted_vol['Third Others']\n",
    "\n",
    "wt_mean_dist_pop"
   ]
  },
  {
   "cell_type": "markdown",
   "metadata": {},
   "source": [
    "* Creating a dataframe to keep all class related properties"
   ]
  },
  {
   "cell_type": "code",
   "execution_count": 79,
   "metadata": {},
   "outputs": [
    {
     "data": {
      "text/html": [
       "<div>\n",
       "<style scoped>\n",
       "    .dataframe tbody tr th:only-of-type {\n",
       "        vertical-align: middle;\n",
       "    }\n",
       "\n",
       "    .dataframe tbody tr th {\n",
       "        vertical-align: top;\n",
       "    }\n",
       "\n",
       "    .dataframe thead th {\n",
       "        text-align: right;\n",
       "    }\n",
       "</style>\n",
       "<table border=\"1\" class=\"dataframe\">\n",
       "  <thead>\n",
       "    <tr style=\"text-align: right;\">\n",
       "      <th></th>\n",
       "      <th>Class</th>\n",
       "      <th>No of Cabins</th>\n",
       "      <th>Passenger Total</th>\n",
       "      <th>Volume Alloted</th>\n",
       "      <th>Density</th>\n",
       "      <th>Sum Weighted Mean</th>\n",
       "      <th>Wtm cabin distr</th>\n",
       "      <th>Wtm pop size</th>\n",
       "    </tr>\n",
       "  </thead>\n",
       "  <tbody>\n",
       "    <tr>\n",
       "      <th>0</th>\n",
       "      <td>First</td>\n",
       "      <td>416</td>\n",
       "      <td>323</td>\n",
       "      <td>8.2500</td>\n",
       "      <td>0.776442</td>\n",
       "      <td>8.734976</td>\n",
       "      <td>2.704327</td>\n",
       "      <td>1.058785</td>\n",
       "    </tr>\n",
       "    <tr>\n",
       "      <th>1</th>\n",
       "      <td>Second</td>\n",
       "      <td>162</td>\n",
       "      <td>277</td>\n",
       "      <td>2.1250</td>\n",
       "      <td>1.709877</td>\n",
       "      <td>4.662085</td>\n",
       "      <td>1.683063</td>\n",
       "      <td>2.193922</td>\n",
       "    </tr>\n",
       "    <tr>\n",
       "      <th>2</th>\n",
       "      <td>Third Male Solo</td>\n",
       "      <td>120</td>\n",
       "      <td>372</td>\n",
       "      <td>2.4375</td>\n",
       "      <td>3.100000</td>\n",
       "      <td>7.265625</td>\n",
       "      <td>1.953125</td>\n",
       "      <td>2.980769</td>\n",
       "    </tr>\n",
       "    <tr>\n",
       "      <th>3</th>\n",
       "      <td>Third Others</td>\n",
       "      <td>142</td>\n",
       "      <td>337</td>\n",
       "      <td>2.8750</td>\n",
       "      <td>2.373239</td>\n",
       "      <td>7.342210</td>\n",
       "      <td>2.178697</td>\n",
       "      <td>2.553812</td>\n",
       "    </tr>\n",
       "  </tbody>\n",
       "</table>\n",
       "</div>"
      ],
      "text/plain": [
       "             Class  No of Cabins  Passenger Total  Volume Alloted   Density  \\\n",
       "0            First           416              323          8.2500  0.776442   \n",
       "1           Second           162              277          2.1250  1.709877   \n",
       "2  Third Male Solo           120              372          2.4375  3.100000   \n",
       "3     Third Others           142              337          2.8750  2.373239   \n",
       "\n",
       "   Sum Weighted Mean  Wtm cabin distr  Wtm pop size  \n",
       "0           8.734976         2.704327      1.058785  \n",
       "1           4.662085         1.683063      2.193922  \n",
       "2           7.265625         1.953125      2.980769  \n",
       "3           7.342210         2.178697      2.553812  "
      ]
     },
     "execution_count": 79,
     "metadata": {},
     "output_type": "execute_result"
    }
   ],
   "source": [
    "categories = ['First', 'Second', 'Third Male Solo', 'Third Others']\n",
    "info_aug = pd.DataFrame({'Class': categories,\n",
    "                         \n",
    "                         'No of Cabins': [no_of_cabins[i]\n",
    "                                         for i in categories],\n",
    "                         \n",
    "                         'Passenger Total': [no_of_pass[i] \n",
    "                                             for i in categories],\n",
    "                         \n",
    "                         'Volume Alloted': [pass_alloted_vol[i]\n",
    "                                            for i in categories],\n",
    "                         \n",
    "                         'Density': [class_density[i]\n",
    "                                    for i in categories],\n",
    "                         \n",
    "                         'Sum Weighted Mean': [sum_wt_mean_dist[i]\n",
    "                                              for i in categories],\n",
    "                         \n",
    "                         'Wtm cabin distr': [wt_mean_dist_distri[i]\n",
    "                                            for i in categories],\n",
    "                         \n",
    "                         'Wtm pop size': [wt_mean_dist_pop[i]\n",
    "                                         for i in categories],})\n",
    "\n",
    "info_aug"
   ]
  },
  {
   "cell_type": "markdown",
   "metadata": {},
   "source": [
    "* We see that the density for Pclass 1 is much lower compared to all other calsses.\n",
    "* Also note that Pclass 1 was broken down into 2 categories based on titanic rules. Stats derived thereafter are presented.\n",
    "* Updating the databased on breakdown of Pclass 3."
   ]
  },
  {
   "cell_type": "code",
   "execution_count": 80,
   "metadata": {},
   "outputs": [],
   "source": [
    "data['Pclass'] = np.where((data['Pclass'] == 3)\n",
    "                          & (data['Sex'] == 'male')\n",
    "                          & (data['SibSp'] == 0)\n",
    "                          & (data['Parch'] == 0),\n",
    "                          4,\n",
    "                          data['Pclass']\n",
    "                         )\n",
    "data['Pclass'] = data['Pclass'].map({1: 1, 2: 2, 3: 4, 4: 3})"
   ]
  },
  {
   "cell_type": "code",
   "execution_count": 81,
   "metadata": {
    "scrolled": true
   },
   "outputs": [
    {
     "data": {
      "text/html": [
       "<div>\n",
       "<style scoped>\n",
       "    .dataframe tbody tr th:only-of-type {\n",
       "        vertical-align: middle;\n",
       "    }\n",
       "\n",
       "    .dataframe tbody tr th {\n",
       "        vertical-align: top;\n",
       "    }\n",
       "\n",
       "    .dataframe thead th {\n",
       "        text-align: right;\n",
       "    }\n",
       "</style>\n",
       "<table border=\"1\" class=\"dataframe\">\n",
       "  <thead>\n",
       "    <tr style=\"text-align: right;\">\n",
       "      <th></th>\n",
       "      <th>Pclass</th>\n",
       "      <th>Name</th>\n",
       "      <th>Sex</th>\n",
       "      <th>Age</th>\n",
       "      <th>SibSp</th>\n",
       "      <th>Parch</th>\n",
       "      <th>Ticket</th>\n",
       "      <th>Fare</th>\n",
       "      <th>Cabin</th>\n",
       "      <th>Embarked</th>\n",
       "      <th>Survived</th>\n",
       "      <th>Ticket Shared With</th>\n",
       "      <th>Fare Individual</th>\n",
       "      <th>Title</th>\n",
       "      <th>Title for Age</th>\n",
       "      <th>Cabin Shared With</th>\n",
       "      <th>Ticket Prefix</th>\n",
       "      <th>Deck</th>\n",
       "    </tr>\n",
       "    <tr>\n",
       "      <th>PassengerId</th>\n",
       "      <th></th>\n",
       "      <th></th>\n",
       "      <th></th>\n",
       "      <th></th>\n",
       "      <th></th>\n",
       "      <th></th>\n",
       "      <th></th>\n",
       "      <th></th>\n",
       "      <th></th>\n",
       "      <th></th>\n",
       "      <th></th>\n",
       "      <th></th>\n",
       "      <th></th>\n",
       "      <th></th>\n",
       "      <th></th>\n",
       "      <th></th>\n",
       "      <th></th>\n",
       "      <th></th>\n",
       "    </tr>\n",
       "  </thead>\n",
       "  <tbody>\n",
       "    <tr>\n",
       "      <th>1</th>\n",
       "      <td>4</td>\n",
       "      <td>Braund, Mr. Owen Harris</td>\n",
       "      <td>male</td>\n",
       "      <td>22.0</td>\n",
       "      <td>1</td>\n",
       "      <td>0</td>\n",
       "      <td>A/5 21171</td>\n",
       "      <td>7.25</td>\n",
       "      <td>NaN</td>\n",
       "      <td>S</td>\n",
       "      <td>0.0</td>\n",
       "      <td>1</td>\n",
       "      <td>7.25</td>\n",
       "      <td>Mr</td>\n",
       "      <td>Mr</td>\n",
       "      <td>0</td>\n",
       "      <td>A/5</td>\n",
       "      <td>Z</td>\n",
       "    </tr>\n",
       "    <tr>\n",
       "      <th>2</th>\n",
       "      <td>1</td>\n",
       "      <td>Cumings, Mrs. John Bradley (Florence Briggs Th...</td>\n",
       "      <td>female</td>\n",
       "      <td>38.0</td>\n",
       "      <td>1</td>\n",
       "      <td>0</td>\n",
       "      <td>PC 17599</td>\n",
       "      <td>71.28</td>\n",
       "      <td>C85</td>\n",
       "      <td>C</td>\n",
       "      <td>1.0</td>\n",
       "      <td>2</td>\n",
       "      <td>35.64</td>\n",
       "      <td>Mrs</td>\n",
       "      <td>Mrs</td>\n",
       "      <td>2</td>\n",
       "      <td>PC</td>\n",
       "      <td>C</td>\n",
       "    </tr>\n",
       "    <tr>\n",
       "      <th>3</th>\n",
       "      <td>4</td>\n",
       "      <td>Heikkinen, Miss. Laina</td>\n",
       "      <td>female</td>\n",
       "      <td>26.0</td>\n",
       "      <td>0</td>\n",
       "      <td>0</td>\n",
       "      <td>STON/O2. 3101282</td>\n",
       "      <td>7.92</td>\n",
       "      <td>NaN</td>\n",
       "      <td>S</td>\n",
       "      <td>1.0</td>\n",
       "      <td>1</td>\n",
       "      <td>7.92</td>\n",
       "      <td>Miss</td>\n",
       "      <td>Miss</td>\n",
       "      <td>0</td>\n",
       "      <td>STON/O2.</td>\n",
       "      <td>Z</td>\n",
       "    </tr>\n",
       "    <tr>\n",
       "      <th>4</th>\n",
       "      <td>1</td>\n",
       "      <td>Futrelle, Mrs. Jacques Heath (Lily May Peel)</td>\n",
       "      <td>female</td>\n",
       "      <td>35.0</td>\n",
       "      <td>1</td>\n",
       "      <td>0</td>\n",
       "      <td>113803</td>\n",
       "      <td>53.10</td>\n",
       "      <td>C123</td>\n",
       "      <td>S</td>\n",
       "      <td>1.0</td>\n",
       "      <td>2</td>\n",
       "      <td>26.55</td>\n",
       "      <td>Mrs</td>\n",
       "      <td>Mrs</td>\n",
       "      <td>2</td>\n",
       "      <td></td>\n",
       "      <td>C</td>\n",
       "    </tr>\n",
       "    <tr>\n",
       "      <th>5</th>\n",
       "      <td>3</td>\n",
       "      <td>Allen, Mr. William Henry</td>\n",
       "      <td>male</td>\n",
       "      <td>35.0</td>\n",
       "      <td>0</td>\n",
       "      <td>0</td>\n",
       "      <td>373450</td>\n",
       "      <td>8.05</td>\n",
       "      <td>NaN</td>\n",
       "      <td>S</td>\n",
       "      <td>0.0</td>\n",
       "      <td>1</td>\n",
       "      <td>8.05</td>\n",
       "      <td>Mr</td>\n",
       "      <td>Mr</td>\n",
       "      <td>0</td>\n",
       "      <td></td>\n",
       "      <td>Z</td>\n",
       "    </tr>\n",
       "  </tbody>\n",
       "</table>\n",
       "</div>"
      ],
      "text/plain": [
       "             Pclass                                               Name  \\\n",
       "PassengerId                                                              \n",
       "1                 4                            Braund, Mr. Owen Harris   \n",
       "2                 1  Cumings, Mrs. John Bradley (Florence Briggs Th...   \n",
       "3                 4                             Heikkinen, Miss. Laina   \n",
       "4                 1       Futrelle, Mrs. Jacques Heath (Lily May Peel)   \n",
       "5                 3                           Allen, Mr. William Henry   \n",
       "\n",
       "                Sex   Age  SibSp  Parch            Ticket   Fare Cabin  \\\n",
       "PassengerId                                                              \n",
       "1              male  22.0      1      0         A/5 21171   7.25   NaN   \n",
       "2            female  38.0      1      0          PC 17599  71.28   C85   \n",
       "3            female  26.0      0      0  STON/O2. 3101282   7.92   NaN   \n",
       "4            female  35.0      1      0            113803  53.10  C123   \n",
       "5              male  35.0      0      0            373450   8.05   NaN   \n",
       "\n",
       "            Embarked  Survived  Ticket Shared With  Fare Individual Title  \\\n",
       "PassengerId                                                                 \n",
       "1                  S       0.0                   1             7.25    Mr   \n",
       "2                  C       1.0                   2            35.64   Mrs   \n",
       "3                  S       1.0                   1             7.92  Miss   \n",
       "4                  S       1.0                   2            26.55   Mrs   \n",
       "5                  S       0.0                   1             8.05    Mr   \n",
       "\n",
       "            Title for Age  Cabin Shared With Ticket Prefix Deck  \n",
       "PassengerId                                                      \n",
       "1                      Mr                  0           A/5    Z  \n",
       "2                     Mrs                  2            PC    C  \n",
       "3                    Miss                  0      STON/O2.    Z  \n",
       "4                     Mrs                  2                  C  \n",
       "5                      Mr                  0                  Z  "
      ]
     },
     "execution_count": 81,
     "metadata": {},
     "output_type": "execute_result"
    }
   ],
   "source": [
    "data.head()"
   ]
  },
  {
   "cell_type": "code",
   "execution_count": 82,
   "metadata": {},
   "outputs": [
    {
     "data": {
      "text/html": [
       "<div>\n",
       "<style scoped>\n",
       "    .dataframe tbody tr th:only-of-type {\n",
       "        vertical-align: middle;\n",
       "    }\n",
       "\n",
       "    .dataframe tbody tr th {\n",
       "        vertical-align: top;\n",
       "    }\n",
       "\n",
       "    .dataframe thead th {\n",
       "        text-align: right;\n",
       "    }\n",
       "</style>\n",
       "<table border=\"1\" class=\"dataframe\">\n",
       "  <thead>\n",
       "    <tr style=\"text-align: right;\">\n",
       "      <th></th>\n",
       "      <th>Class</th>\n",
       "      <th>No of Cabins</th>\n",
       "      <th>Passenger Total</th>\n",
       "      <th>Volume Alloted</th>\n",
       "      <th>Density</th>\n",
       "      <th>Sum Weighted Mean</th>\n",
       "      <th>Wtm cabin distr</th>\n",
       "      <th>Wtm pop size</th>\n",
       "    </tr>\n",
       "  </thead>\n",
       "  <tbody>\n",
       "    <tr>\n",
       "      <th>0</th>\n",
       "      <td>First</td>\n",
       "      <td>416</td>\n",
       "      <td>323</td>\n",
       "      <td>8.2500</td>\n",
       "      <td>0.776442</td>\n",
       "      <td>8.734976</td>\n",
       "      <td>2.704327</td>\n",
       "      <td>1.058785</td>\n",
       "    </tr>\n",
       "    <tr>\n",
       "      <th>1</th>\n",
       "      <td>Second</td>\n",
       "      <td>162</td>\n",
       "      <td>277</td>\n",
       "      <td>2.1250</td>\n",
       "      <td>1.709877</td>\n",
       "      <td>4.662085</td>\n",
       "      <td>1.683063</td>\n",
       "      <td>2.193922</td>\n",
       "    </tr>\n",
       "    <tr>\n",
       "      <th>2</th>\n",
       "      <td>Third Male Solo</td>\n",
       "      <td>120</td>\n",
       "      <td>372</td>\n",
       "      <td>2.4375</td>\n",
       "      <td>3.100000</td>\n",
       "      <td>7.265625</td>\n",
       "      <td>1.953125</td>\n",
       "      <td>2.980769</td>\n",
       "    </tr>\n",
       "    <tr>\n",
       "      <th>3</th>\n",
       "      <td>Third Others</td>\n",
       "      <td>142</td>\n",
       "      <td>337</td>\n",
       "      <td>2.8750</td>\n",
       "      <td>2.373239</td>\n",
       "      <td>7.342210</td>\n",
       "      <td>2.178697</td>\n",
       "      <td>2.553812</td>\n",
       "    </tr>\n",
       "  </tbody>\n",
       "</table>\n",
       "</div>"
      ],
      "text/plain": [
       "             Class  No of Cabins  Passenger Total  Volume Alloted   Density  \\\n",
       "0            First           416              323          8.2500  0.776442   \n",
       "1           Second           162              277          2.1250  1.709877   \n",
       "2  Third Male Solo           120              372          2.4375  3.100000   \n",
       "3     Third Others           142              337          2.8750  2.373239   \n",
       "\n",
       "   Sum Weighted Mean  Wtm cabin distr  Wtm pop size  \n",
       "0           8.734976         2.704327      1.058785  \n",
       "1           4.662085         1.683063      2.193922  \n",
       "2           7.265625         1.953125      2.980769  \n",
       "3           7.342210         2.178697      2.553812  "
      ]
     },
     "execution_count": 82,
     "metadata": {},
     "output_type": "execute_result"
    }
   ],
   "source": [
    "info_aug"
   ]
  },
  {
   "cell_type": "code",
   "execution_count": 83,
   "metadata": {},
   "outputs": [],
   "source": [
    "data['CDensity'] = data['Pclass']\n",
    "data['CDensity'] = data['CDensity'].map({1: info_aug['Density'].iloc[0],\n",
    "                                         2: info_aug['Density'].iloc[1],\n",
    "                                         3: info_aug['Density'].iloc[2],\n",
    "                                         4: info_aug['Density'].iloc[3]})"
   ]
  },
  {
   "cell_type": "code",
   "execution_count": 84,
   "metadata": {},
   "outputs": [],
   "source": [
    "data['CD2LF Pop'] = data['Pclass']\n",
    "data['CD2LF Pop'] = data['CD2LF Pop'].map({1: info_aug['Wtm pop size'].iloc[0],\n",
    "                                         2: info_aug['Wtm pop size'].iloc[1],\n",
    "                                         3: info_aug['Wtm pop size'].iloc[2],\n",
    "                                         4: info_aug['Wtm pop size'].iloc[3]})"
   ]
  },
  {
   "cell_type": "code",
   "execution_count": 85,
   "metadata": {},
   "outputs": [],
   "source": [
    "data['CD2LF Distr'] = data['Pclass']\n",
    "data['CD2LF Distr'] = data['CD2LF Distr'].map({1: info_aug['Wtm cabin distr'].iloc[0],\n",
    "                                               2: info_aug['Wtm cabin distr'].iloc[1],\n",
    "                                               3: info_aug['Wtm cabin distr'].iloc[2],\n",
    "                                               4: info_aug['Wtm cabin distr'].iloc[3]})"
   ]
  },
  {
   "cell_type": "markdown",
   "metadata": {},
   "source": [
    "* Apart from solo male passengers in Pclass 3, survival may also depend on the number of family members travelling together.\n",
    "* Creating a feature for the same."
   ]
  },
  {
   "cell_type": "code",
   "execution_count": 86,
   "metadata": {},
   "outputs": [],
   "source": [
    "data['Family Size'] = data['SibSp'] + data['Parch'] + 1"
   ]
  },
  {
   "cell_type": "code",
   "execution_count": 87,
   "metadata": {},
   "outputs": [
    {
     "data": {
      "image/png": "[encoded data removed]",
      "text/plain": [
       "<Figure size 1080x432 with 10 Axes>"
      ]
     },
     "metadata": {
      "needs_background": "light"
     },
     "output_type": "display_data"
    }
   ],
   "source": [
    "facet = sns.FacetGrid(data[ data['SibSp'] > 1 ] , row='Survived', col='SibSp')\n",
    "figure = facet.map(sns.countplot, 'Sex')"
   ]
  },
  {
   "cell_type": "code",
   "execution_count": 88,
   "metadata": {},
   "outputs": [],
   "source": [
    "bad_mask = data['Pclass'] != 3"
   ]
  },
  {
   "cell_type": "code",
   "execution_count": 89,
   "metadata": {},
   "outputs": [
    {
     "data": {
      "image/png": "[encoded data removed]",
      "text/plain": [
       "<Figure size 360x360 with 1 Axes>"
      ]
     },
     "metadata": {
      "needs_background": "light"
     },
     "output_type": "display_data"
    }
   ],
   "source": [
    "factor = sns.factorplot(x='Sex', y='Survived', data=data, kind='bar')"
   ]
  },
  {
   "cell_type": "code",
   "execution_count": 90,
   "metadata": {
    "scrolled": false
   },
   "outputs": [
    {
     "data": {
      "image/png": "[encoded data removed]",
      "text/plain": [
       "<Figure size 360x360 with 1 Axes>"
      ]
     },
     "metadata": {
      "needs_background": "light"
     },
     "output_type": "display_data"
    }
   ],
   "source": [
    "factor = sns.factorplot(x='SibSp', y='Survived', data=data, kind='bar')"
   ]
  },
  {
   "cell_type": "code",
   "execution_count": 91,
   "metadata": {},
   "outputs": [
    {
     "data": {
      "image/png": "[encoded data removed]",
      "text/plain": [
       "<Figure size 360x360 with 1 Axes>"
      ]
     },
     "metadata": {
      "needs_background": "light"
     },
     "output_type": "display_data"
    }
   ],
   "source": [
    "factor = sns.factorplot(x='Parch', y='Survived', data=data[bad_mask], kind='bar')"
   ]
  },
  {
   "cell_type": "code",
   "execution_count": 92,
   "metadata": {},
   "outputs": [
    {
     "data": {
      "image/png": "[encoded data removed]",
      "text/plain": [
       "<Figure size 360x360 with 1 Axes>"
      ]
     },
     "metadata": {
      "needs_background": "light"
     },
     "output_type": "display_data"
    }
   ],
   "source": [
    "factor = sns.factorplot(x='Family Size', y='Survived', data=data[data['Pclass'].isin([4])], kind='bar')"
   ]
  },
  {
   "cell_type": "code",
   "execution_count": 93,
   "metadata": {},
   "outputs": [
    {
     "data": {
      "image/png": "[encoded data removed]",
      "text/plain": [
       "<Figure size 360x360 with 1 Axes>"
      ]
     },
     "metadata": {
      "needs_background": "light"
     },
     "output_type": "display_data"
    }
   ],
   "source": [
    "factor = sns.factorplot(x='Family Size', y='Survived', data=data[ ~((data['Pclass'] == 3) | (data['Sex']=='female') & (data['Family Size']==1)) ], kind='bar')"
   ]
  },
  {
   "cell_type": "code",
   "execution_count": 94,
   "metadata": {},
   "outputs": [
    {
     "data": {
      "image/png": "[encoded data removed]",
      "text/plain": [
       "<Figure size 360x360 with 1 Axes>"
      ]
     },
     "metadata": {
      "needs_background": "light"
     },
     "output_type": "display_data"
    }
   ],
   "source": [
    "factor = sns.factorplot(x='Ticket Shared With', y='Survived', data=data[ data['Family Size'] == 1 ], kind='bar')"
   ]
  },
  {
   "cell_type": "markdown",
   "metadata": {},
   "source": [
    "* After checking the probablities of survival for all classes, it was found that lone men had a very low chance of survival.\n",
    "* On the other hand, lone women had a high chance of survival.\n",
    "* Apart from lone passeners, families around the size of 4 had the highest chances of survival.\n",
    "* These observations are inferred as influence of Parch and SibSp. Around family size of 4, the number of children and females are the highest, hence families with this size have a higher probablity of survival.\n",
    "* Pclass 3 solo male passengers contribute to a high amount of skewness in the data. Once ignored, a general trend is visible.\n",
    "* Family size 7's high survival rate may at first look like an outlier but it is like so due to coincidentally high number of children and women in the group."
   ]
  },
  {
   "cell_type": "markdown",
   "metadata": {},
   "source": [
    "* We can augment another feature Cold Resistance which will be based on Age and Sex"
   ]
  },
  {
   "cell_type": "code",
   "execution_count": 95,
   "metadata": {},
   "outputs": [
    {
     "data": {
      "image/png": "[encoded data removed]",
      "text/plain": [
       "<Figure size 432x288 with 1 Axes>"
      ]
     },
     "metadata": {
      "needs_background": "light"
     },
     "output_type": "display_data"
    }
   ],
   "source": [
    "c = 2\n",
    "\n",
    "age_factor = 40\n",
    "\n",
    "age = [i for i in range(0, 100)]\n",
    "\n",
    "cold_resistance_age = stats.weibull_min.pdf(age, c, scale=age_factor)*max(age)\n",
    "\n",
    "body_size_factor = [i/(10*age_factor) for i in range(0, 100)]\n",
    "cold_resistance_age_male = [i+j for i,j in zip(body_size_factor, cold_resistance_age)]\n",
    "normalize_factor = 100/max(cold_resistance_age_male)\n",
    "cold_resistance_age_male = [i*normalize_factor for i in cold_resistance_age_male]\n",
    "\n",
    "gender_factor = [i/10 for i in range(0, 100)]\n",
    "cold_resistance_age_female = [i*0.90 for i in cold_resistance_age_male]\n",
    "\n",
    "fig = plt.figure(figsize=(6, 4))\n",
    "_ = plt.plot(age, cold_resistance_age_male)\n",
    "_ = plt.plot(age, cold_resistance_age_female)\n",
    "_ = plt.title('Cold Resistance wrt Age')\n",
    "plt.show()\n"
   ]
  },
  {
   "cell_type": "markdown",
   "metadata": {},
   "source": [
    "* Tallying cold resistance with survival based on age"
   ]
  },
  {
   "cell_type": "code",
   "execution_count": 96,
   "metadata": {
    "scrolled": true
   },
   "outputs": [
    {
     "data": {
      "image/png": "[encoded data removed]",
      "text/plain": [
       "<Figure size 432x432 with 4 Axes>"
      ]
     },
     "metadata": {
      "needs_background": "light"
     },
     "output_type": "display_data"
    }
   ],
   "source": [
    "facet = sns.FacetGrid(data, col='Survived', row='Sex')\n",
    "figure = facet.map(sns.distplot, 'Age')"
   ]
  },
  {
   "cell_type": "markdown",
   "metadata": {},
   "source": [
    "* Contrary to the assumption that people with higher cold resistance (CR) would survive, those who died often had greater CR than others.\n",
    "* It is inferred that preference was given to those with lower CR and those with high CR decided to swim.\n",
    "* Also, more preference was given to children and female passengers.\n",
    "* Hence it is being concluded that the passengers did not understand the risk of hypothermia and as a result, some may have unknowingly went on to sacrifice themselves."
   ]
  },
  {
   "cell_type": "markdown",
   "metadata": {},
   "source": [
    "* Titles include information about some people holding strong social positions which may affect the preference given to them to board the lifeboats.\n",
    "* Grouping the royalty/socially respected titles into groups."
   ]
  },
  {
   "cell_type": "code",
   "execution_count": 97,
   "metadata": {},
   "outputs": [],
   "source": [
    "royalty = ['Jonkheer', 'Don'] + ['Mlle', 'Ms', 'Mme'] + ['Lady', 'the Countess', 'Dona', 'Lady']\n",
    "respected = ['Capt', 'Col', 'Rev', 'Major', 'Dr']"
   ]
  },
  {
   "cell_type": "code",
   "execution_count": 98,
   "metadata": {},
   "outputs": [
    {
     "data": {
      "image/png": "[encoded data removed]",
      "text/plain": [
       "<Figure size 432x432 with 4 Axes>"
      ]
     },
     "metadata": {
      "needs_background": "light"
     },
     "output_type": "display_data"
    }
   ],
   "source": [
    "facet = sns.FacetGrid(data[ data['Title'].isin(royalty) ], col='Survived', row='Sex')\n",
    "figure = facet.map(sns.countplot, 'Title')"
   ]
  },
  {
   "cell_type": "markdown",
   "metadata": {},
   "source": [
    "* These are rather stark trends and should be captured."
   ]
  },
  {
   "cell_type": "code",
   "execution_count": 99,
   "metadata": {},
   "outputs": [],
   "source": [
    "data['Title Social'] = np.where(data['Title'].isin(royalty),\n",
    "                          'Royalty',\n",
    "                          data['Title for Age'])"
   ]
  },
  {
   "cell_type": "code",
   "execution_count": 100,
   "metadata": {},
   "outputs": [
    {
     "data": {
      "image/png": "[encoded data removed]",
      "text/plain": [
       "<Figure size 360x360 with 1 Axes>"
      ]
     },
     "metadata": {
      "needs_background": "light"
     },
     "output_type": "display_data"
    }
   ],
   "source": [
    "factor = sns.factorplot(x='Title Social', y='Survived', data=data, kind='bar')"
   ]
  },
  {
   "cell_type": "code",
   "execution_count": 101,
   "metadata": {},
   "outputs": [
    {
     "data": {
      "image/png": "[encoded data removed]",
      "text/plain": [
       "<Figure size 432x216 with 2 Axes>"
      ]
     },
     "metadata": {
      "needs_background": "light"
     },
     "output_type": "display_data"
    }
   ],
   "source": [
    "facet = sns.FacetGrid(data[ data['Title'].isin(respected) ], col='Survived',)\n",
    "figure = facet.map(sns.countplot, 'Title')"
   ]
  },
  {
   "cell_type": "markdown",
   "metadata": {},
   "source": [
    "* From the above graphs, it is concluded that social standing apart from being royalty had little to no effect on survivability.\n",
    "* Sex and fare paid on the other hand had a huge effect on survivability."
   ]
  },
  {
   "cell_type": "markdown",
   "metadata": {},
   "source": [
    "* Finalizing and saving the data."
   ]
  },
  {
   "cell_type": "code",
   "execution_count": 102,
   "metadata": {},
   "outputs": [],
   "source": [
    "data_aug.to_csv(\"processed data/data_aug.csv\")\n",
    "info_aug.to_csv(\"processed data/info_aug.csv\")\n",
    "data.to_csv(\"processed data/data.csv\")"
   ]
  },
  {
   "cell_type": "code",
   "execution_count": 103,
   "metadata": {},
   "outputs": [
    {
     "data": {
      "text/plain": [
       "Pclass                   0\n",
       "Name                     0\n",
       "Sex                      0\n",
       "Age                      0\n",
       "SibSp                    0\n",
       "Parch                    0\n",
       "Ticket                   0\n",
       "Fare                     0\n",
       "Cabin                 1014\n",
       "Embarked                 0\n",
       "Survived               418\n",
       "Ticket Shared With       0\n",
       "Fare Individual          0\n",
       "Title                    0\n",
       "Title for Age            0\n",
       "Cabin Shared With        0\n",
       "Ticket Prefix            0\n",
       "Deck                     0\n",
       "CDensity                 0\n",
       "CD2LF Pop                0\n",
       "CD2LF Distr              0\n",
       "Family Size              0\n",
       "Title Social             0\n",
       "dtype: int64"
      ]
     },
     "execution_count": 103,
     "metadata": {},
     "output_type": "execute_result"
    }
   ],
   "source": [
    "data.isnull().sum()"
   ]
  }
 ],
 "metadata": {
  "kernelspec": {
   "display_name": "Python 3",
   "language": "python",
   "name": "python3"
  },
  "language_info": {
   "codemirror_mode": {
    "name": "ipython",
    "version": 3
   },
   "file_extension": ".py",
   "mimetype": "text/x-python",
   "name": "python",
   "nbconvert_exporter": "python",
   "pygments_lexer": "ipython3",
   "version": "3.6.10"
  }
 },
 "nbformat": 4,
 "nbformat_minor": 4
}
