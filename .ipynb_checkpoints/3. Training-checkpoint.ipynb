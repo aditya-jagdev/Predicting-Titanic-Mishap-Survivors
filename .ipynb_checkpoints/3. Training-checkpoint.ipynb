{
 "cells": [
  {
   "cell_type": "code",
   "execution_count": 1,
   "metadata": {},
   "outputs": [],
   "source": [
    "import gensim\n",
    "import math\n",
    "import nltk\n",
    "import numpy as np\n",
    "import operator\n",
    "import pandas as pd\n",
    "import pickle\n",
    "import pydotplus\n",
    "import random\n",
    "import re\n",
    "import seaborn as sns\n",
    "import string\n",
    "import sys\n",
    "import time\n",
    "import warnings\n",
    "import zipfile\n",
    "\n",
    "from collections import Counter\n",
    "\n",
    "from gensim import corpora\n",
    "from gensim.models.coherencemodel import CoherenceModel\n",
    "from gensim.models.ldamodel import LdaModel\n",
    "from gensim.models.lsimodel import LsiModel\n",
    "\n",
    "from gensim.utils import simple_preprocess\n",
    "from gensim.utils import simple_preprocess\n",
    "\n",
    "from imblearn.under_sampling import RandomUnderSampler\n",
    "from imblearn.under_sampling import ClusterCentroids\n",
    "from imblearn.under_sampling import TomekLinks\n",
    "from imblearn.over_sampling import RandomOverSampler\n",
    "from imblearn.over_sampling import SMOTE\n",
    "\n",
    "from io import StringIO\n",
    "\n",
    "from IPython.display import Image\n",
    "\n",
    "from matplotlib import pyplot as plt\n",
    "from matplotlib import colors as mcolors\n",
    "from matplotlib import ticker\n",
    "\n",
    "from mlxtend.classifier import StackingClassifier\n",
    "\n",
    "from nltk.corpus import stopwords\n",
    "from nltk.tokenize import word_tokenize\n",
    "from nltk.tokenize import sent_tokenize\n",
    "from nltk.stem import WordNetLemmatizer\n",
    "from nltk.stem.porter import *\n",
    "from nltk.stem.wordnet import WordNetLemmatizer\n",
    "\n",
    "from pprint import pprint\n",
    "\n",
    "import pyLDAvis\n",
    "import pyLDAvis.gensim\n",
    "\n",
    "from scipy import stats\n",
    "from scipy.cluster import hierarchy as sch\n",
    "\n",
    "from sklearn.cluster import KMeans\n",
    "from sklearn.cluster import AgglomerativeClustering\n",
    "from sklearn.datasets import make_moons\n",
    "from sklearn.decomposition import LatentDirichletAllocation\n",
    "from sklearn.decomposition import PCA\n",
    "from sklearn.decomposition import TruncatedSVD\n",
    "from sklearn.ensemble import AdaBoostClassifier\n",
    "from sklearn.ensemble import BaggingClassifier\n",
    "from sklearn.ensemble import ExtraTreesClassifier\n",
    "from sklearn.ensemble import GradientBoostingClassifier\n",
    "from sklearn.ensemble import RandomForestClassifier\n",
    "from sklearn.ensemble import VotingClassifier\n",
    "from sklearn.feature_extraction.text import CountVectorizer\n",
    "from sklearn.feature_extraction.text import TfidfVectorizer\n",
    "from sklearn.feature_selection import chi2\n",
    "from sklearn.feature_selection import f_regression\n",
    "from sklearn.feature_selection import f_classif\n",
    "from sklearn.feature_selection import RFE\n",
    "from sklearn.feature_selection import SelectFromModel\n",
    "from sklearn.feature_selection import SelectKBest\n",
    "from sklearn.feature_selection import SelectPercentile\n",
    "from sklearn.linear_model import ElasticNet\n",
    "from sklearn.linear_model import Lasso\n",
    "from sklearn.linear_model import LogisticRegression\n",
    "from sklearn.linear_model import LinearRegression\n",
    "from sklearn.linear_model import Ridge\n",
    "from sklearn.metrics import accuracy_score\n",
    "from sklearn.metrics import auc\n",
    "from sklearn.metrics import classification_report\n",
    "from sklearn.metrics import confusion_matrix\n",
    "from sklearn.metrics import f1_score\n",
    "from sklearn.metrics import mean_squared_error\n",
    "from sklearn.metrics import mean_absolute_error\n",
    "from sklearn.metrics import precision_score\n",
    "from sklearn.metrics import precision_recall_fscore_support as error_metric\n",
    "from sklearn.metrics import r2_score\n",
    "from sklearn.metrics import recall_score\n",
    "from sklearn.metrics import roc_auc_score\n",
    "from sklearn.metrics import roc_curve\n",
    "from sklearn.model_selection import GridSearchCV\n",
    "from sklearn.model_selection import RandomizedSearchCV\n",
    "from sklearn.model_selection import train_test_split\n",
    "from sklearn.multiclass import OneVsRestClassifier\n",
    "from sklearn.naive_bayes import MultinomialNB\n",
    "from sklearn.pipeline import make_pipeline\n",
    "from sklearn.preprocessing import LabelEncoder\n",
    "from sklearn.preprocessing import MinMaxScaler\n",
    "from sklearn.preprocessing import StandardScaler\n",
    "from sklearn.svm import LinearSVC\n",
    "from sklearn.svm import LinearSVC\n",
    "from sklearn.svm import SVC\n",
    "from sklearn.tree import DecisionTreeClassifier\n",
    "from sklearn.tree import DecisionTreeRegressor\n",
    "from sklearn.tree import plot_tree\n",
    "\n",
    "from string import punctuation\n",
    "\n",
    "from textblob import TextBlob\n",
    "\n",
    "from vaderSentiment.vaderSentiment import SentimentIntensityAnalyzer\n",
    "\n",
    "from wordcloud import WordCloud\n",
    "from wordcloud import STOPWORDS\n",
    "\n",
    "from xgboost import XGBClassifier\n",
    "from xgboost import XGBRegressor\n",
    "\n",
    "warnings.filterwarnings('ignore')\n",
    "np.set_printoptions(threshold=sys.maxsize)"
   ]
  },
  {
   "cell_type": "code",
   "execution_count": 2,
   "metadata": {},
   "outputs": [],
   "source": [
    "def plot_auc(y_test, y_pred):\n",
    "    fpr, tpr, threshold = roc_curve(y_test, y_pred)\n",
    "    roc_auc = auc(fpr, tpr)\n",
    "    plt.figure(figsize=(10,10))\n",
    "    plt.title('Receiver Operating Characteristic')\n",
    "    plt.plot(fpr, tpr, 'b', label = 'AUC = %0.2f' % roc_auc)\n",
    "    plt.legend(loc = 'lower right')\n",
    "    plt.plot([0, 1], [0, 1],'r--')\n",
    "    plt.xlim([0, 1])\n",
    "    plt.ylim([0, 1])\n",
    "    plt.ylabel('True Positive Rate')\n",
    "    plt.xlabel('False Positive Rate')\n",
    "    plt.show()\n",
    "    \n",
    "def get_results_df(gscv_model,):\n",
    "    # Creating a dictionary out of the GridSearchCV results\n",
    "    results_dict = {}\n",
    "    results = gscv_model.cv_results_\n",
    "    \n",
    "    for key in results.keys():\n",
    "        if type(results[key]) == np.ndarray:\n",
    "            results_dict[key] = list(results[key])\n",
    "            \n",
    "        elif type(results[key]) == np.ma.core.MaskedArray:\n",
    "            results_dict[key] = list(results[key])\n",
    "            \n",
    "        elif type(results[key]) == list:\n",
    "            pass\n",
    "        else:\n",
    "            print(\"Unkown type encountered\")\n",
    "        \n",
    "    return_df = pd.DataFrame(data=results_dict,)\n",
    "    \n",
    "    if return_df.isnull().sum().max() > 0:\n",
    "        print(\"Incorrect model training values have been omitted\")\n",
    "        print(\"{0} values\".format(return_df.isnull().sum().max()))\n",
    "    return_df.dropna(axis=0, inplace=True)\n",
    "    \n",
    "    return return_df\n",
    "\n",
    "def get_scores(model, X_test, y_test,):\n",
    "    y_pred = model.best_estimator_.predict(X_test,)\n",
    "    print(\"Accuracy: {0}\".format(accuracy_score(y_test, y_pred,)))\n",
    "    print(\"\\n\")\n",
    "    print(\"Recall: {0}\".format(recall_score(y_test, y_pred,)))\n",
    "    print(\"Precision: {0}\".format(precision_score(y_test, y_pred,)))\n",
    "    print(\"F1 Score: {0}\".format(f1_score(y_test, y_pred,)))\n",
    "    print(\"\\n\")\n",
    "    print(\"ROC AUC: {0}\".format(roc_auc_score(y_test, y_pred,)))\n",
    "    print(\"\\n\")\n",
    "    print(\"Confusion Matrix: \\n{0}\".format(confusion_matrix(y_test, y_pred,)))\n",
    "    print(\"\\n\")\n",
    "    print(\"Classification Report: \\n{0}\".format(classification_report(y_test, y_pred,)))\n",
    "    plot_auc(y_test, y_pred)\n",
    "    \n",
    "def plot_learning_curve(estimator, title, X, y, ylim=None, cv=None,\n",
    "                        n_jobs=-1, train_sizes=np.linspace(.1, 1.0, 5)):\n",
    "    \"\"\"Generate a simple plot of the test and training learning curve\"\"\"\n",
    "    plt.figure()\n",
    "    plt.title(title)\n",
    "    if ylim is not None:\n",
    "        plt.ylim(*ylim)\n",
    "    plt.xlabel(\"Training examples\")\n",
    "    plt.ylabel(\"Score\")\n",
    "    train_sizes, train_scores, test_scores = learning_curve(\n",
    "        estimator, X, y, cv=cv, n_jobs=n_jobs, train_sizes=train_sizes)\n",
    "    train_scores_mean = np.mean(train_scores, axis=1)\n",
    "    train_scores_std = np.std(train_scores, axis=1)\n",
    "    test_scores_mean = np.mean(test_scores, axis=1)\n",
    "    test_scores_std = np.std(test_scores, axis=1)\n",
    "    plt.grid()\n",
    "\n",
    "    plt.fill_between(train_sizes, train_scores_mean - train_scores_std,\n",
    "                     train_scores_mean + train_scores_std, alpha=0.1,\n",
    "                     color=\"r\")\n",
    "    plt.fill_between(train_sizes, test_scores_mean - test_scores_std,\n",
    "                     test_scores_mean + test_scores_std, alpha=0.1, color=\"g\")\n",
    "    plt.plot(train_sizes, train_scores_mean, 'o-', color=\"r\",\n",
    "             label=\"Training score\")\n",
    "    plt.plot(train_sizes, test_scores_mean, 'o-', color=\"g\",\n",
    "             label=\"Cross-validation score\")\n",
    "\n",
    "    plt.legend(loc=\"best\")\n",
    "    return plt"
   ]
  },
  {
   "cell_type": "code",
   "execution_count": 3,
   "metadata": {},
   "outputs": [],
   "source": [
    "data = pd.read_csv('processed data/data_for_training.csv', index_col=0)"
   ]
  },
  {
   "cell_type": "code",
   "execution_count": 4,
   "metadata": {},
   "outputs": [],
   "source": [
    "test_set = data[ data['Survived'].isnull() ].copy()\n",
    "test_set.drop(columns=['Survived'], axis=1, inplace=True)"
   ]
  },
  {
   "cell_type": "code",
   "execution_count": 5,
   "metadata": {},
   "outputs": [],
   "source": [
    "train_set = data[ data['Survived'].notnull() ].copy()"
   ]
  },
  {
   "cell_type": "markdown",
   "metadata": {},
   "source": [
    "## Training Pipeline"
   ]
  },
  {
   "cell_type": "code",
   "execution_count": 6,
   "metadata": {},
   "outputs": [],
   "source": [
    "X, y = train_set.drop('Survived', axis=1, inplace=False), train_set['Survived'].copy()"
   ]
  },
  {
   "cell_type": "code",
   "execution_count": 7,
   "metadata": {},
   "outputs": [],
   "source": [
    "X_train, X_test, y_train, y_test = train_test_split(X, y, test_size=0.3,\n",
    "                                                   stratify=y, random_state=4)"
   ]
  },
  {
   "cell_type": "code",
   "execution_count": 8,
   "metadata": {},
   "outputs": [],
   "source": [
    "y_train = y_train.astype(int)\n",
    "y_test = y_test.astype(int)"
   ]
  },
  {
   "cell_type": "markdown",
   "metadata": {},
   "source": [
    "### Logistic Regression"
   ]
  },
  {
   "cell_type": "code",
   "execution_count": 9,
   "metadata": {},
   "outputs": [],
   "source": [
    "# file_name = 'trained models/lr1.pickle'\n",
    "\n",
    "# hyperparameters = {\n",
    "#     'penalty': ['l1', 'l2', 'elasticnet', 'None'],\n",
    "#     'C': [0.05, 0.25, 0.7, 1, 2,],\n",
    "#     'class_weight': ['balanced', {0:1, 1:5,}],\n",
    "#     'solver': ['newton-cg', 'lbfgs', 'liblinear', 'sag', 'saga'],\n",
    "#     'max_iter':[1000, 5000,],\n",
    "#     'n_jobs': [-1],\n",
    "#     'l1_ratio': [0.25, 0.4, 0.5, 0.6, 0.75,],\n",
    "# }\n",
    "\n",
    "# scoring = \"roc_auc\"\n",
    "\n",
    "# model = GridSearchCV(LogisticRegression(random_state=44), hyperparameters, cv=10, \n",
    "#                      verbose=1, scoring=scoring, \n",
    "#                      n_jobs=-1, return_train_score=True)\n",
    "\n",
    "# try:\n",
    "#     with open(file_name, 'rb') as handle:\n",
    "#         model = pickle.load(handle)\n",
    "#     print(\"Found trained model file with same name. Loading it instead.\")\n",
    "    \n",
    "# except:\n",
    "#     start_time = time.time()\n",
    "\n",
    "#     model.fit(X_train, y_train,)\n",
    "\n",
    "#     time_taken_s = np.around(time.time()-start_time, decimals=2,)\n",
    "#     time_taken_m = time_taken_s/60  \n",
    "#     print('Total Time taken = {0} seconds \\nIn minutes: {1}'.format(time_taken_s, time_taken_m,))\n",
    "\n",
    "#     with open(file_name, 'wb') as handle:\n",
    "#         pickle.dump(model, handle, protocol=pickle.HIGHEST_PROTOCOL)"
   ]
  },
  {
   "cell_type": "code",
   "execution_count": 10,
   "metadata": {},
   "outputs": [],
   "source": [
    "# get_results_df(model)"
   ]
  },
  {
   "cell_type": "code",
   "execution_count": 11,
   "metadata": {},
   "outputs": [],
   "source": [
    "# get_scores(model, X_test, y_test,)"
   ]
  },
  {
   "cell_type": "code",
   "execution_count": 12,
   "metadata": {},
   "outputs": [],
   "source": [
    "# results = pd.Series(model.best_estimator_.predict(test_set)).to_frame()"
   ]
  },
  {
   "cell_type": "code",
   "execution_count": 13,
   "metadata": {},
   "outputs": [],
   "source": [
    "# results = pd.DataFrame({\n",
    "#     'PassengerId': test_set.index,\n",
    "#     'Survived': model.best_estimator_.predict(test_set)})\n",
    "# results.to_csv('lr1.csv', index=False)"
   ]
  },
  {
   "cell_type": "markdown",
   "metadata": {},
   "source": [
    "# Other Pipeline"
   ]
  },
  {
   "cell_type": "code",
   "execution_count": 14,
   "metadata": {},
   "outputs": [],
   "source": [
    "from sklearn.model_selection import StratifiedKFold\n",
    "from sklearn.neural_network import MLPClassifier\n",
    "from sklearn.neighbors import KNeighborsClassifier\n",
    "from sklearn.discriminant_analysis import LinearDiscriminantAnalysis\n",
    "from sklearn.model_selection import cross_val_score\n",
    "from sklearn.model_selection import learning_curve"
   ]
  },
  {
   "cell_type": "code",
   "execution_count": 15,
   "metadata": {},
   "outputs": [],
   "source": [
    "# Cross validate model with Kfold stratified cross val\n",
    "kfold = StratifiedKFold(n_splits=10)"
   ]
  },
  {
   "cell_type": "code",
   "execution_count": 16,
   "metadata": {},
   "outputs": [],
   "source": [
    "# Modeling step Test differents algorithms \n",
    "random_state = 44\n",
    "classifiers = []\n",
    "\n",
    "classifiers.append( LogisticRegression( random_state = random_state))\n",
    "classifiers.append( DecisionTreeClassifier( random_state = random_state))\n",
    "classifiers.append( RandomForestClassifier( random_state = random_state))\n",
    "classifiers.append( ExtraTreesClassifier( random_state = random_state))\n",
    "classifiers.append( KNeighborsClassifier())\n",
    "classifiers.append( SVC( random_state = random_state))\n",
    "classifiers.append( AdaBoostClassifier( DecisionTreeClassifier( random_state= random_state), \n",
    "                                       random_state = random_state, learning_rate=0.1))\n",
    "classifiers.append( GradientBoostingClassifier( random_state = random_state))\n",
    "classifiers.append( MLPClassifier( random_state = random_state))\n",
    "classifiers.append( LinearDiscriminantAnalysis())\n",
    "classifiers.append( XGBClassifier( random_state = random_state))"
   ]
  },
  {
   "cell_type": "code",
   "execution_count": 17,
   "metadata": {},
   "outputs": [],
   "source": [
    "cv_results = []\n",
    "for classifier in classifiers :\n",
    "    cv_results.append(cross_val_score(classifier, X_train, y=y_train, \n",
    "                                      scoring=\"roc_auc\", cv=kfold, \n",
    "                                      n_jobs=4))"
   ]
  },
  {
   "cell_type": "code",
   "execution_count": 18,
   "metadata": {},
   "outputs": [],
   "source": [
    "cv_means = []\n",
    "cv_std = []\n",
    "\n",
    "for cv_result in cv_results:\n",
    "    cv_means.append(cv_result.mean())\n",
    "    cv_std.append(cv_result.std())\n",
    "\n",
    "cv_res = pd.DataFrame({\"CrossValMeans\": cv_means,\n",
    "                       \"CrossValerrors\": cv_std,\n",
    "                       \"Algorithm\":[\"LogisticRegression\",\n",
    "                                    \"DecisionTree\",\n",
    "                                    \"RandomForest\",\n",
    "                                    \"ExtraTrees\",\n",
    "                                    \"KNeighboors\",\n",
    "                                    \"SVC\",\n",
    "                                    \"AdaBoost\",\n",
    "                                    \"GradientBoosting\",\n",
    "                                    \"MultipleLayerPerceptron\",\n",
    "                                    \"LinearDiscriminantAnalysis\",\n",
    "                                    \"XGBClassifier\"],\n",
    "                      })\n",
    "\n",
    "# cv_res = cv_res.sort_values(by='CrossValMeans')\n",
    "# cv_res = cv_res.sort_values(by='CrossValerrors')"
   ]
  },
  {
   "cell_type": "code",
   "execution_count": 19,
   "metadata": {},
   "outputs": [
    {
     "data": {
      "text/plain": [
       "0     0.033479\n",
       "4     0.034111\n",
       "8     0.038027\n",
       "2     0.038119\n",
       "7     0.038771\n",
       "9     0.038972\n",
       "10    0.042068\n",
       "1     0.042770\n",
       "5     0.043548\n",
       "3     0.046763\n",
       "6     0.055189\n",
       "Name: CrossValerrors, dtype: float64"
      ]
     },
     "execution_count": 19,
     "metadata": {},
     "output_type": "execute_result"
    }
   ],
   "source": [
    "cv_res['CrossValerrors'].sort_values()"
   ]
  },
  {
   "cell_type": "code",
   "execution_count": 20,
   "metadata": {},
   "outputs": [
    {
     "data": {
      "text/plain": [
       "Text(0.5, 0, 'Mean AUROC Curve')"
      ]
     },
     "execution_count": 20,
     "metadata": {},
     "output_type": "execute_result"
    },
    {
     "data": {
      "image/png": "[encoded data removed]",
      "text/plain": [
       "<Figure size 432x288 with 1 Axes>"
      ]
     },
     "metadata": {
      "needs_background": "light"
     },
     "output_type": "display_data"
    }
   ],
   "source": [
    "figure = sns.barplot(\"CrossValMeans\", \"Algorithm\", data=cv_res, palette=\"Set3\", \n",
    "                orient=\"h\", **{'xerr':cv_std})\n",
    "figure.set_xlabel(\"Mean AUROC Curve\")\n",
    "figure = figure.set_title(\"Cross validation scores\")"
   ]
  },
  {
   "cell_type": "markdown",
   "metadata": {},
   "source": [
    "#### Choosing the following models due to their consistency and high accuracy/low error\n",
    "* 2 Random Forest\n",
    "* 3 Extra Trees\n",
    "* 5 SVC\n",
    "* 7 Gradient Boosting\n",
    "* 8 Multi Layer Perceptron"
   ]
  },
  {
   "cell_type": "code",
   "execution_count": 21,
   "metadata": {},
   "outputs": [],
   "source": [
    "trained_models = {}"
   ]
  },
  {
   "cell_type": "markdown",
   "metadata": {},
   "source": [
    "#### Random Forest"
   ]
  },
  {
   "cell_type": "code",
   "execution_count": 22,
   "metadata": {},
   "outputs": [
    {
     "name": "stdout",
     "output_type": "stream",
     "text": [
      "Found trained model file with same name. Loading it instead.\n"
     ]
    }
   ],
   "source": [
    "scoring_ = \"roc_auc\"\n",
    "\n",
    "file_name = \"trained models/random_forest_1.pickle\"\n",
    "\n",
    "model = RandomForestClassifier( random_state = 44 )\n",
    "\n",
    "hyperparameters = {\"max_depth\": [None],\n",
    "                   \"max_features\": [1, 3, 10],\n",
    "                   \"min_samples_split\": [2, 3, 10],\n",
    "                   \"min_samples_leaf\": [1, 3, 10],\n",
    "                   \"bootstrap\": [False],\n",
    "                   \"n_estimators\": [100, 300],\n",
    "                   \"criterion\": [\"gini\"],\n",
    "                  }\n",
    "\n",
    "gscv_model = GridSearchCV(model, param_grid=hyperparameters, \n",
    "                          cv=10, scoring=scoring_, \n",
    "                          n_jobs=-1, verbose=1,\n",
    "                          return_train_score=True)\n",
    "\n",
    "try:\n",
    "    with open(file_name, 'rb') as handle:\n",
    "        gscv_model = pickle.load(handle)\n",
    "    print(\"Found trained model file with same name. Loading it instead.\")\n",
    "    \n",
    "except:\n",
    "    gscv_model.fit(X_train, y_train)\n",
    "    with open(file_name, 'wb') as handle:\n",
    "        pickle.dump(gscv_model, handle, protocol=pickle.HIGHEST_PROTOCOL)\n",
    "            \n",
    "trained_models[f'{file_name}'] = (scoring_, hyperparameters, gscv_model.best_estimator_)"
   ]
  },
  {
   "cell_type": "markdown",
   "metadata": {},
   "source": [
    "#### Extra Trees"
   ]
  },
  {
   "cell_type": "code",
   "execution_count": 23,
   "metadata": {},
   "outputs": [
    {
     "name": "stdout",
     "output_type": "stream",
     "text": [
      "Found trained model file with same name. Loading it instead.\n"
     ]
    }
   ],
   "source": [
    "scoring_ = \"roc_auc\"\n",
    "\n",
    "file_name = \"trained models/extra_trees_1.pickle\"\n",
    "\n",
    "model = ExtraTreesClassifier( random_state = 44 )\n",
    "\n",
    "hyperparameters = {\"max_depth\": [None],\n",
    "                   \"max_features\": [1, 3, 10],\n",
    "                   \"min_samples_split\": [2, 3, 10],\n",
    "                   \"min_samples_leaf\": [1, 3, 10],\n",
    "                   \"bootstrap\": [False],\n",
    "                   \"n_estimators\": [100, 300],\n",
    "                   \"criterion\": [\"gini\"],\n",
    "                  }\n",
    "\n",
    "gscv_model = GridSearchCV(model, param_grid=hyperparameters, \n",
    "                          cv=10, scoring=scoring_, \n",
    "                          n_jobs=-1, verbose=1,\n",
    "                          return_train_score=True)\n",
    "\n",
    "try:\n",
    "    with open(file_name, 'rb') as handle:\n",
    "        gscv_model = pickle.load(handle)\n",
    "    print(\"Found trained model file with same name. Loading it instead.\")\n",
    "    \n",
    "except:\n",
    "    gscv_model.fit(X_train, y_train)\n",
    "    with open(file_name, 'wb') as handle:\n",
    "        pickle.dump(gscv_model, handle, protocol=pickle.HIGHEST_PROTOCOL)\n",
    "            \n",
    "trained_models[f'{file_name}'] = (scoring_, hyperparameters, gscv_model.best_estimator_)"
   ]
  },
  {
   "cell_type": "markdown",
   "metadata": {},
   "source": [
    "#### SVC"
   ]
  },
  {
   "cell_type": "code",
   "execution_count": 24,
   "metadata": {},
   "outputs": [
    {
     "name": "stdout",
     "output_type": "stream",
     "text": [
      "Found trained model file with same name. Loading it instead.\n"
     ]
    }
   ],
   "source": [
    "scoring_ = \"roc_auc\"\n",
    "\n",
    "file_name = \"trained models/svc_2.pickle\"\n",
    "\n",
    "model = SVC( random_state = 44, probability=True)\n",
    "\n",
    "hyperparameters = {'kernel': ['rbf'], \n",
    "                  'gamma': [0.001, 0.01, 0.1, 1],\n",
    "                  'C': [1, 10, 50, 100, 200, 300, 1000],\n",
    "                  }\n",
    "\n",
    "gscv_model = GridSearchCV(model, param_grid=hyperparameters, \n",
    "                          cv=10, scoring=scoring_, \n",
    "                          n_jobs=-1, verbose=1,\n",
    "                          return_train_score=True)\n",
    "\n",
    "try:\n",
    "    with open(file_name, 'rb') as handle:\n",
    "        gscv_model = pickle.load(handle)\n",
    "    print(\"Found trained model file with same name. Loading it instead.\")\n",
    "    \n",
    "except:\n",
    "    gscv_model.fit(X_train, y_train)\n",
    "    with open(file_name, 'wb') as handle:\n",
    "        pickle.dump(gscv_model, handle, protocol=pickle.HIGHEST_PROTOCOL)\n",
    "            \n",
    "trained_models[f'{file_name}'] = (scoring_, hyperparameters, gscv_model.best_estimator_)"
   ]
  },
  {
   "cell_type": "markdown",
   "metadata": {},
   "source": [
    "#### Gradient Boosting"
   ]
  },
  {
   "cell_type": "code",
   "execution_count": 25,
   "metadata": {},
   "outputs": [
    {
     "name": "stdout",
     "output_type": "stream",
     "text": [
      "Found trained model file with same name. Loading it instead.\n"
     ]
    }
   ],
   "source": [
    "scoring_ = \"roc_auc\"\n",
    "\n",
    "file_name = \"trained models/gb_1.pickle\"\n",
    "\n",
    "model = GradientBoostingClassifier( random_state = 44 )\n",
    "\n",
    "hyperparameters = {'loss': ['deviance'],\n",
    "                   'n_estimators': [100, 200, 300],\n",
    "                   'learning_rate': [0.1, 0.05, 0.01],\n",
    "                   'max_depth': [4, 8],\n",
    "                   'min_samples_leaf': [100, 150],\n",
    "                   'max_features': [0.3, 0.1],\n",
    "                  }\n",
    "\n",
    "gscv_model = GridSearchCV(model, param_grid=hyperparameters, \n",
    "                          cv=10, scoring=scoring_, \n",
    "                          n_jobs=-1, verbose=1,\n",
    "                          return_train_score=True)\n",
    "\n",
    "try:\n",
    "    with open(file_name, 'rb') as handle:\n",
    "        gscv_model = pickle.load(handle)\n",
    "    print(\"Found trained model file with same name. Loading it instead.\")\n",
    "    \n",
    "except:\n",
    "    gscv_model.fit(X_train, y_train)\n",
    "    with open(file_name, 'wb') as handle:\n",
    "        pickle.dump(gscv_model, handle, protocol=pickle.HIGHEST_PROTOCOL)\n",
    "            \n",
    "trained_models[f'{file_name}'] = (scoring_, hyperparameters, gscv_model.best_estimator_)"
   ]
  },
  {
   "cell_type": "markdown",
   "metadata": {},
   "source": [
    "#### Multi Layer Perceptron"
   ]
  },
  {
   "cell_type": "code",
   "execution_count": 26,
   "metadata": {},
   "outputs": [
    {
     "name": "stdout",
     "output_type": "stream",
     "text": [
      "Found trained model file with same name. Loading it instead.\n"
     ]
    }
   ],
   "source": [
    "scoring_ = \"roc_auc\"\n",
    "\n",
    "file_name = \"trained models/ml_perceptron_1.pickle\"\n",
    "\n",
    "model = MLPClassifier( random_state = 44 )\n",
    "\n",
    "hyperparameters = {'hidden_layer_sizes': [2, 10, 25, 50, 100, 200],\n",
    "                   'activation': ['identity'],\n",
    "                   'solver': ['lbfgs'],\n",
    "                   'alpha': [0.01, 0.001, 0.0001, 0.0005],\n",
    "                   'learning_rate_init': [0.001, 0.01, 0.0001],\n",
    "                   'max_iter': [200, 500],\n",
    "                   'verbose': [True],\n",
    "                  }\n",
    "\n",
    "gscv_model = GridSearchCV(model, param_grid=hyperparameters, \n",
    "                          cv=10, scoring=scoring_, \n",
    "                          n_jobs=-1, verbose=1,\n",
    "                          return_train_score=True)\n",
    "\n",
    "try:\n",
    "    with open(file_name, 'rb') as handle:\n",
    "        gscv_model = pickle.load(handle)\n",
    "    print(\"Found trained model file with same name. Loading it instead.\")\n",
    "    \n",
    "except:\n",
    "    gscv_model.fit(X_train, y_train)\n",
    "    with open(file_name, 'wb') as handle:\n",
    "        pickle.dump(gscv_model, handle, protocol=pickle.HIGHEST_PROTOCOL)\n",
    "            \n",
    "trained_models[f'{file_name}'] = (scoring_, hyperparameters, gscv_model.best_estimator_)"
   ]
  },
  {
   "cell_type": "markdown",
   "metadata": {},
   "source": [
    "#### Learning curves\n",
    "\n",
    "Learning curves are a good way to see the overfitting effect on the training set and the effect of the training size on the accuracy."
   ]
  },
  {
   "cell_type": "code",
   "execution_count": 2,
   "metadata": {},
   "outputs": [
    {
     "ename": "NameError",
     "evalue": "name 'trained_models' is not defined",
     "output_type": "error",
     "traceback": [
      "\u001b[1;31m---------------------------------------------------------------------------\u001b[0m",
      "\u001b[1;31mNameError\u001b[0m                                 Traceback (most recent call last)",
      "\u001b[1;32m<ipython-input-2-5efd6dc7c49b>\u001b[0m in \u001b[0;36m<module>\u001b[1;34m\u001b[0m\n\u001b[1;32m----> 1\u001b[1;33m \u001b[1;32mfor\u001b[0m \u001b[0mkey\u001b[0m \u001b[1;32min\u001b[0m \u001b[0mtrained_models\u001b[0m\u001b[1;33m:\u001b[0m\u001b[1;33m\u001b[0m\u001b[1;33m\u001b[0m\u001b[0m\n\u001b[0m\u001b[0;32m      2\u001b[0m     figure = plot_learning_curve(trained_models[key][2], key,\n\u001b[0;32m      3\u001b[0m                                  X_train, y_train, cv=10)\n",
      "\u001b[1;31mNameError\u001b[0m: name 'trained_models' is not defined"
     ]
    }
   ],
   "source": [
    "for key in trained_models:\n",
    "    figure = plot_learning_curve(trained_models[key][2], key,\n",
    "                                 X_train, y_train, cv=10)"
   ]
  },
  {
   "cell_type": "markdown",
   "metadata": {},
   "source": [
    "#### Feature importance using tree based classifiers"
   ]
  },
  {
   "cell_type": "code",
   "execution_count": 28,
   "metadata": {},
   "outputs": [
    {
     "data": {
      "image/png": "[encoded data removed]",
      "text/plain": [
       "<Figure size 720x2160 with 3 Axes>"
      ]
     },
     "metadata": {
      "needs_background": "light"
     },
     "output_type": "display_data"
    }
   ],
   "source": [
    "fig, axes = plt.subplots(nrows = 3, ncols = 1, sharex=\"all\", figsize=(10, 30))\n",
    "\n",
    "names_classifiers = [(\"ExtraTrees\", trained_models[\"trained models/extra_trees_1.pickle\"][2]),\n",
    "                     (\"GradientBoosting\", trained_models[\"trained models/gb_1.pickle\"][2]),\n",
    "                     (\"RandomForest\", trained_models[\"trained models/random_forest_1.pickle\"][2])]\n",
    "\n",
    "for row in range(0, 3):\n",
    "    name = names_classifiers[row][0]\n",
    "    classifier = names_classifiers[row][1]\n",
    "    indices = np.argsort(classifier.feature_importances_)[::-1][:40]\n",
    "    \n",
    "    figure = sns.barplot(x = classifier.feature_importances_[indices][:40],\n",
    "                         y = X_train.columns[indices][:40],\n",
    "                         orient='h', ax=axes[row])\n",
    "    _ = figure.set_xlabel(\"Relative importance\", fontsize=12)\n",
    "    _ = figure.set_ylabel(\"Features\", fontsize=12)\n",
    "    _ = figure.tick_params(labelsize=9)\n",
    "    _ = figure.set_title(name + \" feature importance\")"
   ]
  },
  {
   "cell_type": "markdown",
   "metadata": {},
   "source": [
    "#### Collinearity among classifiers"
   ]
  },
  {
   "cell_type": "code",
   "execution_count": 29,
   "metadata": {},
   "outputs": [
    {
     "data": {
      "text/html": [
       "<div>\n",
       "<style scoped>\n",
       "    .dataframe tbody tr th:only-of-type {\n",
       "        vertical-align: middle;\n",
       "    }\n",
       "\n",
       "    .dataframe tbody tr th {\n",
       "        vertical-align: top;\n",
       "    }\n",
       "\n",
       "    .dataframe thead th {\n",
       "        text-align: right;\n",
       "    }\n",
       "</style>\n",
       "<table border=\"1\" class=\"dataframe\">\n",
       "  <thead>\n",
       "    <tr style=\"text-align: right;\">\n",
       "      <th></th>\n",
       "      <th>Age</th>\n",
       "      <th>Fare Individual</th>\n",
       "      <th>CDensity</th>\n",
       "      <th>CD2LF Pop</th>\n",
       "      <th>CD2LF Distr</th>\n",
       "      <th>Pclass_1</th>\n",
       "      <th>Pclass_2</th>\n",
       "      <th>Pclass_3</th>\n",
       "      <th>Pclass_4</th>\n",
       "      <th>Sex_female</th>\n",
       "      <th>...</th>\n",
       "      <th>Ticket Shared With_4</th>\n",
       "      <th>Ticket Shared With_5</th>\n",
       "      <th>Cabin Shared With_1.0</th>\n",
       "      <th>Cabin Shared With_2.0</th>\n",
       "      <th>Cabin Shared With_3.0</th>\n",
       "      <th>Cabin Shared With_4.0</th>\n",
       "      <th>Family Size_1</th>\n",
       "      <th>Family Size_2</th>\n",
       "      <th>Family Size_3</th>\n",
       "      <th>Family Size_4</th>\n",
       "    </tr>\n",
       "    <tr>\n",
       "      <th>PassengerId</th>\n",
       "      <th></th>\n",
       "      <th></th>\n",
       "      <th></th>\n",
       "      <th></th>\n",
       "      <th></th>\n",
       "      <th></th>\n",
       "      <th></th>\n",
       "      <th></th>\n",
       "      <th></th>\n",
       "      <th></th>\n",
       "      <th></th>\n",
       "      <th></th>\n",
       "      <th></th>\n",
       "      <th></th>\n",
       "      <th></th>\n",
       "      <th></th>\n",
       "      <th></th>\n",
       "      <th></th>\n",
       "      <th></th>\n",
       "      <th></th>\n",
       "      <th></th>\n",
       "    </tr>\n",
       "  </thead>\n",
       "  <tbody>\n",
       "    <tr>\n",
       "      <th>892</th>\n",
       "      <td>16.051605</td>\n",
       "      <td>2.857390</td>\n",
       "      <td>3.100000</td>\n",
       "      <td>2.980769</td>\n",
       "      <td>1.953125</td>\n",
       "      <td>0</td>\n",
       "      <td>0</td>\n",
       "      <td>1</td>\n",
       "      <td>0</td>\n",
       "      <td>0</td>\n",
       "      <td>...</td>\n",
       "      <td>0</td>\n",
       "      <td>0</td>\n",
       "      <td>0</td>\n",
       "      <td>0</td>\n",
       "      <td>0</td>\n",
       "      <td>0</td>\n",
       "      <td>1</td>\n",
       "      <td>0</td>\n",
       "      <td>0</td>\n",
       "      <td>0</td>\n",
       "    </tr>\n",
       "    <tr>\n",
       "      <th>893</th>\n",
       "      <td>20.604838</td>\n",
       "      <td>2.651764</td>\n",
       "      <td>2.373239</td>\n",
       "      <td>2.553812</td>\n",
       "      <td>2.178697</td>\n",
       "      <td>0</td>\n",
       "      <td>0</td>\n",
       "      <td>0</td>\n",
       "      <td>1</td>\n",
       "      <td>1</td>\n",
       "      <td>...</td>\n",
       "      <td>0</td>\n",
       "      <td>0</td>\n",
       "      <td>0</td>\n",
       "      <td>0</td>\n",
       "      <td>0</td>\n",
       "      <td>0</td>\n",
       "      <td>0</td>\n",
       "      <td>1</td>\n",
       "      <td>0</td>\n",
       "      <td>0</td>\n",
       "    </tr>\n",
       "    <tr>\n",
       "      <th>894</th>\n",
       "      <td>25.431894</td>\n",
       "      <td>3.268326</td>\n",
       "      <td>1.709877</td>\n",
       "      <td>2.193922</td>\n",
       "      <td>1.683063</td>\n",
       "      <td>0</td>\n",
       "      <td>1</td>\n",
       "      <td>0</td>\n",
       "      <td>0</td>\n",
       "      <td>0</td>\n",
       "      <td>...</td>\n",
       "      <td>0</td>\n",
       "      <td>0</td>\n",
       "      <td>0</td>\n",
       "      <td>0</td>\n",
       "      <td>0</td>\n",
       "      <td>0</td>\n",
       "      <td>1</td>\n",
       "      <td>0</td>\n",
       "      <td>0</td>\n",
       "      <td>0</td>\n",
       "    </tr>\n",
       "    <tr>\n",
       "      <th>895</th>\n",
       "      <td>13.396400</td>\n",
       "      <td>3.048341</td>\n",
       "      <td>3.100000</td>\n",
       "      <td>2.980769</td>\n",
       "      <td>1.953125</td>\n",
       "      <td>0</td>\n",
       "      <td>0</td>\n",
       "      <td>1</td>\n",
       "      <td>0</td>\n",
       "      <td>0</td>\n",
       "      <td>...</td>\n",
       "      <td>0</td>\n",
       "      <td>0</td>\n",
       "      <td>0</td>\n",
       "      <td>0</td>\n",
       "      <td>0</td>\n",
       "      <td>0</td>\n",
       "      <td>1</td>\n",
       "      <td>0</td>\n",
       "      <td>0</td>\n",
       "      <td>0</td>\n",
       "    </tr>\n",
       "    <tr>\n",
       "      <th>896</th>\n",
       "      <td>11.378487</td>\n",
       "      <td>2.419911</td>\n",
       "      <td>2.373239</td>\n",
       "      <td>2.553812</td>\n",
       "      <td>2.178697</td>\n",
       "      <td>0</td>\n",
       "      <td>0</td>\n",
       "      <td>0</td>\n",
       "      <td>1</td>\n",
       "      <td>1</td>\n",
       "      <td>...</td>\n",
       "      <td>0</td>\n",
       "      <td>0</td>\n",
       "      <td>0</td>\n",
       "      <td>0</td>\n",
       "      <td>0</td>\n",
       "      <td>0</td>\n",
       "      <td>0</td>\n",
       "      <td>1</td>\n",
       "      <td>0</td>\n",
       "      <td>0</td>\n",
       "    </tr>\n",
       "    <tr>\n",
       "      <th>...</th>\n",
       "      <td>...</td>\n",
       "      <td>...</td>\n",
       "      <td>...</td>\n",
       "      <td>...</td>\n",
       "      <td>...</td>\n",
       "      <td>...</td>\n",
       "      <td>...</td>\n",
       "      <td>...</td>\n",
       "      <td>...</td>\n",
       "      <td>...</td>\n",
       "      <td>...</td>\n",
       "      <td>...</td>\n",
       "      <td>...</td>\n",
       "      <td>...</td>\n",
       "      <td>...</td>\n",
       "      <td>...</td>\n",
       "      <td>...</td>\n",
       "      <td>...</td>\n",
       "      <td>...</td>\n",
       "      <td>...</td>\n",
       "      <td>...</td>\n",
       "    </tr>\n",
       "    <tr>\n",
       "      <th>1305</th>\n",
       "      <td>16.417590</td>\n",
       "      <td>2.909327</td>\n",
       "      <td>3.100000</td>\n",
       "      <td>2.980769</td>\n",
       "      <td>1.953125</td>\n",
       "      <td>0</td>\n",
       "      <td>0</td>\n",
       "      <td>1</td>\n",
       "      <td>0</td>\n",
       "      <td>0</td>\n",
       "      <td>...</td>\n",
       "      <td>0</td>\n",
       "      <td>0</td>\n",
       "      <td>0</td>\n",
       "      <td>0</td>\n",
       "      <td>0</td>\n",
       "      <td>0</td>\n",
       "      <td>1</td>\n",
       "      <td>0</td>\n",
       "      <td>0</td>\n",
       "      <td>0</td>\n",
       "    </tr>\n",
       "    <tr>\n",
       "      <th>1306</th>\n",
       "      <td>17.852984</td>\n",
       "      <td>6.502459</td>\n",
       "      <td>0.776442</td>\n",
       "      <td>1.058785</td>\n",
       "      <td>2.704327</td>\n",
       "      <td>1</td>\n",
       "      <td>0</td>\n",
       "      <td>0</td>\n",
       "      <td>0</td>\n",
       "      <td>1</td>\n",
       "      <td>...</td>\n",
       "      <td>0</td>\n",
       "      <td>0</td>\n",
       "      <td>1</td>\n",
       "      <td>0</td>\n",
       "      <td>0</td>\n",
       "      <td>0</td>\n",
       "      <td>1</td>\n",
       "      <td>0</td>\n",
       "      <td>0</td>\n",
       "      <td>0</td>\n",
       "    </tr>\n",
       "    <tr>\n",
       "      <th>1307</th>\n",
       "      <td>17.498220</td>\n",
       "      <td>2.715410</td>\n",
       "      <td>3.100000</td>\n",
       "      <td>2.980769</td>\n",
       "      <td>1.953125</td>\n",
       "      <td>0</td>\n",
       "      <td>0</td>\n",
       "      <td>1</td>\n",
       "      <td>0</td>\n",
       "      <td>0</td>\n",
       "      <td>...</td>\n",
       "      <td>0</td>\n",
       "      <td>0</td>\n",
       "      <td>0</td>\n",
       "      <td>0</td>\n",
       "      <td>0</td>\n",
       "      <td>0</td>\n",
       "      <td>1</td>\n",
       "      <td>0</td>\n",
       "      <td>0</td>\n",
       "      <td>0</td>\n",
       "    </tr>\n",
       "    <tr>\n",
       "      <th>1308</th>\n",
       "      <td>23.226181</td>\n",
       "      <td>2.909327</td>\n",
       "      <td>3.100000</td>\n",
       "      <td>2.980769</td>\n",
       "      <td>1.953125</td>\n",
       "      <td>0</td>\n",
       "      <td>0</td>\n",
       "      <td>1</td>\n",
       "      <td>0</td>\n",
       "      <td>0</td>\n",
       "      <td>...</td>\n",
       "      <td>0</td>\n",
       "      <td>0</td>\n",
       "      <td>0</td>\n",
       "      <td>0</td>\n",
       "      <td>0</td>\n",
       "      <td>0</td>\n",
       "      <td>1</td>\n",
       "      <td>0</td>\n",
       "      <td>0</td>\n",
       "      <td>0</td>\n",
       "    </tr>\n",
       "    <tr>\n",
       "      <th>1309</th>\n",
       "      <td>7.368286</td>\n",
       "      <td>2.765234</td>\n",
       "      <td>2.373239</td>\n",
       "      <td>2.553812</td>\n",
       "      <td>2.178697</td>\n",
       "      <td>0</td>\n",
       "      <td>0</td>\n",
       "      <td>0</td>\n",
       "      <td>1</td>\n",
       "      <td>0</td>\n",
       "      <td>...</td>\n",
       "      <td>0</td>\n",
       "      <td>0</td>\n",
       "      <td>0</td>\n",
       "      <td>0</td>\n",
       "      <td>0</td>\n",
       "      <td>0</td>\n",
       "      <td>0</td>\n",
       "      <td>1</td>\n",
       "      <td>0</td>\n",
       "      <td>0</td>\n",
       "    </tr>\n",
       "  </tbody>\n",
       "</table>\n",
       "<p>418 rows × 30 columns</p>\n",
       "</div>"
      ],
      "text/plain": [
       "                   Age  Fare Individual  CDensity  CD2LF Pop  CD2LF Distr  \\\n",
       "PassengerId                                                                 \n",
       "892          16.051605         2.857390  3.100000   2.980769     1.953125   \n",
       "893          20.604838         2.651764  2.373239   2.553812     2.178697   \n",
       "894          25.431894         3.268326  1.709877   2.193922     1.683063   \n",
       "895          13.396400         3.048341  3.100000   2.980769     1.953125   \n",
       "896          11.378487         2.419911  2.373239   2.553812     2.178697   \n",
       "...                ...              ...       ...        ...          ...   \n",
       "1305         16.417590         2.909327  3.100000   2.980769     1.953125   \n",
       "1306         17.852984         6.502459  0.776442   1.058785     2.704327   \n",
       "1307         17.498220         2.715410  3.100000   2.980769     1.953125   \n",
       "1308         23.226181         2.909327  3.100000   2.980769     1.953125   \n",
       "1309          7.368286         2.765234  2.373239   2.553812     2.178697   \n",
       "\n",
       "             Pclass_1  Pclass_2  Pclass_3  Pclass_4  Sex_female  ...  \\\n",
       "PassengerId                                                      ...   \n",
       "892                 0         0         1         0           0  ...   \n",
       "893                 0         0         0         1           1  ...   \n",
       "894                 0         1         0         0           0  ...   \n",
       "895                 0         0         1         0           0  ...   \n",
       "896                 0         0         0         1           1  ...   \n",
       "...               ...       ...       ...       ...         ...  ...   \n",
       "1305                0         0         1         0           0  ...   \n",
       "1306                1         0         0         0           1  ...   \n",
       "1307                0         0         1         0           0  ...   \n",
       "1308                0         0         1         0           0  ...   \n",
       "1309                0         0         0         1           0  ...   \n",
       "\n",
       "             Ticket Shared With_4  Ticket Shared With_5  \\\n",
       "PassengerId                                               \n",
       "892                             0                     0   \n",
       "893                             0                     0   \n",
       "894                             0                     0   \n",
       "895                             0                     0   \n",
       "896                             0                     0   \n",
       "...                           ...                   ...   \n",
       "1305                            0                     0   \n",
       "1306                            0                     0   \n",
       "1307                            0                     0   \n",
       "1308                            0                     0   \n",
       "1309                            0                     0   \n",
       "\n",
       "             Cabin Shared With_1.0  Cabin Shared With_2.0  \\\n",
       "PassengerId                                                 \n",
       "892                              0                      0   \n",
       "893                              0                      0   \n",
       "894                              0                      0   \n",
       "895                              0                      0   \n",
       "896                              0                      0   \n",
       "...                            ...                    ...   \n",
       "1305                             0                      0   \n",
       "1306                             1                      0   \n",
       "1307                             0                      0   \n",
       "1308                             0                      0   \n",
       "1309                             0                      0   \n",
       "\n",
       "             Cabin Shared With_3.0  Cabin Shared With_4.0  Family Size_1  \\\n",
       "PassengerId                                                                \n",
       "892                              0                      0              1   \n",
       "893                              0                      0              0   \n",
       "894                              0                      0              1   \n",
       "895                              0                      0              1   \n",
       "896                              0                      0              0   \n",
       "...                            ...                    ...            ...   \n",
       "1305                             0                      0              1   \n",
       "1306                             0                      0              1   \n",
       "1307                             0                      0              1   \n",
       "1308                             0                      0              1   \n",
       "1309                             0                      0              0   \n",
       "\n",
       "             Family Size_2  Family Size_3  Family Size_4  \n",
       "PassengerId                                               \n",
       "892                      0              0              0  \n",
       "893                      1              0              0  \n",
       "894                      0              0              0  \n",
       "895                      0              0              0  \n",
       "896                      1              0              0  \n",
       "...                    ...            ...            ...  \n",
       "1305                     0              0              0  \n",
       "1306                     0              0              0  \n",
       "1307                     0              0              0  \n",
       "1308                     0              0              0  \n",
       "1309                     1              0              0  \n",
       "\n",
       "[418 rows x 30 columns]"
      ]
     },
     "execution_count": 29,
     "metadata": {},
     "output_type": "execute_result"
    }
   ],
   "source": [
    "test_set"
   ]
  },
  {
   "cell_type": "code",
   "execution_count": 30,
   "metadata": {},
   "outputs": [
    {
     "data": {
      "image/png": "[encoded data removed]",
      "text/plain": [
       "<Figure size 432x288 with 2 Axes>"
      ]
     },
     "metadata": {
      "needs_background": "light"
     },
     "output_type": "display_data"
    }
   ],
   "source": [
    "y_pred = {}\n",
    "\n",
    "for key in trained_models:\n",
    "    y_pred[key] = pd.Series(trained_models[key][2].predict(test_set),\n",
    "                           name=key.split('/')[1].split('.')[0])\n",
    "\n",
    "# Concatenate all classifier results\n",
    "ensemble_results = pd.concat([y_pred[key] for key in y_pred],\n",
    "                             axis=1)\n",
    "\n",
    "figure = sns.heatmap(ensemble_results.corr(), annot=True)"
   ]
  },
  {
   "cell_type": "markdown",
   "metadata": {},
   "source": [
    "#### Ensemble Method\n",
    "\n",
    "I choosed a voting classifier to combine the predictions coming from the 5 classifiers.\n",
    "I preferred to pass the argument \"soft\" to the voting parameter to take into account the probability of each vote."
   ]
  },
  {
   "cell_type": "markdown",
   "metadata": {},
   "source": [
    "* 2 Random Forest\n",
    "* 3 Extra Trees\n",
    "* 5 SVC\n",
    "* 7 Gradient Boosting\n",
    "* 8 Multi Layer Perceptron"
   ]
  },
  {
   "cell_type": "code",
   "execution_count": 31,
   "metadata": {},
   "outputs": [
    {
     "data": {
      "text/plain": [
       "VotingClassifier(estimators=[('random_forest_1',\n",
       "                              RandomForestClassifier(bootstrap=False,\n",
       "                                                     ccp_alpha=0.0,\n",
       "                                                     class_weight=None,\n",
       "                                                     criterion='gini',\n",
       "                                                     max_depth=None,\n",
       "                                                     max_features=3,\n",
       "                                                     max_leaf_nodes=None,\n",
       "                                                     max_samples=None,\n",
       "                                                     min_impurity_decrease=0.0,\n",
       "                                                     min_impurity_split=None,\n",
       "                                                     min_samples_leaf=3,\n",
       "                                                     min_samples_split=10,\n",
       "                                                     min_weight_fraction_leaf=0.0,\n",
       "                                                     n_estimators=300,\n",
       "                                                     n_jobs=None...\n",
       "                                            epsilon=1e-08,\n",
       "                                            hidden_layer_sizes=100,\n",
       "                                            learning_rate='constant',\n",
       "                                            learning_rate_init=0.001,\n",
       "                                            max_fun=15000, max_iter=200,\n",
       "                                            momentum=0.9, n_iter_no_change=10,\n",
       "                                            nesterovs_momentum=True,\n",
       "                                            power_t=0.5, random_state=44,\n",
       "                                            shuffle=True, solver='lbfgs',\n",
       "                                            tol=0.0001, validation_fraction=0.1,\n",
       "                                            verbose=True, warm_start=False))],\n",
       "                 flatten_transform=True, n_jobs=4, voting='soft', weights=None)"
      ]
     },
     "execution_count": 31,
     "metadata": {},
     "output_type": "execute_result"
    }
   ],
   "source": [
    "voting_model = VotingClassifier(estimators=[ (key.split('/')[1].split('.')[0],\n",
    "                                             trained_models[key][2])\n",
    "                                             for key in trained_models ], \n",
    "                                voting='soft', n_jobs=4)\n",
    "\n",
    "voting_model.fit(X_train, y_train)"
   ]
  },
  {
   "cell_type": "markdown",
   "metadata": {},
   "source": [
    "#### Final Prediction"
   ]
  },
  {
   "cell_type": "code",
   "execution_count": 32,
   "metadata": {},
   "outputs": [
    {
     "data": {
      "text/plain": [
       "0       892\n",
       "1       893\n",
       "2       894\n",
       "3       895\n",
       "4       896\n",
       "       ... \n",
       "413    1305\n",
       "414    1306\n",
       "415    1307\n",
       "416    1308\n",
       "417    1309\n",
       "Name: PassengerId, Length: 418, dtype: int64"
      ]
     },
     "execution_count": 32,
     "metadata": {},
     "output_type": "execute_result"
    }
   ],
   "source": [
    "test_set.reset_index()['PassengerId']"
   ]
  },
  {
   "cell_type": "code",
   "execution_count": 36,
   "metadata": {},
   "outputs": [],
   "source": [
    "y_pred_final = pd.Series(voting_model.predict(test_set), name=\"Survived\")\n",
    "\n",
    "index_series = data[ data['Survived'].isnull() ].index\n",
    "\n",
    "results = pd.concat([test_set.reset_index()['PassengerId'], y_pred_final], \n",
    "                    axis=1)\n",
    "\n",
    "results.to_csv(\"final_prediction.csv\", index=False)"
   ]
  }
 ],
 "metadata": {
  "kernelspec": {
   "display_name": "Python 3",
   "language": "python",
   "name": "python3"
  },
  "language_info": {
   "codemirror_mode": {
    "name": "ipython",
    "version": 3
   },
   "file_extension": ".py",
   "mimetype": "text/x-python",
   "name": "python",
   "nbconvert_exporter": "python",
   "pygments_lexer": "ipython3",
   "version": "3.6.10"
  }
 },
 "nbformat": 4,
 "nbformat_minor": 4
}
